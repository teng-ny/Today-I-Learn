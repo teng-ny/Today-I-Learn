{
 "cells": [
  {
   "cell_type": "markdown",
   "id": "21649c00",
   "metadata": {},
   "source": [
    "## MinMaxScaler"
   ]
  },
  {
   "cell_type": "code",
   "execution_count": 2,
   "id": "4605e815",
   "metadata": {},
   "outputs": [],
   "source": [
    "import pandas as pd\n",
    "import numpy as np"
   ]
  },
  {
   "cell_type": "code",
   "execution_count": 3,
   "id": "c68a48c3",
   "metadata": {},
   "outputs": [],
   "source": [
    "dataset=pd.read_csv(\"pima-indians-diabetes.csv\", header=None)\n",
    "dataset[[1,2,3,4,5]]=dataset[[1,2,3,4,5]].replace(0, np.nan)\n",
    "dataset.dropna(inplace=True)"
   ]
  },
  {
   "cell_type": "code",
   "execution_count": 5,
   "id": "666522fa",
   "metadata": {},
   "outputs": [],
   "source": [
    "#열(2,5)->혈압 및 BMI데이터에 초점\n",
    "datablbm=dataset[{2,5}]"
   ]
  },
  {
   "cell_type": "code",
   "execution_count": 7,
   "id": "1010395f",
   "metadata": {},
   "outputs": [],
   "source": [
    "from sklearn.preprocessing import MinMaxScaler\n",
    "minmax=MinMaxScaler()\n",
    "\n",
    "#fit&transform\n",
    "minmax.fit(datablbm)\n",
    "blbmmm=minmax.transform(datablbm)"
   ]
  },
  {
   "cell_type": "code",
   "execution_count": 8,
   "id": "3539baef",
   "metadata": {},
   "outputs": [
    {
     "name": "stdout",
     "output_type": "stream",
     "text": [
      "                0           1\n",
      "count  392.000000  392.000000\n",
      "mean     0.542596    0.304422\n",
      "std      0.145303    0.143715\n",
      "min      0.000000    0.000000\n",
      "25%      0.441860    0.208589\n",
      "50%      0.534884    0.306748\n",
      "75%      0.627907    0.386503\n",
      "max      1.000000    1.000000\n"
     ]
    }
   ],
   "source": [
    "#데이터프레임 형식으로 바꿈\n",
    "blbm=pd.DataFrame(blbmmm)\n",
    "print(blbm.describe())"
   ]
  },
  {
   "cell_type": "markdown",
   "id": "6b4e396d",
   "metadata": {},
   "source": [
    "## Standard Scaler"
   ]
  },
  {
   "cell_type": "code",
   "execution_count": 12,
   "id": "eefdaa11",
   "metadata": {},
   "outputs": [],
   "source": [
    "dataset=pd.read_csv(\"pima-indians-diabetes.csv\", header=None)\n",
    "dataset[[1,2,3,4,5]]=dataset[[1,2,3,4,5]].replace(0, np.nan)\n",
    "dataset.dropna(inplace=True)\n",
    "#열(2,5)->혈압 및 BMI데이터에 초점\n",
    "datablbm=dataset[{2,5}]"
   ]
  },
  {
   "cell_type": "code",
   "execution_count": 13,
   "id": "c917dcfb",
   "metadata": {},
   "outputs": [],
   "source": [
    "from sklearn.preprocessing import StandardScaler\n",
    "stand=StandardScaler()\n",
    "stand.fit(datablbm)\n",
    "blbmst=stand.transform(datablbm)"
   ]
  },
  {
   "cell_type": "code",
   "execution_count": 14,
   "id": "13aa51d7",
   "metadata": {},
   "outputs": [
    {
     "name": "stdout",
     "output_type": "stream",
     "text": [
      "                  0             1\n",
      "count  3.920000e+02  3.920000e+02\n",
      "mean  -4.641624e-16  1.543550e-16\n",
      "std    1.001278e+00  1.001278e+00\n",
      "min   -3.739001e+00 -2.120941e+00\n",
      "25%   -6.941640e-01 -6.676780e-01\n",
      "50%   -5.314565e-02  1.621036e-02\n",
      "75%    5.878727e-01  5.718696e-01\n",
      "max    3.151946e+00  4.846172e+00\n"
     ]
    }
   ],
   "source": [
    "#데이터프레임 형식으로 바꿈\n",
    "blbm2=pd.DataFrame(blbmst)\n",
    "print(blbm2.describe())"
   ]
  },
  {
   "cell_type": "markdown",
   "id": "bc9791cf",
   "metadata": {},
   "source": [
    "## 새로운 속성 구성하기"
   ]
  },
  {
   "cell_type": "code",
   "execution_count": 4,
   "id": "bffbade4",
   "metadata": {},
   "outputs": [
    {
     "name": "stderr",
     "output_type": "stream",
     "text": [
      "C:\\Users\\taeeu\\anaconda3\\lib\\site-packages\\numpy\\_distributor_init.py:30: UserWarning: loaded more than 1 DLL from .libs:\n",
      "C:\\Users\\taeeu\\anaconda3\\lib\\site-packages\\numpy\\.libs\\libopenblas.el2c6ple4zyw3eceviv3oxxgrn2nrfm2.gfortran-win_amd64.dll\n",
      "C:\\Users\\taeeu\\anaconda3\\lib\\site-packages\\numpy\\.libs\\libopenblas.WCDJNK7YVMPZQ2ME2ZZHJJRJ3JIKNDB7.gfortran-win_amd64.dll\n",
      "  warnings.warn(\"loaded more than 1 DLL from .libs:\"\n"
     ]
    },
    {
     "name": "stdout",
     "output_type": "stream",
     "text": [
      "<class 'pandas.core.frame.DataFrame'>\n",
      "RangeIndex: 10000 entries, 0 to 9999\n",
      "Data columns (total 3 columns):\n",
      " #   Column  Non-Null Count  Dtype  \n",
      "---  ------  --------------  -----  \n",
      " 0   Gender  10000 non-null  object \n",
      " 1   Height  10000 non-null  float64\n",
      " 2   Weight  10000 non-null  float64\n",
      "dtypes: float64(2), object(1)\n",
      "memory usage: 234.5+ KB\n",
      "None\n",
      "  Gender     Height      Weight\n",
      "0   Male  73.847017  241.893563\n",
      "1   Male  68.781904  162.310473\n",
      "2   Male  74.110105  212.740856\n",
      "3   Male  71.730978  220.042470\n",
      "4   Male  69.881796  206.349801\n"
     ]
    }
   ],
   "source": [
    "import pandas as pd\n",
    "heiwei=pd.read_csv(\"weight-height.csv\")\n",
    "print(heiwei.info())\n",
    "print(heiwei.head(5))"
   ]
  },
  {
   "cell_type": "code",
   "execution_count": 5,
   "id": "78ac90b0",
   "metadata": {},
   "outputs": [],
   "source": [
    "# Height(meter)와 Weight(kg)의 단위를 바꿔줌!\n",
    "heiwei['Heightc']=2.54*heiwei['Height']/100\n",
    "heiwei['Weightk']=0.453592*heiwei['Weight']"
   ]
  },
  {
   "cell_type": "code",
   "execution_count": 6,
   "id": "9f2fe3e2",
   "metadata": {},
   "outputs": [],
   "source": [
    "# 새로운 컬럼을 생성해줌\n",
    "heiwei['BMI']=heiwei['Weightk']/(heiwei['Heightc']**2)"
   ]
  },
  {
   "cell_type": "code",
   "execution_count": 7,
   "id": "4081018c",
   "metadata": {},
   "outputs": [
    {
     "name": "stdout",
     "output_type": "stream",
     "text": [
      "<class 'pandas.core.frame.DataFrame'>\n",
      "RangeIndex: 10000 entries, 0 to 9999\n",
      "Data columns (total 6 columns):\n",
      " #   Column   Non-Null Count  Dtype  \n",
      "---  ------   --------------  -----  \n",
      " 0   Gender   10000 non-null  object \n",
      " 1   Height   10000 non-null  float64\n",
      " 2   Weight   10000 non-null  float64\n",
      " 3   Heightc  10000 non-null  float64\n",
      " 4   Weightk  10000 non-null  float64\n",
      " 5   BMI      10000 non-null  float64\n",
      "dtypes: float64(5), object(1)\n",
      "memory usage: 468.9+ KB\n",
      "None\n"
     ]
    }
   ],
   "source": [
    "print(heiwei.info())"
   ]
  },
  {
   "cell_type": "markdown",
   "id": "6856a985",
   "metadata": {},
   "source": [
    "## 더 큰 단위로 집계하기"
   ]
  },
  {
   "cell_type": "code",
   "execution_count": 24,
   "id": "dcda6209",
   "metadata": {
    "scrolled": true
   },
   "outputs": [
    {
     "name": "stdout",
     "output_type": "stream",
     "text": [
      "<class 'pandas.core.frame.DataFrame'>\n",
      "RangeIndex: 2106 entries, 0 to 2105\n",
      "Data columns (total 13 columns):\n",
      " #   Column        Non-Null Count  Dtype  \n",
      "---  ------        --------------  -----  \n",
      " 0   datum         2106 non-null   object \n",
      " 1   M01AB         2106 non-null   float64\n",
      " 2   M01AE         2106 non-null   float64\n",
      " 3   N02BA         2106 non-null   float64\n",
      " 4   N02BE         2106 non-null   float64\n",
      " 5   N05B          2106 non-null   float64\n",
      " 6   N05C          2106 non-null   float64\n",
      " 7   R03           2106 non-null   float64\n",
      " 8   R06           2106 non-null   float64\n",
      " 9   Year          2106 non-null   int64  \n",
      " 10  Month         2106 non-null   int64  \n",
      " 11  Hour          2106 non-null   int64  \n",
      " 12  Weekday Name  2106 non-null   object \n",
      "dtypes: float64(8), int64(3), object(2)\n",
      "memory usage: 214.0+ KB\n",
      "None\n",
      "<class 'pandas.core.frame.DataFrame'>\n",
      "RangeIndex: 2106 entries, 0 to 2105\n",
      "Data columns (total 13 columns):\n",
      " #   Column        Non-Null Count  Dtype         \n",
      "---  ------        --------------  -----         \n",
      " 0   datum         2106 non-null   datetime64[ns]\n",
      " 1   M01AB         2106 non-null   float64       \n",
      " 2   M01AE         2106 non-null   float64       \n",
      " 3   N02BA         2106 non-null   float64       \n",
      " 4   N02BE         2106 non-null   float64       \n",
      " 5   N05B          2106 non-null   float64       \n",
      " 6   N05C          2106 non-null   float64       \n",
      " 7   R03           2106 non-null   float64       \n",
      " 8   R06           2106 non-null   float64       \n",
      " 9   Year          2106 non-null   int64         \n",
      " 10  Month         2106 non-null   int64         \n",
      " 11  Hour          2106 non-null   int64         \n",
      " 12  Weekday Name  2106 non-null   object        \n",
      "dtypes: datetime64[ns](1), float64(8), int64(3), object(1)\n",
      "memory usage: 214.0+ KB\n",
      "None\n"
     ]
    }
   ],
   "source": [
    "# 일일 약국 파냄 데이터를 월별, 분기별, 연간 판매 데이터로 변환\n",
    "sales=pd.read_csv('salesdaily.csv')\n",
    "print(sales.info())\n",
    "\n",
    "# 데이터 세트의 데이터를 날짜 형식으로 변경\n",
    "sales['datum']=pd.to_datetime(sales['datum'])\n",
    "print(sales.info())\n",
    "\n",
    "# datum을 인덱스로 설정\n",
    "sales.set_index('datum', inplace=True)"
   ]
  },
  {
   "cell_type": "code",
   "execution_count": 25,
   "id": "59779324",
   "metadata": {},
   "outputs": [],
   "source": [
    "# 월별, 분기별, 연도별로 다시 샘플링\n",
    "salesm=sales.resample('M').sum() #월\n",
    "salesq=sales.resample('Q').sum() #분기\n",
    "salesa=sales.resample('A').sum() #연도"
   ]
  },
  {
   "cell_type": "code",
   "execution_count": 28,
   "id": "e15d467e",
   "metadata": {},
   "outputs": [
    {
     "name": "stdout",
     "output_type": "stream",
     "text": [
      "월별 :              M01AB    M01AE    N02BA     N02BE   N05B  N05C         R03  \\\n",
      "datum                                                                     \n",
      "2014-01-31  127.69   99.090  152.100   878.030  354.0  30.0  112.000000   \n",
      "2014-02-28  133.32  126.050  177.000  1001.900  347.0  31.0  122.000000   \n",
      "2014-03-31  137.44   92.950  147.655   779.275  232.0  20.0  112.000000   \n",
      "2014-04-30  113.10   89.475  125.150   698.500  209.0  18.0   97.000000   \n",
      "2014-05-31  101.79  119.933  132.100   628.780  270.0  23.0  107.000000   \n",
      "...            ...      ...      ...       ...    ...   ...         ...   \n",
      "2019-06-30  151.54  101.627  103.200   610.000  193.0  25.0  142.000000   \n",
      "2019-07-31  181.00  103.541   92.800   620.675  250.6  20.0  115.000000   \n",
      "2019-08-31  181.91   88.269   84.200   518.100  237.0  26.0  145.000000   \n",
      "2019-09-30  161.07  111.437   93.500   984.480  227.8  16.0  121.416667   \n",
      "2019-10-31   44.37   37.300   20.650   295.150   86.0   7.0   37.000000   \n",
      "\n",
      "               R06   Year  Month  Hour  \n",
      "datum                                   \n",
      "2014-01-31   48.20  60420     30  8252  \n",
      "2014-02-28   36.20  56392     56  7728  \n",
      "2014-03-31   85.40  62434     93  8556  \n",
      "2014-04-30   73.70  60420    120  8280  \n",
      "2014-05-31  123.70  62434    155  8556  \n",
      "...            ...    ...    ...   ...  \n",
      "2019-06-30  156.04  60570    180  8280  \n",
      "2019-07-31  105.20  62589    217  8556  \n",
      "2019-08-31   97.30  62589    248  8556  \n",
      "2019-09-30  109.10  60570    270  8280  \n",
      "2019-10-31   11.13  16152     80  2122  \n",
      "\n",
      "[70 rows x 11 columns]\n",
      "분기별 :                  M01AB       M01AE       N02BA        N02BE         N05B  \\\n",
      "datum                                                                      \n",
      "2014-03-31  398.450000  318.090000  476.755000  2659.205000   933.000000   \n",
      "2014-06-30  326.960000  304.118000  380.150000  1875.505000   802.000000   \n",
      "2014-09-30  350.630000  303.884000  365.200000  1927.070000  1167.000000   \n",
      "2014-12-31  371.175000  331.012313  394.361500  2812.596875  1413.062500   \n",
      "2015-03-31  407.660000  383.475000  406.630000  3082.342000   914.000000   \n",
      "2015-06-30  466.390000  333.922000  403.600000  2421.483000   603.000000   \n",
      "2015-09-30  523.520000  392.451000  369.300000  2351.741000   712.000000   \n",
      "2015-12-31  498.050000  386.755000  429.100000  4067.659000   736.000000   \n",
      "2016-03-31  502.100000  431.519000  455.100000  3851.886000   737.000000   \n",
      "2016-06-30  503.640000  382.348000  396.000000  2755.537000   827.500000   \n",
      "2016-09-30  578.618333  381.612000  387.300000  2457.444333   822.500000   \n",
      "2016-12-31  522.926667  393.962000  416.816667  4270.712667   751.333333   \n",
      "2017-03-31  504.742083  387.385333  421.495833  2722.735833   787.541667   \n",
      "2017-06-30  421.600000  322.346000  299.050000  1584.240000   443.000000   \n",
      "2017-09-30  458.775000  347.387000  247.750000  1892.400000   681.000000   \n",
      "2017-12-31  461.500000  330.180000  320.000000  3059.429000   644.000000   \n",
      "2018-03-31  406.800000  354.014000  338.100000  3388.822000   878.000000   \n",
      "2018-06-30  471.720000  325.471000  260.800000  2032.278000   796.000000   \n",
      "2018-09-30  443.700000  362.260000  261.950000  2471.450000   799.000000   \n",
      "2018-12-31  464.710000  347.911000  262.950000  3338.375000   793.200000   \n",
      "2019-03-31  467.950000  444.919000  293.250000  3602.874000   846.000000   \n",
      "2019-06-30  480.970000  299.050000  295.400000  1961.212000   758.200000   \n",
      "2019-09-30  523.980000  303.247000  270.500000  2123.255000   715.400000   \n",
      "2019-12-31   44.370000   37.300000   20.650000   295.150000    86.000000   \n",
      "\n",
      "                 N05C         R03       R06    Year  Month   Hour  \n",
      "datum                                                              \n",
      "2014-03-31  81.000000  346.000000  169.8000  179246    179  24536  \n",
      "2014-06-30  64.000000  261.000000  306.7000  183274    455  25116  \n",
      "2014-09-30  64.000000  213.000000  198.7000  185288    735  25392  \n",
      "2014-12-31  63.625000  435.000000  125.2875  185288   1012  25392  \n",
      "2015-03-31  46.000000  555.250000  143.0000  181350    180  24840  \n",
      "2015-06-30  27.000000  390.000000  397.3000  183365    455  25116  \n",
      "2015-09-30  32.000000  196.000000  285.0000  185380    735  25392  \n",
      "2015-12-31  54.000000  580.000000  157.7300  185380   1012  25392  \n",
      "2016-03-31  57.000000  672.000000  212.3400  183456    182  25116  \n",
      "2016-06-30  56.000000  474.000000  434.3000  183456    455  25116  \n",
      "2016-09-30  38.000000  346.000000  271.4300  185472    735  25392  \n",
      "2016-12-31  56.000000  645.000000  147.0000  185472   1012  25392  \n",
      "2017-03-31  54.333333  445.739583  199.9500  181530    180  24840  \n",
      "2017-06-30  40.000000  471.875000  436.1100  183547    455  25116  \n",
      "2017-09-30  50.000000  329.000000  208.1000  185564    735  25392  \n",
      "2017-12-31  36.000000  647.000000  144.7000  185564   1012  25392  \n",
      "2018-03-31  65.000000  712.250000  174.0600  181620    180  24840  \n",
      "2018-06-30  45.000000  497.000000  530.9400  183638    455  25116  \n",
      "2018-09-30  51.000000  454.000000  313.4000  185656    735  25392  \n",
      "2018-12-31  74.000000  992.000000  178.4000  185656   1012  25392  \n",
      "2019-03-31  54.000000  869.000000  280.3000  181710    180  24840  \n",
      "2019-06-30  73.000000  659.291667  470.5400  183729    455  25116  \n",
      "2019-09-30  62.000000  381.416667  311.6000  185748    735  25392  \n",
      "2019-12-31   7.000000   37.000000   11.1300   16152     80   2122  \n",
      "연도별 :                   M01AB        M01AE        N02BA         N02BE         N05B  \\\n",
      "datum                                                                          \n",
      "2014-12-31  1447.215000  1257.104312  1616.466500   9274.376875  4315.062500   \n",
      "2015-12-31  1895.620000  1496.603000  1608.630000  11923.225000  2965.000000   \n",
      "2016-12-31  2107.285000  1589.441000  1655.216667  13335.580000  3138.333333   \n",
      "2017-12-31  1846.617083  1387.298333  1288.295833   9258.804833  2555.541667   \n",
      "2018-12-31  1786.930000  1389.656000  1123.800000  11230.925000  3266.200000   \n",
      "2019-12-31  1517.270000  1084.516000   879.800000   7982.491000  2405.600000   \n",
      "\n",
      "                  N05C          R03        R06    Year  Month    Hour  \n",
      "datum                                                                  \n",
      "2014-12-31  272.625000  1255.000000   800.4875  733096   2381  100436  \n",
      "2015-12-31  159.000000  1721.250000   983.0300  735475   2382  100740  \n",
      "2016-12-31  207.000000  2137.000000  1065.0700  737856   2384  101016  \n",
      "2017-12-31  180.333333  1893.614583   988.8600  736205   2382  100740  \n",
      "2018-12-31  235.000000  2655.250000  1196.8000  736570   2382  100740  \n",
      "2019-12-31  196.000000  1946.708333  1073.5700  567339   1450   77470  \n"
     ]
    }
   ],
   "source": [
    "print(\"월별 :\", salesm)\n",
    "print(\"분기별 :\", salesq)\n",
    "print(\"연도별 :\", salesa)"
   ]
  }
 ],
 "metadata": {
  "kernelspec": {
   "display_name": "Python 3 (ipykernel)",
   "language": "python",
   "name": "python3"
  },
  "language_info": {
   "codemirror_mode": {
    "name": "ipython",
    "version": 3
   },
   "file_extension": ".py",
   "mimetype": "text/x-python",
   "name": "python",
   "nbconvert_exporter": "python",
   "pygments_lexer": "ipython3",
   "version": "3.8.5"
  }
 },
 "nbformat": 4,
 "nbformat_minor": 5
}
