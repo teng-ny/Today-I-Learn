{
 "cells": [
  {
   "cell_type": "code",
   "execution_count": 1,
   "id": "48239027",
   "metadata": {},
   "outputs": [
    {
     "name": "stderr",
     "output_type": "stream",
     "text": [
      "C:\\Users\\taeeu\\anaconda3\\lib\\site-packages\\numpy\\_distributor_init.py:30: UserWarning: loaded more than 1 DLL from .libs:\n",
      "C:\\Users\\taeeu\\anaconda3\\lib\\site-packages\\numpy\\.libs\\libopenblas.el2c6ple4zyw3eceviv3oxxgrn2nrfm2.gfortran-win_amd64.dll\n",
      "C:\\Users\\taeeu\\anaconda3\\lib\\site-packages\\numpy\\.libs\\libopenblas.WCDJNK7YVMPZQ2ME2ZZHJJRJ3JIKNDB7.gfortran-win_amd64.dll\n",
      "  warnings.warn(\"loaded more than 1 DLL from .libs:\"\n"
     ]
    }
   ],
   "source": [
    "from pandas import read_csv"
   ]
  },
  {
   "cell_type": "code",
   "execution_count": 2,
   "id": "19dcaac4",
   "metadata": {},
   "outputs": [],
   "source": [
    "dataset=read_csv('pima-indians-diabetes.csv', header=None)"
   ]
  },
  {
   "cell_type": "code",
   "execution_count": 3,
   "id": "ad81c8fe",
   "metadata": {},
   "outputs": [
    {
     "name": "stdout",
     "output_type": "stream",
     "text": [
      "                0           1           2           3           4           5  \\\n",
      "count  768.000000  768.000000  768.000000  768.000000  768.000000  768.000000   \n",
      "mean     3.845052  120.894531   69.105469   20.536458   79.799479   31.992578   \n",
      "std      3.369578   31.972618   19.355807   15.952218  115.244002    7.884160   \n",
      "min      0.000000    0.000000    0.000000    0.000000    0.000000    0.000000   \n",
      "25%      1.000000   99.000000   62.000000    0.000000    0.000000   27.300000   \n",
      "50%      3.000000  117.000000   72.000000   23.000000   30.500000   32.000000   \n",
      "75%      6.000000  140.250000   80.000000   32.000000  127.250000   36.600000   \n",
      "max     17.000000  199.000000  122.000000   99.000000  846.000000   67.100000   \n",
      "\n",
      "                6           7           8  \n",
      "count  768.000000  768.000000  768.000000  \n",
      "mean     0.471876   33.240885    0.348958  \n",
      "std      0.331329   11.760232    0.476951  \n",
      "min      0.078000   21.000000    0.000000  \n",
      "25%      0.243750   24.000000    0.000000  \n",
      "50%      0.372500   29.000000    0.000000  \n",
      "75%      0.626250   41.000000    1.000000  \n",
      "max      2.420000   81.000000    1.000000  \n"
     ]
    }
   ],
   "source": [
    "print(dataset.describe())\n",
    "#0은 결측치 인데 min값이 0으로 확인됨"
   ]
  },
  {
   "cell_type": "markdown",
   "id": "83803c85",
   "metadata": {},
   "source": [
    "## 결측치 확인"
   ]
  },
  {
   "cell_type": "code",
   "execution_count": 4,
   "id": "7f188fff",
   "metadata": {},
   "outputs": [
    {
     "name": "stdout",
     "output_type": "stream",
     "text": [
      "1      5\n",
      "2     35\n",
      "3    227\n",
      "4    374\n",
      "5     11\n",
      "dtype: int64\n"
     ]
    }
   ],
   "source": [
    "num_missing=(dataset[[1,2,3,4,5]]==0).sum()\n",
    "print(num_missing)"
   ]
  },
  {
   "cell_type": "code",
   "execution_count": 5,
   "id": "19636247",
   "metadata": {},
   "outputs": [
    {
     "name": "stdout",
     "output_type": "stream",
     "text": [
      "    0    1   2   3    4     5      6   7  8\n",
      "0   6  148  72  35    0  33.6  0.627  50  1\n",
      "1   1   85  66  29    0  26.6  0.351  31  0\n",
      "2   8  183  64   0    0  23.3  0.672  32  1\n",
      "3   1   89  66  23   94  28.1  0.167  21  0\n",
      "4   0  137  40  35  168  43.1  2.288  33  1\n",
      "5   5  116  74   0    0  25.6  0.201  30  0\n",
      "6   3   78  50  32   88  31.0  0.248  26  1\n",
      "7  10  115   0   0    0  35.3  0.134  29  0\n",
      "8   2  197  70  45  543  30.5  0.158  53  1\n",
      "9   8  125  96   0    0   0.0  0.232  54  1\n",
      "    0      1     2     3      4     5      6   7  8\n",
      "0   6  148.0  72.0  35.0    NaN  33.6  0.627  50  1\n",
      "1   1   85.0  66.0  29.0    NaN  26.6  0.351  31  0\n",
      "2   8  183.0  64.0   NaN    NaN  23.3  0.672  32  1\n",
      "3   1   89.0  66.0  23.0   94.0  28.1  0.167  21  0\n",
      "4   0  137.0  40.0  35.0  168.0  43.1  2.288  33  1\n",
      "5   5  116.0  74.0   NaN    NaN  25.6  0.201  30  0\n",
      "6   3   78.0  50.0  32.0   88.0  31.0  0.248  26  1\n",
      "7  10  115.0   NaN   NaN    NaN  35.3  0.134  29  0\n",
      "8   2  197.0  70.0  45.0  543.0  30.5  0.158  53  1\n",
      "9   8  125.0  96.0   NaN    NaN   NaN  0.232  54  1\n"
     ]
    }
   ],
   "source": [
    "import numpy as np\n",
    "dataset=read_csv('pima-indians-diabetes.csv', header=None)\n",
    "datasetorig=dataset.copy()\n",
    "dataset[[1,2,3,4,5]]=dataset[[1,2,3,4,5]].replace(0, np.nan)\n",
    "print(datasetorig.head(10))\n",
    "print(dataset.head(10))\n",
    "#0이 nan으로 잘 바뀐 것을 확인"
   ]
  },
  {
   "cell_type": "markdown",
   "id": "baf75e89",
   "metadata": {},
   "source": [
    "## 결측치를 그냥 버리는 방법.."
   ]
  },
  {
   "cell_type": "code",
   "execution_count": 6,
   "id": "8d8a5b11",
   "metadata": {},
   "outputs": [],
   "source": [
    "#nan으로 바꿔주었으므로 dropna를 행하면 na값삭제(행삭제)\n",
    "#inplace=True : 삭제된 데이터프레임으로 대체\n",
    "#axis=0(디폴트값) -> 행삭제\n",
    "#axis=1(디폴트값) -> 열삭제\n",
    "dataset.dropna(inplace=True)"
   ]
  },
  {
   "cell_type": "code",
   "execution_count": 7,
   "id": "72576f2b",
   "metadata": {},
   "outputs": [
    {
     "name": "stdout",
     "output_type": "stream",
     "text": [
      "삭제전 행개수 : (768, 9)\n",
      "삭제후 행개수 : (392, 9)\n"
     ]
    }
   ],
   "source": [
    "print(\"삭제전 행개수 :\", datasetorig.shape)\n",
    "print(\"삭제후 행개수 :\", dataset.shape)"
   ]
  },
  {
   "cell_type": "markdown",
   "id": "6aac4f8f",
   "metadata": {},
   "source": [
    "## 결측치를 특정 값으로 대체"
   ]
  },
  {
   "cell_type": "code",
   "execution_count": 8,
   "id": "1267a0ed",
   "metadata": {},
   "outputs": [],
   "source": [
    "import pandas as pd\n",
    "dataset=pd.read_csv('pima-indians-diabetes.csv', header=None)\n",
    "datasetorig=dataset.copy()\n",
    "dataset[[1,2,3,4,5]]=dataset[[1,2,3,4,5]].replace(0, np.nan)"
   ]
  },
  {
   "cell_type": "code",
   "execution_count": 9,
   "id": "242de777",
   "metadata": {},
   "outputs": [
    {
     "name": "stdout",
     "output_type": "stream",
     "text": [
      "결측치 대체후 행개수 : (768, 9)\n",
      "결측치 대체후 행개수 : (768, 9)\n",
      "1    0\n",
      "2    0\n",
      "3    0\n",
      "4    0\n",
      "5    0\n",
      "dtype: int64\n"
     ]
    }
   ],
   "source": [
    "from sklearn.impute import SimpleImputer\n",
    "import pandas as pd\n",
    "values=dataset.values\n",
    "\n",
    "#strategy='most_frequent' -> 최빈값\n",
    "#strategy='median' -> 중앙값\n",
    "#strategy='mean' -> 평균값\n",
    "imputer=SimpleImputer(missing_values=np.nan, strategy='mean')\n",
    "dataimputed=pd.DataFrame(imputer.fit_transform(values))\n",
    "\n",
    "#행개수가 그대로임\n",
    "print(\"결측치 대체후 행개수 :\", datasetorig.shape)\n",
    "print(\"결측치 대체후 행개수 :\", dataset.shape)\n",
    "\n",
    "#결측치는 사라진것을 확인할 수 있음\n",
    "num_missing=(dataimputed[[1,2,3,4,5]]==0).sum()\n",
    "print(num_missing)"
   ]
  },
  {
   "cell_type": "markdown",
   "id": "044a8290",
   "metadata": {},
   "source": [
    "## 결측치를 알고리즘을 이용하여 대체"
   ]
  },
  {
   "cell_type": "code",
   "execution_count": 10,
   "id": "e2632bc8",
   "metadata": {},
   "outputs": [],
   "source": [
    "import pandas as pd\n",
    "dataset=pd.read_csv('pima-indians-diabetes.csv', header=None)\n",
    "datasetorig=dataset.copy()\n",
    "dataset[[1,2,3,4,5]]=dataset[[1,2,3,4,5]].replace(0, np.nan)"
   ]
  },
  {
   "cell_type": "code",
   "execution_count": 11,
   "id": "412953aa",
   "metadata": {},
   "outputs": [],
   "source": [
    "from sklearn.experimental import enable_iterative_imputer\n",
    "from sklearn.impute import IterativeImputer"
   ]
  },
  {
   "cell_type": "code",
   "execution_count": 12,
   "id": "a5ef6b85",
   "metadata": {},
   "outputs": [],
   "source": [
    "imputer=IterativeImputer()\n",
    "datatrans=pd.DataFrame(imputer.fit_transform(dataset))"
   ]
  },
  {
   "cell_type": "code",
   "execution_count": 13,
   "id": "c66aa291",
   "metadata": {},
   "outputs": [
    {
     "name": "stdout",
     "output_type": "stream",
     "text": [
      "Requirement already satisfied: missingpy in c:\\users\\taeeu\\anaconda3\\lib\\site-packages (0.2.0)\n",
      "Note: you may need to restart the kernel to use updated packages.\n"
     ]
    }
   ],
   "source": [
    "pip install missingpy"
   ]
  },
  {
   "cell_type": "code",
   "execution_count": 14,
   "id": "5879f02d",
   "metadata": {},
   "outputs": [
    {
     "ename": "ModuleNotFoundError",
     "evalue": "No module named 'sklearn.neighbors.base'",
     "output_type": "error",
     "traceback": [
      "\u001b[1;31m---------------------------------------------------------------------------\u001b[0m",
      "\u001b[1;31mModuleNotFoundError\u001b[0m                       Traceback (most recent call last)",
      "\u001b[1;32mC:\\Users\\Public\\Documents\\ESTsoft\\CreatorTemp/ipykernel_15592/2894880571.py\u001b[0m in \u001b[0;36m<module>\u001b[1;34m\u001b[0m\n\u001b[0;32m      1\u001b[0m \u001b[1;31m# 랜덤포레스트\u001b[0m\u001b[1;33m\u001b[0m\u001b[1;33m\u001b[0m\u001b[1;33m\u001b[0m\u001b[0m\n\u001b[1;32m----> 2\u001b[1;33m \u001b[1;32mfrom\u001b[0m \u001b[0mmissingpy\u001b[0m \u001b[1;32mimport\u001b[0m \u001b[0mMissForest\u001b[0m\u001b[1;33m\u001b[0m\u001b[1;33m\u001b[0m\u001b[0m\n\u001b[0m\u001b[0;32m      3\u001b[0m \u001b[0mimputer\u001b[0m\u001b[1;33m=\u001b[0m\u001b[0mMissForest\u001b[0m\u001b[1;33m(\u001b[0m\u001b[1;33m)\u001b[0m\u001b[1;33m\u001b[0m\u001b[1;33m\u001b[0m\u001b[0m\n\u001b[0;32m      4\u001b[0m \u001b[0mdatatrans\u001b[0m\u001b[1;33m=\u001b[0m\u001b[0mpd\u001b[0m\u001b[1;33m.\u001b[0m\u001b[0mDataFrame\u001b[0m\u001b[1;33m(\u001b[0m\u001b[0mimpupter\u001b[0m\u001b[1;33m.\u001b[0m\u001b[0mfit_transform\u001b[0m\u001b[1;33m(\u001b[0m\u001b[0mdataset\u001b[0m\u001b[1;33m)\u001b[0m\u001b[1;33m)\u001b[0m\u001b[1;33m\u001b[0m\u001b[1;33m\u001b[0m\u001b[0m\n",
      "\u001b[1;32m~\\anaconda3\\lib\\site-packages\\missingpy\\__init__.py\u001b[0m in \u001b[0;36m<module>\u001b[1;34m\u001b[0m\n\u001b[1;32m----> 1\u001b[1;33m \u001b[1;32mfrom\u001b[0m \u001b[1;33m.\u001b[0m\u001b[0mknnimpute\u001b[0m \u001b[1;32mimport\u001b[0m \u001b[0mKNNImputer\u001b[0m\u001b[1;33m\u001b[0m\u001b[1;33m\u001b[0m\u001b[0m\n\u001b[0m\u001b[0;32m      2\u001b[0m \u001b[1;32mfrom\u001b[0m \u001b[1;33m.\u001b[0m\u001b[0mmissforest\u001b[0m \u001b[1;32mimport\u001b[0m \u001b[0mMissForest\u001b[0m\u001b[1;33m\u001b[0m\u001b[1;33m\u001b[0m\u001b[0m\n\u001b[0;32m      3\u001b[0m \u001b[1;33m\u001b[0m\u001b[0m\n\u001b[0;32m      4\u001b[0m \u001b[0m__all__\u001b[0m \u001b[1;33m=\u001b[0m \u001b[1;33m[\u001b[0m\u001b[1;34m'KNNImputer'\u001b[0m\u001b[1;33m,\u001b[0m \u001b[1;34m'MissForest'\u001b[0m\u001b[1;33m]\u001b[0m\u001b[1;33m\u001b[0m\u001b[1;33m\u001b[0m\u001b[0m\n",
      "\u001b[1;32m~\\anaconda3\\lib\\site-packages\\missingpy\\knnimpute.py\u001b[0m in \u001b[0;36m<module>\u001b[1;34m\u001b[0m\n\u001b[0;32m     11\u001b[0m \u001b[1;32mfrom\u001b[0m \u001b[0msklearn\u001b[0m\u001b[1;33m.\u001b[0m\u001b[0mutils\u001b[0m\u001b[1;33m.\u001b[0m\u001b[0mvalidation\u001b[0m \u001b[1;32mimport\u001b[0m \u001b[0mcheck_is_fitted\u001b[0m\u001b[1;33m\u001b[0m\u001b[1;33m\u001b[0m\u001b[0m\n\u001b[0;32m     12\u001b[0m \u001b[1;32mfrom\u001b[0m \u001b[0msklearn\u001b[0m\u001b[1;33m.\u001b[0m\u001b[0mutils\u001b[0m\u001b[1;33m.\u001b[0m\u001b[0mvalidation\u001b[0m \u001b[1;32mimport\u001b[0m \u001b[0mFLOAT_DTYPES\u001b[0m\u001b[1;33m\u001b[0m\u001b[1;33m\u001b[0m\u001b[0m\n\u001b[1;32m---> 13\u001b[1;33m \u001b[1;32mfrom\u001b[0m \u001b[0msklearn\u001b[0m\u001b[1;33m.\u001b[0m\u001b[0mneighbors\u001b[0m\u001b[1;33m.\u001b[0m\u001b[0mbase\u001b[0m \u001b[1;32mimport\u001b[0m \u001b[0m_check_weights\u001b[0m\u001b[1;33m\u001b[0m\u001b[1;33m\u001b[0m\u001b[0m\n\u001b[0m\u001b[0;32m     14\u001b[0m \u001b[1;32mfrom\u001b[0m \u001b[0msklearn\u001b[0m\u001b[1;33m.\u001b[0m\u001b[0mneighbors\u001b[0m\u001b[1;33m.\u001b[0m\u001b[0mbase\u001b[0m \u001b[1;32mimport\u001b[0m \u001b[0m_get_weights\u001b[0m\u001b[1;33m\u001b[0m\u001b[1;33m\u001b[0m\u001b[0m\n\u001b[0;32m     15\u001b[0m \u001b[1;33m\u001b[0m\u001b[0m\n",
      "\u001b[1;31mModuleNotFoundError\u001b[0m: No module named 'sklearn.neighbors.base'"
     ]
    }
   ],
   "source": [
    "# 랜덤포레스트\n",
    "from missingpy import MissForest\n",
    "imputer=MissForest()\n",
    "datatrans=pd.DataFrame(impupter.fit_transform(dataset))"
   ]
  },
  {
   "cell_type": "code",
   "execution_count": null,
   "id": "cdb21f18",
   "metadata": {},
   "outputs": [],
   "source": [
    "from missingpy import KNNImputer\n",
    "imputer=KNNImputer()\n",
    "datatrans=pd.DataFrame(impupter.fit_transform(dataset))"
   ]
  }
 ],
 "metadata": {
  "kernelspec": {
   "display_name": "Python 3 (ipykernel)",
   "language": "python",
   "name": "python3"
  },
  "language_info": {
   "codemirror_mode": {
    "name": "ipython",
    "version": 3
   },
   "file_extension": ".py",
   "mimetype": "text/x-python",
   "name": "python",
   "nbconvert_exporter": "python",
   "pygments_lexer": "ipython3",
   "version": "3.8.5"
  }
 },
 "nbformat": 4,
 "nbformat_minor": 5
}
