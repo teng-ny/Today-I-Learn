{
 "cells": [
  {
   "cell_type": "markdown",
   "id": "4dd2620b",
   "metadata": {},
   "source": [
    "## 1. 적합도 검정"
   ]
  },
  {
   "cell_type": "code",
   "execution_count": 1,
   "id": "3cd5845d",
   "metadata": {},
   "outputs": [
    {
     "name": "stderr",
     "output_type": "stream",
     "text": [
      "C:\\Users\\taeeu\\anaconda3\\lib\\site-packages\\numpy\\_distributor_init.py:30: UserWarning: loaded more than 1 DLL from .libs:\n",
      "C:\\Users\\taeeu\\anaconda3\\lib\\site-packages\\numpy\\.libs\\libopenblas.el2c6ple4zyw3eceviv3oxxgrn2nrfm2.gfortran-win_amd64.dll\n",
      "C:\\Users\\taeeu\\anaconda3\\lib\\site-packages\\numpy\\.libs\\libopenblas.WCDJNK7YVMPZQ2ME2ZZHJJRJ3JIKNDB7.gfortran-win_amd64.dll\n",
      "  warnings.warn(\"loaded more than 1 DLL from .libs:\"\n"
     ]
    }
   ],
   "source": [
    "from scipy.stats import chisquare"
   ]
  },
  {
   "cell_type": "code",
   "execution_count": 2,
   "id": "8e41fdff",
   "metadata": {},
   "outputs": [],
   "source": [
    "x=[50,45,5]\n",
    "y=[30,60,10]"
   ]
  },
  {
   "cell_type": "code",
   "execution_count": 3,
   "id": "881cd75c",
   "metadata": {},
   "outputs": [
    {
     "data": {
      "text/plain": [
       "Power_divergenceResult(statistic=19.583333333333336, pvalue=5.5915626856371765e-05)"
      ]
     },
     "execution_count": 3,
     "metadata": {},
     "output_type": "execute_result"
    }
   ],
   "source": [
    "chisquare(x,y)\n",
    "#Test statistic=19.58, P-value=0.00"
   ]
  },
  {
   "cell_type": "markdown",
   "id": "4591aad2",
   "metadata": {},
   "source": [
    "## 2. 독립성 검정"
   ]
  },
  {
   "cell_type": "code",
   "execution_count": 4,
   "id": "cb6769b9",
   "metadata": {},
   "outputs": [],
   "source": [
    "from scipy.stats import chi2_contingency\n",
    "from scipy.stats import chi2"
   ]
  },
  {
   "cell_type": "code",
   "execution_count": 5,
   "id": "d618fa3c",
   "metadata": {},
   "outputs": [],
   "source": [
    "table = [[10, 20, 30], [6, 9, 17]]"
   ]
  },
  {
   "cell_type": "code",
   "execution_count": 6,
   "id": "8aa8f011",
   "metadata": {},
   "outputs": [
    {
     "data": {
      "text/plain": [
       "(0.27157465150403504,\n",
       " 0.873028283380073,\n",
       " 2,\n",
       " array([[10.43478261, 18.91304348, 30.65217391],\n",
       "        [ 5.56521739, 10.08695652, 16.34782609]]))"
      ]
     },
     "execution_count": 6,
     "metadata": {},
     "output_type": "execute_result"
    }
   ],
   "source": [
    "chi2_contingency(table)"
   ]
  }
 ],
 "metadata": {
  "kernelspec": {
   "display_name": "Python 3 (ipykernel)",
   "language": "python",
   "name": "python3"
  },
  "language_info": {
   "codemirror_mode": {
    "name": "ipython",
    "version": 3
   },
   "file_extension": ".py",
   "mimetype": "text/x-python",
   "name": "python",
   "nbconvert_exporter": "python",
   "pygments_lexer": "ipython3",
   "version": "3.8.5"
  }
 },
 "nbformat": 4,
 "nbformat_minor": 5
}
