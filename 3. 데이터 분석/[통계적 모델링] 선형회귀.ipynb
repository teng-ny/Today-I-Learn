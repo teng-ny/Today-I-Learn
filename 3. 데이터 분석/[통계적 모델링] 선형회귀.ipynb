{
 "cells": [
  {
   "cell_type": "code",
   "execution_count": 1,
   "id": "38e24f0e",
   "metadata": {},
   "outputs": [
    {
     "name": "stderr",
     "output_type": "stream",
     "text": [
      "C:\\Users\\taeeu\\anaconda3\\lib\\site-packages\\numpy\\_distributor_init.py:30: UserWarning: loaded more than 1 DLL from .libs:\n",
      "C:\\Users\\taeeu\\anaconda3\\lib\\site-packages\\numpy\\.libs\\libopenblas.el2c6ple4zyw3eceviv3oxxgrn2nrfm2.gfortran-win_amd64.dll\n",
      "C:\\Users\\taeeu\\anaconda3\\lib\\site-packages\\numpy\\.libs\\libopenblas.WCDJNK7YVMPZQ2ME2ZZHJJRJ3JIKNDB7.gfortran-win_amd64.dll\n",
      "  warnings.warn(\"loaded more than 1 DLL from .libs:\"\n"
     ]
    }
   ],
   "source": [
    "import statsmodels.api as sm\n",
    "import statsmodels.formula.api as smf\n",
    "import statsmodels.graphics.api as smg\n",
    "import patsy\n",
    "import matplotlib.pyplot as plt\n",
    "import numpy as np\n",
    "import pandas as pd\n",
    "from scipy import stats"
   ]
  },
  {
   "cell_type": "markdown",
   "id": "153f9dd7",
   "metadata": {},
   "source": [
    "## 데이터 생성"
   ]
  },
  {
   "cell_type": "code",
   "execution_count": 2,
   "id": "07081615",
   "metadata": {},
   "outputs": [],
   "source": [
    "y=np.array([1,2,3,4,5])\n",
    "x1=np.array([6,7,8,9,10])\n",
    "x2=np.array([11,12,13,14,15])"
   ]
  },
  {
   "cell_type": "code",
   "execution_count": 3,
   "id": "369383e1",
   "metadata": {},
   "outputs": [],
   "source": [
    "data={\"y\":y, \"x1\":x1, \"x2\":x2}"
   ]
  },
  {
   "cell_type": "markdown",
   "id": "8364e025",
   "metadata": {},
   "source": [
    "## 모델 생성"
   ]
  },
  {
   "cell_type": "code",
   "execution_count": 4,
   "id": "9418b584",
   "metadata": {},
   "outputs": [],
   "source": [
    "y, X=patsy.dmatrices(\"y~1+x1+x2+x1:x2\", data, return_type=\"dataframe\")\n",
    "model=sm.OLS(y,X)\n",
    "result=model.fit()"
   ]
  },
  {
   "cell_type": "code",
   "execution_count": 5,
   "id": "05b2b366",
   "metadata": {},
   "outputs": [
    {
     "data": {
      "text/plain": [
       "Intercept   -5.555556e-01\n",
       "x1           1.888889e+00\n",
       "x2          -8.888889e-01\n",
       "x1:x2       -4.440892e-16\n",
       "dtype: float64"
      ]
     },
     "execution_count": 5,
     "metadata": {},
     "output_type": "execute_result"
    }
   ],
   "source": [
    "result.params"
   ]
  },
  {
   "cell_type": "code",
   "execution_count": 6,
   "id": "e7be6c56",
   "metadata": {},
   "outputs": [
    {
     "data": {
      "text/plain": [
       "Intercept   -5.555556e-01\n",
       "x1           1.888889e+00\n",
       "x2          -8.888889e-01\n",
       "x1:x2       -4.440892e-16\n",
       "dtype: float64"
      ]
     },
     "execution_count": 6,
     "metadata": {},
     "output_type": "execute_result"
    }
   ],
   "source": [
    "y,X=patsy.dmatrices(\"y~x1*x2\", data, return_type=\"dataframe\")\n",
    "model2=sm.OLS(y,X)\n",
    "result2=model2.fit()\n",
    "result2.params"
   ]
  },
  {
   "cell_type": "code",
   "execution_count": 7,
   "id": "12e1dd69",
   "metadata": {},
   "outputs": [
    {
     "data": {
      "text/plain": [
       "Intercept   -0.555556\n",
       "x1           1.888889\n",
       "x2          -0.888889\n",
       "dtype: float64"
      ]
     },
     "execution_count": 7,
     "metadata": {},
     "output_type": "execute_result"
    }
   ],
   "source": [
    "y,X=patsy.dmatrices(\"y~x1+x2\", data, return_type=\"dataframe\")\n",
    "model3=sm.OLS(y,X)\n",
    "result3=model3.fit()\n",
    "result3.params"
   ]
  },
  {
   "cell_type": "code",
   "execution_count": 8,
   "id": "d07aa78f",
   "metadata": {},
   "outputs": [
    {
     "data": {
      "text/plain": [
       "Intercept         -12.341446\n",
       "np.log(x1)          7.461383\n",
       "np.cos(x2)         -0.216429\n",
       "np.sin(x1 + x2)     0.027374\n",
       "dtype: float64"
      ]
     },
     "execution_count": 8,
     "metadata": {},
     "output_type": "execute_result"
    }
   ],
   "source": [
    "#로그/삼각 함수를 지정\n",
    "y,X=patsy.dmatrices(\"y~np.log(x1)+np.cos(x2)+np.sin(x1+x2)\", data, return_type=\"dataframe\")\n",
    "model4=sm.OLS(y,X)\n",
    "result4=model4.fit()\n",
    "result4.params"
   ]
  },
  {
   "cell_type": "markdown",
   "id": "e9ee720a",
   "metadata": {},
   "source": [
    "## 범주 생성"
   ]
  },
  {
   "cell_type": "code",
   "execution_count": 9,
   "id": "9bb1a246",
   "metadata": {},
   "outputs": [
    {
     "name": "stdout",
     "output_type": "stream",
     "text": [
      "   C(x1)[6]  C(x1)[7]  C(x1)[8]  C(x1)[9]  C(x1)[10]\n",
      "0       1.0       0.0       0.0       0.0        0.0\n",
      "1       0.0       1.0       0.0       0.0        0.0\n",
      "2       0.0       0.0       1.0       0.0        0.0\n",
      "3       0.0       0.0       0.0       1.0        0.0\n",
      "4       0.0       0.0       0.0       0.0        1.0\n"
     ]
    }
   ],
   "source": [
    "y,X=patsy.dmatrices(\"y~-1+C(x1)\", data=data, return_type=\"dataframe\")\n",
    "print(X)"
   ]
  },
  {
   "cell_type": "markdown",
   "id": "22d8c419",
   "metadata": {},
   "source": [
    "## 1. 선형회귀"
   ]
  },
  {
   "cell_type": "code",
   "execution_count": 10,
   "id": "3bc68a5e",
   "metadata": {},
   "outputs": [],
   "source": [
    "# 아이스크림 데이터 : 아이스크림 소비량, 고객의 수입, 아이스크림 가격 및 하루의 온도 "
   ]
  },
  {
   "cell_type": "code",
   "execution_count": 11,
   "id": "80ef19a9",
   "metadata": {},
   "outputs": [
    {
     "name": "stdout",
     "output_type": "stream",
     "text": [
      "                            OLS Regression Results                            \n",
      "==============================================================================\n",
      "Dep. Variable:                   cons   R-squared:                       0.719\n",
      "Model:                            OLS   Adj. R-squared:                  0.687\n",
      "Method:                 Least Squares   F-statistic:                     22.17\n",
      "Date:                Fri, 18 Mar 2022   Prob (F-statistic):           2.45e-07\n",
      "Time:                        17:07:12   Log-Likelihood:                 58.619\n",
      "No. Observations:                  30   AIC:                            -109.2\n",
      "Df Residuals:                      26   BIC:                            -103.6\n",
      "Df Model:                           3                                         \n",
      "Covariance Type:            nonrobust                                         \n",
      "==============================================================================\n",
      "                 coef    std err          t      P>|t|      [0.025      0.975]\n",
      "------------------------------------------------------------------------------\n",
      "Intercept      0.1973      0.270      0.730      0.472      -0.358       0.753\n",
      "income         0.0033      0.001      2.824      0.009       0.001       0.006\n",
      "price         -1.0444      0.834     -1.252      0.222      -2.759       0.671\n",
      "temp           0.0035      0.000      7.762      0.000       0.003       0.004\n",
      "==============================================================================\n",
      "Omnibus:                        0.565   Durbin-Watson:                   1.021\n",
      "Prob(Omnibus):                  0.754   Jarque-Bera (JB):                0.047\n",
      "Skew:                           0.038   Prob(JB):                        0.977\n",
      "Kurtosis:                       3.179   Cond. No.                     1.27e+04\n",
      "==============================================================================\n",
      "\n",
      "Notes:\n",
      "[1] Standard Errors assume that the covariance matrix of the errors is correctly specified.\n",
      "[2] The condition number is large, 1.27e+04. This might indicate that there are\n",
      "strong multicollinearity or other numerical problems.\n"
     ]
    }
   ],
   "source": [
    "dataset=sm.datasets.get_rdataset(\"Icecream\", \"Ecdat\")\n",
    "model=smf.ols(\"cons~1+income+price+temp\", data=dataset.data)\n",
    "result=model.fit()\n",
    "print(result.summary())"
   ]
  },
  {
   "cell_type": "code",
   "execution_count": 12,
   "id": "0b694d3d",
   "metadata": {},
   "outputs": [
    {
     "name": "stdout",
     "output_type": "stream",
     "text": [
      "                            OLS Regression Results                            \n",
      "==============================================================================\n",
      "Dep. Variable:                   cons   R-squared:                       0.633\n",
      "Model:                            OLS   Adj. R-squared:                  0.606\n",
      "Method:                 Least Squares   F-statistic:                     23.27\n",
      "Date:                Fri, 18 Mar 2022   Prob (F-statistic):           1.34e-06\n",
      "Time:                        17:07:12   Log-Likelihood:                 54.607\n",
      "No. Observations:                  30   AIC:                            -103.2\n",
      "Df Residuals:                      27   BIC:                            -99.01\n",
      "Df Model:                           2                                         \n",
      "Covariance Type:            nonrobust                                         \n",
      "==============================================================================\n",
      "                 coef    std err          t      P>|t|      [0.025      0.975]\n",
      "------------------------------------------------------------------------------\n",
      "Intercept      0.5966      0.258      2.309      0.029       0.067       1.127\n",
      "price         -1.4018      0.925     -1.515      0.141      -3.300       0.496\n",
      "temp           0.0030      0.000      6.448      0.000       0.002       0.004\n",
      "==============================================================================\n",
      "Omnibus:                        0.991   Durbin-Watson:                   0.656\n",
      "Prob(Omnibus):                  0.609   Jarque-Bera (JB):                0.220\n",
      "Skew:                          -0.107   Prob(JB):                        0.896\n",
      "Kurtosis:                       3.361   Cond. No.                     6.58e+03\n",
      "==============================================================================\n",
      "\n",
      "Notes:\n",
      "[1] Standard Errors assume that the covariance matrix of the errors is correctly specified.\n",
      "[2] The condition number is large, 6.58e+03. This might indicate that there are\n",
      "strong multicollinearity or other numerical problems.\n"
     ]
    }
   ],
   "source": [
    "#소비량~가격, 온도의 회귀\n",
    "model=smf.ols(\"cons~1+price+temp\", data=dataset.data)\n",
    "result=model.fit()\n",
    "print(result.summary())"
   ]
  },
  {
   "cell_type": "markdown",
   "id": "3396a6ea",
   "metadata": {},
   "source": [
    "## 이산회귀분석 : 로지스틱회귀분석"
   ]
  },
  {
   "cell_type": "code",
   "execution_count": 13,
   "id": "0e9f5e0b",
   "metadata": {},
   "outputs": [],
   "source": [
    "df = sm.datasets.get_rdataset(\"iris\").data \n",
    "df_subset=df[df.Species.isin([\"versicolor\",\"virginica\"])].copy() \n",
    "df_subset.Species = df_subset.Species.map({\"versicolor\":1,\"virginica\":0}) \n",
    "df_subset.rename(columns={\"Sepal.Length\": \"Sepal_Length\",\"Sepal.Width\": \"Sepal_Width\",\"Petal.Length\": \"Petal_Length\",\"Petal.Width\": \"Petal_Width\"}, inplace=True)"
   ]
  },
  {
   "cell_type": "code",
   "execution_count": 14,
   "id": "f9dd3369",
   "metadata": {},
   "outputs": [
    {
     "name": "stdout",
     "output_type": "stream",
     "text": [
      "Optimization terminated successfully.\n",
      "         Current function value: 0.102818\n",
      "         Iterations 10\n",
      "                           Logit Regression Results                           \n",
      "==============================================================================\n",
      "Dep. Variable:                Species   No. Observations:                  100\n",
      "Model:                          Logit   Df Residuals:                       97\n",
      "Method:                           MLE   Df Model:                            2\n",
      "Date:                Fri, 18 Mar 2022   Pseudo R-squ.:                  0.8517\n",
      "Time:                        17:07:14   Log-Likelihood:                -10.282\n",
      "converged:                       True   LL-Null:                       -69.315\n",
      "Covariance Type:            nonrobust   LLR p-value:                 2.303e-26\n",
      "================================================================================\n",
      "                   coef    std err          z      P>|z|      [0.025      0.975]\n",
      "--------------------------------------------------------------------------------\n",
      "Intercept       45.2723     13.612      3.326      0.001      18.594      71.951\n",
      "Petal_Length    -5.7545      2.306     -2.496      0.013     -10.274      -1.235\n",
      "Petal_Width    -10.4467      3.756     -2.782      0.005     -17.808      -3.086\n",
      "================================================================================\n",
      "\n",
      "Possibly complete quasi-separation: A fraction 0.34 of observations can be\n",
      "perfectly predicted. This might indicate that there is complete\n",
      "quasi-separation. In this case some parameters will not be identified.\n"
     ]
    }
   ],
   "source": [
    "model = smf.logit(\"Species ~ Petal_Length + Petal_Width\", data=df_subset)\n",
    "result = model.fit()\n",
    "print(result.summary())"
   ]
  },
  {
   "cell_type": "markdown",
   "id": "aa0030e8",
   "metadata": {},
   "source": [
    "## scatter plot"
   ]
  },
  {
   "cell_type": "code",
   "execution_count": 15,
   "id": "7dc3b519",
   "metadata": {},
   "outputs": [],
   "source": [
    "params=result.params\n",
    "alpha0 = -params['Intercept']/params['Petal_Width'] \n",
    "alpha1 = -params['Petal_Length']/params['Petal_Width']"
   ]
  },
  {
   "cell_type": "code",
   "execution_count": 16,
   "id": "e2bf64e6",
   "metadata": {},
   "outputs": [],
   "source": [
    "_x=np.array([3.0, 7.0])"
   ]
  },
  {
   "cell_type": "code",
   "execution_count": 17,
   "id": "6f5cc387",
   "metadata": {},
   "outputs": [
    {
     "data": {
      "text/plain": [
       "<matplotlib.legend.Legend at 0x16c7f35b130>"
      ]
     },
     "execution_count": 17,
     "metadata": {},
     "output_type": "execute_result"
    },
    {
     "data": {
      "image/png": "[encoded data removed]",
      "text/plain": [
       "<Figure size 576x288 with 1 Axes>"
      ]
     },
     "metadata": {
      "needs_background": "light"
     },
     "output_type": "display_data"
    }
   ],
   "source": [
    "fig, ax = plt.subplots(1,1, figsize=(8,4)) \n",
    "ax.plot(df_subset[df_subset.Species==0].Petal_Length.values, df_subset[df_subset.Species==0].Petal_Width.values,'s', label='virginica') \n",
    "ax.plot(df_subset[df_subset.Species==1].Petal_Length.values, df_subset[df_subset.Species==1].Petal_Width.values,'s', label='versicolor')\n",
    "ax.plot(_x,alpha0+alpha1 * _x)\n",
    "ax.set_xlabel('Petal length')\n",
    "ax.set_ylabel('Petal width')\n",
    "ax.legend()"
   ]
  }
 ],
 "metadata": {
  "kernelspec": {
   "display_name": "Python 3 (ipykernel)",
   "language": "python",
   "name": "python3"
  },
  "language_info": {
   "codemirror_mode": {
    "name": "ipython",
    "version": 3
   },
   "file_extension": ".py",
   "mimetype": "text/x-python",
   "name": "python",
   "nbconvert_exporter": "python",
   "pygments_lexer": "ipython3",
   "version": "3.8.5"
  }
 },
 "nbformat": 4,
 "nbformat_minor": 5
}
