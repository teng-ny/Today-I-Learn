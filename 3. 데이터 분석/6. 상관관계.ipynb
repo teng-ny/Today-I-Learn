{
 "cells": [
  {
   "cell_type": "markdown",
   "id": "32ac2dd9",
   "metadata": {},
   "source": [
    "## 두 변수간 선형관계 평가"
   ]
  },
  {
   "cell_type": "code",
   "execution_count": 1,
   "id": "ad45a721",
   "metadata": {},
   "outputs": [
    {
     "name": "stderr",
     "output_type": "stream",
     "text": [
      "C:\\Users\\taeeu\\anaconda3\\lib\\site-packages\\numpy\\_distributor_init.py:30: UserWarning: loaded more than 1 DLL from .libs:\n",
      "C:\\Users\\taeeu\\anaconda3\\lib\\site-packages\\numpy\\.libs\\libopenblas.el2c6ple4zyw3eceviv3oxxgrn2nrfm2.gfortran-win_amd64.dll\n",
      "C:\\Users\\taeeu\\anaconda3\\lib\\site-packages\\numpy\\.libs\\libopenblas.WCDJNK7YVMPZQ2ME2ZZHJJRJ3JIKNDB7.gfortran-win_amd64.dll\n",
      "  warnings.warn(\"loaded more than 1 DLL from .libs:\"\n"
     ]
    }
   ],
   "source": [
    "from scipy.stats import pearsonr\n",
    "from scipy.stats import spearmanr"
   ]
  },
  {
   "cell_type": "code",
   "execution_count": 7,
   "id": "50d7b576",
   "metadata": {},
   "outputs": [],
   "source": [
    "#데이터 불러오기\n",
    "from sklearn.datasets import load_iris\n",
    "import pandas as pd\n",
    "iris=load_iris()\n",
    "iris_dataframe=pd.DataFrame(iris.data, columns=iris.feature_names)"
   ]
  },
  {
   "cell_type": "code",
   "execution_count": 8,
   "id": "a9c1ca03",
   "metadata": {},
   "outputs": [
    {
     "name": "stdout",
     "output_type": "stream",
     "text": [
      "(-0.36612593253643905, 4.0732285132462475e-06)\n",
      "SpearmanrResult(correlation=-0.2890317486605841, pvalue=0.00033429810586273364)\n"
     ]
    }
   ],
   "source": [
    "print(pearsonr(iris_dataframe['sepal width (cm)'], iris_dataframe['petal width (cm)']))\n",
    "print(spearmanr(iris_dataframe['sepal width (cm)'], iris_dataframe['petal width (cm)']))"
   ]
  }
 ],
 "metadata": {
  "kernelspec": {
   "display_name": "Python 3 (ipykernel)",
   "language": "python",
   "name": "python3"
  },
  "language_info": {
   "codemirror_mode": {
    "name": "ipython",
    "version": 3
   },
   "file_extension": ".py",
   "mimetype": "text/x-python",
   "name": "python",
   "nbconvert_exporter": "python",
   "pygments_lexer": "ipython3",
   "version": "3.8.5"
  }
 },
 "nbformat": 4,
 "nbformat_minor": 5
}
