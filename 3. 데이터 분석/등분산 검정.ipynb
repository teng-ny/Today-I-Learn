{
 "cells": [
  {
   "cell_type": "code",
   "execution_count": 1,
   "id": "de3134d0",
   "metadata": {},
   "outputs": [
    {
     "name": "stderr",
     "output_type": "stream",
     "text": [
      "C:\\Users\\taeeu\\anaconda3\\lib\\site-packages\\numpy\\_distributor_init.py:30: UserWarning: loaded more than 1 DLL from .libs:\n",
      "C:\\Users\\taeeu\\anaconda3\\lib\\site-packages\\numpy\\.libs\\libopenblas.el2c6ple4zyw3eceviv3oxxgrn2nrfm2.gfortran-win_amd64.dll\n",
      "C:\\Users\\taeeu\\anaconda3\\lib\\site-packages\\numpy\\.libs\\libopenblas.WCDJNK7YVMPZQ2ME2ZZHJJRJ3JIKNDB7.gfortran-win_amd64.dll\n",
      "  warnings.warn(\"loaded more than 1 DLL from .libs:\"\n"
     ]
    }
   ],
   "source": [
    "from scipy.stats import bartlett\n",
    "from scipy.stats import levene"
   ]
  },
  {
   "cell_type": "code",
   "execution_count": 2,
   "id": "37405340",
   "metadata": {},
   "outputs": [],
   "source": [
    "A=[85, 86, 88, 75, 78, 94, 98, 79, 71, 80]\n",
    "B=[91, 92, 93, 85, 87, 84, 82, 88, 95, 96]\n",
    "C=[79, 78, 88, 94, 92, 85, 83, 85, 82, 81]"
   ]
  },
  {
   "cell_type": "code",
   "execution_count": 4,
   "id": "7a45e933",
   "metadata": {},
   "outputs": [
    {
     "name": "stdout",
     "output_type": "stream",
     "text": [
      "BartlettResult(statistic=3.3024375753550594, pvalue=0.19181598314035977)\n",
      "LeveneResult(statistic=2.0802155992390623, pvalue=0.14446549238752415)\n"
     ]
    }
   ],
   "source": [
    "print(bartlett(A,B,C))\n",
    "print(levene(A,B,C))\n",
    "#p-value가 0.05이상 이기 때문에 귀무가설을 지지하여 '분산에 차이가 없다'"
   ]
  }
 ],
 "metadata": {
  "kernelspec": {
   "display_name": "Python 3 (ipykernel)",
   "language": "python",
   "name": "python3"
  },
  "language_info": {
   "codemirror_mode": {
    "name": "ipython",
    "version": 3
   },
   "file_extension": ".py",
   "mimetype": "text/x-python",
   "name": "python",
   "nbconvert_exporter": "python",
   "pygments_lexer": "ipython3",
   "version": "3.8.5"
  }
 },
 "nbformat": 4,
 "nbformat_minor": 5
}
