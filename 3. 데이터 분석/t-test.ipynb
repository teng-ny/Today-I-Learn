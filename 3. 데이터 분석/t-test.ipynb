{
 "cells": [
  {
   "cell_type": "markdown",
   "id": "14251ad3",
   "metadata": {},
   "source": [
    "## 단일표본 t-검정"
   ]
  },
  {
   "cell_type": "code",
   "execution_count": 1,
   "id": "c19bf6c5",
   "metadata": {},
   "outputs": [
    {
     "name": "stderr",
     "output_type": "stream",
     "text": [
      "C:\\Users\\taeeu\\anaconda3\\lib\\site-packages\\numpy\\_distributor_init.py:30: UserWarning: loaded more than 1 DLL from .libs:\n",
      "C:\\Users\\taeeu\\anaconda3\\lib\\site-packages\\numpy\\.libs\\libopenblas.el2c6ple4zyw3eceviv3oxxgrn2nrfm2.gfortran-win_amd64.dll\n",
      "C:\\Users\\taeeu\\anaconda3\\lib\\site-packages\\numpy\\.libs\\libopenblas.WCDJNK7YVMPZQ2ME2ZZHJJRJ3JIKNDB7.gfortran-win_amd64.dll\n",
      "  warnings.warn(\"loaded more than 1 DLL from .libs:\"\n"
     ]
    }
   ],
   "source": [
    "from sklearn.datasets import load_iris\n",
    "import pandas as pd\n",
    "import numpy as np\n",
    "from scipy.stats import ttest_1samp"
   ]
  },
  {
   "cell_type": "code",
   "execution_count": 2,
   "id": "4c015062",
   "metadata": {},
   "outputs": [],
   "source": [
    "#H0: m=5\n",
    "#H1: m은 5와 같지 않다\n",
    "iris=load_iris()\n",
    "iris_nparray=iris.data\n",
    "iris_dataframe=pd.DataFrame(iris.data, columns=iris.feature_names)"
   ]
  },
  {
   "cell_type": "code",
   "execution_count": 3,
   "id": "3171f925",
   "metadata": {},
   "outputs": [
    {
     "data": {
      "text/plain": [
       "Ttest_1sampResult(statistic=12.473257146694761, pvalue=6.670742299801927e-25)"
      ]
     },
     "execution_count": 3,
     "metadata": {},
     "output_type": "execute_result"
    }
   ],
   "source": [
    "#sepal_length 변수가 99%신뢰수준에서 평균 5.0cm와 동일한지 검정\n",
    "ttest_1samp(iris_dataframe['sepal length (cm)'], 5.0)\n",
    "#P=value=0.00\n",
    "#기각한다"
   ]
  },
  {
   "cell_type": "markdown",
   "id": "d1480515",
   "metadata": {},
   "source": [
    "## 독립표본 t-검정"
   ]
  },
  {
   "cell_type": "code",
   "execution_count": 8,
   "id": "b0d6b1da",
   "metadata": {},
   "outputs": [],
   "source": [
    "from scipy.stats import ttest_ind\n",
    "iris=load_iris()\n",
    "iris_nparray=iris.data\n",
    "iris_dataframe=pd.DataFrame(iris.data, columns=iris.feature_names)"
   ]
  },
  {
   "cell_type": "code",
   "execution_count": 9,
   "id": "2bebcf7b",
   "metadata": {},
   "outputs": [
    {
     "data": {
      "text/plain": [
       "Ttest_indResult(statistic=36.46328393444912, pvalue=1.4595425075861685e-96)"
      ]
     },
     "execution_count": 9,
     "metadata": {},
     "output_type": "execute_result"
    }
   ],
   "source": [
    "#sepal length, sepal width -> 평균이 99%신뢰수준에서 동일한지 테스트(분산이 동일하지 않음)\n",
    "#H0: m1=m2\n",
    "#H1: m1, m2평균이 다를것이다\n",
    "ttest_ind(iris_dataframe['sepal length (cm)'], iris_dataframe['sepal width (cm)'], equal_var=False)\n",
    "#P-value=0.00\n",
    "#기각한다"
   ]
  },
  {
   "cell_type": "markdown",
   "id": "ce2de0e5",
   "metadata": {},
   "source": [
    "## 대응표본 t-검정"
   ]
  },
  {
   "cell_type": "code",
   "execution_count": 10,
   "id": "b11da976",
   "metadata": {},
   "outputs": [],
   "source": [
    "#동일한 sample 비교\n",
    "from scipy.stats import ttest_rel\n",
    "iris=load_iris()\n",
    "iris_nparray=iris.data\n",
    "iris_dataframe=pd.DataFrame(iris.data, columns=iris.feature_names)"
   ]
  },
  {
   "cell_type": "code",
   "execution_count": 13,
   "id": "f9a14d12",
   "metadata": {},
   "outputs": [
    {
     "data": {
      "text/plain": [
       "Ttest_relResult(statistic=34.81519257082818, pvalue=1.849553734798798e-73)"
      ]
     },
     "execution_count": 13,
     "metadata": {},
     "output_type": "execute_result"
    }
   ],
   "source": [
    "#동일한 sample 비교\n",
    "#sepal length와 sepal width가 99%신뢰수준에서 평균이 동일한지\n",
    "ttest_rel(iris_dataframe['sepal length (cm)'], iris_dataframe['sepal width (cm)'])\n",
    "#P-value=0.00\n",
    "#기각=평균의 차이가 있다"
   ]
  }
 ],
 "metadata": {
  "kernelspec": {
   "display_name": "Python 3 (ipykernel)",
   "language": "python",
   "name": "python3"
  },
  "language_info": {
   "codemirror_mode": {
    "name": "ipython",
    "version": 3
   },
   "file_extension": ".py",
   "mimetype": "text/x-python",
   "name": "python",
   "nbconvert_exporter": "python",
   "pygments_lexer": "ipython3",
   "version": "3.8.5"
  }
 },
 "nbformat": 4,
 "nbformat_minor": 5
}
