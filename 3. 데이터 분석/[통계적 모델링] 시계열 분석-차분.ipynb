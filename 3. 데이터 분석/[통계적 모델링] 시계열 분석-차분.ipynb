{
 "cells": [
  {
   "cell_type": "markdown",
   "id": "f7b70355",
   "metadata": {},
   "source": [
    "## 정상성/비정상성 : stationary/non-stationary\n",
    "추세나 계절성이 있는 시계열은 정상성을 나타내는 시계열이 아닙니다 — 추세와 계절성은 서로 다른 시간에 시계열의 값에 영향을 줄 것이기 때문입니다. "
   ]
  },
  {
   "cell_type": "code",
   "execution_count": 1,
   "id": "dc1d1b55",
   "metadata": {},
   "outputs": [
    {
     "name": "stderr",
     "output_type": "stream",
     "text": [
      "C:\\Users\\taeeu\\anaconda3\\lib\\site-packages\\numpy\\_distributor_init.py:30: UserWarning: loaded more than 1 DLL from .libs:\n",
      "C:\\Users\\taeeu\\anaconda3\\lib\\site-packages\\numpy\\.libs\\libopenblas.el2c6ple4zyw3eceviv3oxxgrn2nrfm2.gfortran-win_amd64.dll\n",
      "C:\\Users\\taeeu\\anaconda3\\lib\\site-packages\\numpy\\.libs\\libopenblas.WCDJNK7YVMPZQ2ME2ZZHJJRJ3JIKNDB7.gfortran-win_amd64.dll\n",
      "  warnings.warn(\"loaded more than 1 DLL from .libs:\"\n"
     ]
    }
   ],
   "source": [
    "from statsmodels.tsa.stattools import adfuller, kpss\n",
    "import pandas as pd"
   ]
  },
  {
   "cell_type": "code",
   "execution_count": 2,
   "id": "8bdf5b41",
   "metadata": {},
   "outputs": [],
   "source": [
    "df=pd.read_csv('a10.csv', parse_dates=['date'], index_col='date')"
   ]
  },
  {
   "cell_type": "markdown",
   "id": "17574c0c",
   "metadata": {},
   "source": [
    "## - ADF Test"
   ]
  },
  {
   "cell_type": "code",
   "execution_count": 3,
   "id": "26b3aa4c",
   "metadata": {},
   "outputs": [
    {
     "name": "stdout",
     "output_type": "stream",
     "text": [
      "ADF Statistic: 3.14518568930675\n",
      "p-value: 1.0\n"
     ]
    }
   ],
   "source": [
    "#H0(귀무가설) : stationary x\n",
    "#H1(대립가설) : stationary o\n",
    "\n",
    "result=adfuller(df.value.values)\n",
    "\n",
    "print(f'ADF Statistic: {result[0]}')\n",
    "print(f'p-value: {result[1]}')\n",
    "\n",
    "#p-value가 0.05보다 크므로 귀무가설을 기각할 수 없다\n",
    "#비정상성"
   ]
  },
  {
   "cell_type": "markdown",
   "id": "4d30f6ac",
   "metadata": {},
   "source": [
    "## - KPSS Test"
   ]
  },
  {
   "cell_type": "code",
   "execution_count": 4,
   "id": "0c1250d0",
   "metadata": {},
   "outputs": [
    {
     "name": "stdout",
     "output_type": "stream",
     "text": [
      "KPSS Statistic: 1.3136750533447588\n",
      "p-value: 0.01\n"
     ]
    },
    {
     "name": "stderr",
     "output_type": "stream",
     "text": [
      "C:\\Users\\taeeu\\anaconda3\\lib\\site-packages\\statsmodels\\tsa\\stattools.py:1875: FutureWarning: The behavior of using nlags=None will change in release 0.13.Currently nlags=None is the same as nlags=\"legacy\", and so a sample-size lag length is used. After the next release, the default will change to be the same as nlags=\"auto\" which uses an automatic lag length selection method. To silence this warning, either use \"auto\" or \"legacy\"\n",
      "  warnings.warn(msg, FutureWarning)\n",
      "C:\\Users\\taeeu\\anaconda3\\lib\\site-packages\\statsmodels\\tsa\\stattools.py:1906: InterpolationWarning: The test statistic is outside of the range of p-values available in the\n",
      "look-up table. The actual p-value is smaller than the p-value returned.\n",
      "\n",
      "  warnings.warn(\n"
     ]
    }
   ],
   "source": [
    "#H0(귀무가설) : stationary o\n",
    "#H1(대립가설) : stationary x\n",
    "\n",
    "result=kpss(df['value'], regression='c')\n",
    "\n",
    "print(f'KPSS Statistic: {result[0]}')\n",
    "print(f'p-value: {result[1]}')\n",
    "\n",
    "#p-value가 0.05보다 작으므로 귀무가설을 기각\n",
    "#비정상성"
   ]
  },
  {
   "cell_type": "markdown",
   "id": "7207e380",
   "metadata": {},
   "source": [
    "## 차분 : 비정상성->정상성"
   ]
  },
  {
   "cell_type": "code",
   "execution_count": 5,
   "id": "1afd6aa9",
   "metadata": {},
   "outputs": [],
   "source": [
    "df=pd.read_csv('a10.csv', parse_dates=['date'], index_col='date')"
   ]
  },
  {
   "cell_type": "code",
   "execution_count": 6,
   "id": "944bd019",
   "metadata": {},
   "outputs": [],
   "source": [
    "#diff함수 : 행-바로전 행 -> axis=0\n",
    "diff=df.diff()\n",
    "\n",
    "#결측치를 빼놓고 진행해야함\n",
    "diff=diff.dropna()"
   ]
  },
  {
   "cell_type": "code",
   "execution_count": 7,
   "id": "1d9b1f24",
   "metadata": {},
   "outputs": [
    {
     "name": "stdout",
     "output_type": "stream",
     "text": [
      "ADF Statistic: -2.495172147449788\n",
      "p-value: 0.11665341686467584\n"
     ]
    }
   ],
   "source": [
    "#첫번째 차분이 정상시계열로 만들었는지 확인\n",
    "result=adfuller(diff.value.values)\n",
    "print(f'ADF Statistic: {result[0]}')\n",
    "print(f'p-value: {result[1]}')\n",
    "\n",
    "#H0(귀무가설) : stationary x\n",
    "#H1(대립가설) : stationary o\n",
    "#p-value가 0.05보다 크기때문에 귀무가설을 기각하지 못함\n",
    "#non-stationary"
   ]
  },
  {
   "cell_type": "code",
   "execution_count": 8,
   "id": "ee901f37",
   "metadata": {},
   "outputs": [
    {
     "name": "stdout",
     "output_type": "stream",
     "text": [
      "ADF Statistic: -10.292304706517312\n",
      "p-value: 3.543916358529571e-18\n"
     ]
    }
   ],
   "source": [
    "#한번더 반복!\n",
    "\n",
    "diff2=diff.diff()\n",
    "diff2=diff2.dropna()\n",
    "result=adfuller(diff2.value.values)\n",
    "print(f'ADF Statistic: {result[0]}')\n",
    "print(f'p-value: {result[1]}')\n",
    "\n",
    "#H0(귀무가설) : stationary x\n",
    "#H1(대립가설) : stationary o\n",
    "#귀무가설 기각!\n",
    "#stationary해짐"
   ]
  },
  {
   "cell_type": "markdown",
   "id": "bfd00182",
   "metadata": {},
   "source": [
    "## 시계열 분해(추세/계절 성분 제거)"
   ]
  },
  {
   "cell_type": "code",
   "execution_count": 10,
   "id": "b0ecdd33",
   "metadata": {},
   "outputs": [
    {
     "data": {
      "text/plain": [
       "[<matplotlib.lines.Line2D at 0x1f74efd01f0>]"
      ]
     },
     "execution_count": 10,
     "metadata": {},
     "output_type": "execute_result"
    },
    {
     "data": {
      "image/png": "[encoded data removed]",
      "text/plain": [
       "<Figure size 432x288 with 1 Axes>"
      ]
     },
     "metadata": {
      "needs_background": "light"
     },
     "output_type": "display_data"
    }
   ],
   "source": [
    "#시계열에서 최적 적합선 빼기\n",
    "from scipy import signal\n",
    "import matplotlib.pyplot as plt\n",
    "\n",
    "df=pd.read_csv('a10.csv', parse_dates=['date'], index_col='date')\n",
    "\n",
    "#timeseries값에 대해 추세(trend)분해\n",
    "detrended=signal.detrend(df.value.values)\n",
    "plt.plot(detrended)"
   ]
  },
  {
   "cell_type": "code",
   "execution_count": 13,
   "id": "3e66077c",
   "metadata": {},
   "outputs": [
    {
     "data": {
      "text/plain": [
       "[<matplotlib.lines.Line2D at 0x1f74f109fa0>]"
      ]
     },
     "execution_count": 13,
     "metadata": {},
     "output_type": "execute_result"
    },
    {
     "data": {
      "image/png": "[encoded data removed]",
      "text/plain": [
       "<Figure size 432x288 with 1 Axes>"
      ]
     },
     "metadata": {
      "needs_background": "light"
     },
     "output_type": "display_data"
    }
   ],
   "source": [
    "#시계열 분해에서 추세 성분 빼기\n",
    "from statsmodels.tsa.seasonal import seasonal_decompose\n",
    "\n",
    "#multiplicative:승법모델\n",
    "## extrapolate_trend='freq' : Trend 성분을 만들기 위한 rolling window 때문에 필연적으로 trend, resid에는 Nan 값이 발생하기 때문에, 이 NaN값을 채워주는 옵션이다.\n",
    "result_mul=seasonal_decompose(df['value'], model='multiplicative', extrapolate_trend='freq')\n",
    "detrended=df.value.values-result_mul.trend\n",
    "plt.plot(detrended)\n",
    "#계절, 에러만 남음"
   ]
  },
  {
   "cell_type": "code",
   "execution_count": 14,
   "id": "04059736",
   "metadata": {},
   "outputs": [
    {
     "data": {
      "text/plain": [
       "[<matplotlib.lines.Line2D at 0x1f74f19f040>]"
      ]
     },
     "execution_count": 14,
     "metadata": {},
     "output_type": "execute_result"
    },
    {
     "data": {
      "image/png": "[encoded data removed]",
      "text/plain": [
       "<Figure size 432x288 with 1 Axes>"
      ]
     },
     "metadata": {
      "needs_background": "light"
     },
     "output_type": "display_data"
    }
   ],
   "source": [
    "#시계열을 계절지수로 나눠줌\n",
    "from statsmodels.tsa.seasonal import seasonal_decompose\n",
    "\n",
    "result_mul=seasonal_decompose(df['value'], model='multiplicative')\n",
    "detrended=df.value.values / result_mul.seasonal\n",
    "plt.plot(detrended)\n",
    "#추세, 에러만 남음"
   ]
  },
  {
   "cell_type": "markdown",
   "id": "bae2ce80",
   "metadata": {},
   "source": [
    "## 결측값 처리\n",
    "1. forward/backward fill\n",
    "2. Interpolation\n",
    "3. Mean of nearest neighbors"
   ]
  },
  {
   "cell_type": "code",
   "execution_count": 15,
   "id": "95d52283",
   "metadata": {},
   "outputs": [],
   "source": [
    "# 1. forward/backward fill을 통해 결측치 보강\n",
    "df=pd.read_csv('a10.csv', parse_dates=['date'], index_col='date')\n",
    "\n",
    "#forward fill : ffill()\n",
    "#backward fill : bfill()\n",
    "df_ffill=df.ffill()\n",
    "df_bfill=df.bfill()"
   ]
  },
  {
   "cell_type": "code",
   "execution_count": 17,
   "id": "6ae4e6a9",
   "metadata": {},
   "outputs": [],
   "source": [
    "# 2. Interpolation\n",
    "from scipy.interpolate import interp1d\n",
    "df=pd.read_csv('a10.csv', parse_dates=['date'], index_col='date')"
   ]
  },
  {
   "cell_type": "code",
   "execution_count": 19,
   "id": "e107b236",
   "metadata": {},
   "outputs": [],
   "source": [
    "#Linear\n",
    "import numpy as np\n",
    "df['rownum']=np.arange(df.shape[0])\n",
    "df_nona=df.dropna(subset=['value'])\n",
    "\n",
    "#kind='linear'/'cubic'...등등의 방법\n",
    "f=interp1d(df_nona['rownum'], df_nona['value'])\n",
    "df['linear_fill']=f(df['rownum'])"
   ]
  },
  {
   "cell_type": "code",
   "execution_count": null,
   "id": "e162b42f",
   "metadata": {},
   "outputs": [],
   "source": []
  }
 ],
 "metadata": {
  "kernelspec": {
   "display_name": "Python 3 (ipykernel)",
   "language": "python",
   "name": "python3"
  },
  "language_info": {
   "codemirror_mode": {
    "name": "ipython",
    "version": 3
   },
   "file_extension": ".py",
   "mimetype": "text/x-python",
   "name": "python",
   "nbconvert_exporter": "python",
   "pygments_lexer": "ipython3",
   "version": "3.8.5"
  }
 },
 "nbformat": 4,
 "nbformat_minor": 5
}
