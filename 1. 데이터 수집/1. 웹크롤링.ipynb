{
 "cells": [
  {
   "cell_type": "markdown",
   "id": "247a7c02",
   "metadata": {},
   "source": [
    "## 1. News scraping from the web(1)"
   ]
  },
  {
   "cell_type": "code",
   "execution_count": 2,
   "id": "4915d8ed",
   "metadata": {},
   "outputs": [],
   "source": [
    "import newspaper\n",
    "from newspaper import Article"
   ]
  },
  {
   "cell_type": "code",
   "execution_count": 4,
   "id": "11441b0d",
   "metadata": {},
   "outputs": [],
   "source": [
    "article=Article(\"https://www.3gpp.org/news-events/2143-3gpp-meets-imt-2020\")\n",
    "article.download()\n",
    "article.parse()"
   ]
  },
  {
   "cell_type": "code",
   "execution_count": 5,
   "id": "ae7c156f",
   "metadata": {},
   "outputs": [
    {
     "data": {
      "text/plain": [
       "'3GPP meets IMT-2020'"
      ]
     },
     "execution_count": 5,
     "metadata": {},
     "output_type": "execute_result"
    }
   ],
   "source": [
    "#title 보기\n",
    "article.title"
   ]
  },
  {
   "cell_type": "code",
   "execution_count": 6,
   "id": "a2f5129c",
   "metadata": {},
   "outputs": [
    {
     "data": {
      "text/plain": [
       "['Kevin Flynn']"
      ]
     },
     "execution_count": 6,
     "metadata": {},
     "output_type": "execute_result"
    }
   ],
   "source": [
    "#작성자 확인\n",
    "article.authors"
   ]
  },
  {
   "cell_type": "markdown",
   "id": "126ce872",
   "metadata": {},
   "source": [
    "## 2. News scraping from the web(2)"
   ]
  },
  {
   "cell_type": "code",
   "execution_count": 8,
   "id": "24f34d9b",
   "metadata": {},
   "outputs": [],
   "source": [
    "import newspaper\n",
    "site=newspaper.build(\"https://techcrunch.com/\", memoize_article=False)"
   ]
  },
  {
   "cell_type": "code",
   "execution_count": 10,
   "id": "5f77787a",
   "metadata": {},
   "outputs": [
    {
     "data": {
      "text/plain": [
       "['https://techcrunch.com/2022/03/07/esggo-series-a/',\n",
       " 'https://techcrunch.com/2022/03/07/circular-uk-launch/',\n",
       " 'https://techcrunch.com/2022/03/07/the-station-tier-buys-spin-waymo-gets-to-charge-for-robotaxi-and-tesla-needs-a-tim-cook/',\n",
       " 'https://techcrunch.com/2022/03/07/cayena-delivers-inventory-marketplace-for-food-preparation-businesses/',\n",
       " 'https://techcrunch.com/2022/03/07/ugandas-rocket-health-raises-5m-in-round-led-by-creadev-to-scale-telemedicine-across-africa/',\n",
       " 'https://techcrunch.com/2022/03/07/robotaxi-startup-pony-ai-now-valued-at-8-5b/',\n",
       " 'https://techcrunch.com/2022/03/07/crypto-startup-argent-wants-to-put-an-end-to-gas-fees-with-layer-2-wallet/',\n",
       " 'https://techcrunch.com/2022/03/06/airtel-credit-card/',\n",
       " 'https://techcrunch.com/2022/03/06/sequoia-capital-india-stv-back-dubai-based-bnpl-provider-tabby-in-54m-extension-round/',\n",
       " 'https://techcrunch.com/2022/03/06/captain-fresh-fish-seafood/',\n",
       " 'https://techcrunch.com/2022/03/06/samsung-suspends-product-shipments-to-russia/',\n",
       " 'https://techcrunch.com/2022/03/06/aston-martin-to-develop-battery-cell-technology-with-britishvolt/',\n",
       " 'https://techcrunch.com/2022/03/06/tiktok-suspends-content-in-russia-in-response-to-fake-news-law/',\n",
       " 'https://techcrunch.com/2022/03/06/the-future-of-the-crypto-web-and-this-newsletter/',\n",
       " 'https://techcrunch.com/2022/03/06/fintech-roundup-banks-and-fintechs-are-increasingly-becoming-friendly-foes/',\n",
       " 'https://techcrunch.com/2022/03/06/indian-fintech-credavenue-turns-unicorn-with-fresh-137-million-funding/',\n",
       " 'https://techcrunch.com/2022/03/05/early-stage-startups-pivot-season/',\n",
       " 'https://techcrunch.com/2022/03/05/this-week-in-apps-apps-blocking-russia-walmart-adds-virtual-try-on-netflixs-trivia-game/',\n",
       " 'https://techcrunch.com/2022/03/05/ukraine-api-startups-and-startup-valuations/',\n",
       " 'https://techcrunch.com/2022/03/04/uganda-in-the-spotlight-as-countrys-startups-captivate-yc-google/']"
      ]
     },
     "execution_count": 10,
     "metadata": {},
     "output_type": "execute_result"
    }
   ],
   "source": [
    "site.article_urls()"
   ]
  },
  {
   "cell_type": "code",
   "execution_count": 13,
   "id": "50141085",
   "metadata": {},
   "outputs": [],
   "source": [
    "#첫번째 article을 저장\n",
    "site_article=site.articles[0]\n",
    "site_article.download()\n",
    "site_article.parse()"
   ]
  },
  {
   "cell_type": "code",
   "execution_count": 14,
   "id": "072d611e",
   "metadata": {
    "scrolled": true
   },
   "outputs": [
    {
     "data": {
      "text/plain": [
       "'Environmental, social and governance tracking gets easier with ESGgo – TechCrunch'"
      ]
     },
     "execution_count": 14,
     "metadata": {},
     "output_type": "execute_result"
    }
   ],
   "source": [
    "#title보기\n",
    "site_article.title"
   ]
  },
  {
   "cell_type": "code",
   "execution_count": 15,
   "id": "a085fe9b",
   "metadata": {},
   "outputs": [
    {
     "data": {
      "text/plain": [
       "'https://techcrunch.com/2022/03/07/esggo-series-a/'"
      ]
     },
     "execution_count": 15,
     "metadata": {},
     "output_type": "execute_result"
    }
   ],
   "source": [
    "#url보기\n",
    "site_article.url"
   ]
  },
  {
   "cell_type": "code",
   "execution_count": 17,
   "id": "16d6db72",
   "metadata": {},
   "outputs": [],
   "source": [
    "#모든 url저장하기\n",
    "allarticles=[]\n",
    "for i in range (len(site.article_urls())):\n",
    "    article=Article(site.article_urls()[i])\n",
    "    article.download()\n",
    "    article.parse()\n",
    "    allarticles.append(article)"
   ]
  },
  {
   "cell_type": "code",
   "execution_count": 18,
   "id": "081bb7ee",
   "metadata": {},
   "outputs": [
    {
     "name": "stderr",
     "output_type": "stream",
     "text": [
      "C:\\Users\\taeeu\\anaconda3\\lib\\site-packages\\numpy\\_distributor_init.py:30: UserWarning: loaded more than 1 DLL from .libs:\n",
      "C:\\Users\\taeeu\\anaconda3\\lib\\site-packages\\numpy\\.libs\\libopenblas.el2c6ple4zyw3eceviv3oxxgrn2nrfm2.gfortran-win_amd64.dll\n",
      "C:\\Users\\taeeu\\anaconda3\\lib\\site-packages\\numpy\\.libs\\libopenblas.WCDJNK7YVMPZQ2ME2ZZHJJRJ3JIKNDB7.gfortran-win_amd64.dll\n",
      "  warnings.warn(\"loaded more than 1 DLL from .libs:\"\n"
     ]
    }
   ],
   "source": [
    "import pandas as pd\n",
    "df=pd.DataFrame(columns=['Title', 'Authors', 'PubDate', 'URL', 'Text'])"
   ]
  },
  {
   "cell_type": "code",
   "execution_count": 20,
   "id": "a5e9aa15",
   "metadata": {},
   "outputs": [
    {
     "data": {
      "text/html": [
       "<div>\n",
       "<style scoped>\n",
       "    .dataframe tbody tr th:only-of-type {\n",
       "        vertical-align: middle;\n",
       "    }\n",
       "\n",
       "    .dataframe tbody tr th {\n",
       "        vertical-align: top;\n",
       "    }\n",
       "\n",
       "    .dataframe thead th {\n",
       "        text-align: right;\n",
       "    }\n",
       "</style>\n",
       "<table border=\"1\" class=\"dataframe\">\n",
       "  <thead>\n",
       "    <tr style=\"text-align: right;\">\n",
       "      <th></th>\n",
       "      <th>Title</th>\n",
       "      <th>Authors</th>\n",
       "      <th>PubDate</th>\n",
       "      <th>URL</th>\n",
       "      <th>Text</th>\n",
       "    </tr>\n",
       "  </thead>\n",
       "  <tbody>\n",
       "    <tr>\n",
       "      <th>0</th>\n",
       "      <td>Environmental, social and governance tracking ...</td>\n",
       "      <td>[]</td>\n",
       "      <td>2022-03-07</td>\n",
       "      <td>https://techcrunch.com/2022/03/07/esggo-series-a/</td>\n",
       "      <td>You can’t swing an ethically sourced, locally ...</td>\n",
       "    </tr>\n",
       "    <tr>\n",
       "      <th>1</th>\n",
       "      <td>Circular.io is putting a referral spin on tech...</td>\n",
       "      <td>[]</td>\n",
       "      <td>2022-03-07</td>\n",
       "      <td>https://techcrunch.com/2022/03/07/circular-uk-...</td>\n",
       "      <td>Demand for talent continues to make tech recru...</td>\n",
       "    </tr>\n",
       "    <tr>\n",
       "      <th>2</th>\n",
       "      <td>The Station: Tier buys Spin, Waymo gets to cha...</td>\n",
       "      <td>[]</td>\n",
       "      <td>2022-03-07</td>\n",
       "      <td>https://techcrunch.com/2022/03/07/the-station-...</td>\n",
       "      <td>The Station: Tier buys Spin, Waymo gets to cha...</td>\n",
       "    </tr>\n",
       "    <tr>\n",
       "      <th>3</th>\n",
       "      <td>Cayena delivers inventory marketplace for food...</td>\n",
       "      <td>[]</td>\n",
       "      <td>2022-03-07</td>\n",
       "      <td>https://techcrunch.com/2022/03/07/cayena-deliv...</td>\n",
       "      <td>Procuring items to fill the shelves of local s...</td>\n",
       "    </tr>\n",
       "    <tr>\n",
       "      <th>4</th>\n",
       "      <td>Uganda’s Rocket Health raises $5M in round led...</td>\n",
       "      <td>[]</td>\n",
       "      <td>2022-03-07</td>\n",
       "      <td>https://techcrunch.com/2022/03/07/ugandas-rock...</td>\n",
       "      <td>The world over, the popularity of telemedicine...</td>\n",
       "    </tr>\n",
       "    <tr>\n",
       "      <th>5</th>\n",
       "      <td>Robotaxi startup Pony.ai now valued at $8.5B –...</td>\n",
       "      <td>[]</td>\n",
       "      <td>2022-03-07</td>\n",
       "      <td>https://techcrunch.com/2022/03/07/robotaxi-sta...</td>\n",
       "      <td>China- and U.S.-based Pony.ai said Monday its ...</td>\n",
       "    </tr>\n",
       "    <tr>\n",
       "      <th>6</th>\n",
       "      <td>Crypto startup Argent wants to put an end to g...</td>\n",
       "      <td>[]</td>\n",
       "      <td>2022-03-07</td>\n",
       "      <td>https://techcrunch.com/2022/03/07/crypto-start...</td>\n",
       "      <td>Argent is officially launching its Layer 2 sol...</td>\n",
       "    </tr>\n",
       "    <tr>\n",
       "      <th>7</th>\n",
       "      <td>Indian carrier Airtel launches credit card – T...</td>\n",
       "      <td>[]</td>\n",
       "      <td>2022-03-06</td>\n",
       "      <td>https://techcrunch.com/2022/03/06/airtel-credi...</td>\n",
       "      <td>Airtel said on Monday it is launching a credit...</td>\n",
       "    </tr>\n",
       "    <tr>\n",
       "      <th>8</th>\n",
       "      <td>Sequoia Capital India, STV back Dubai-based BN...</td>\n",
       "      <td>[]</td>\n",
       "      <td>2022-03-06</td>\n",
       "      <td>https://techcrunch.com/2022/03/06/sequoia-capi...</td>\n",
       "      <td>Tabby, the Dubai-based buy now, pay later (BNP...</td>\n",
       "    </tr>\n",
       "    <tr>\n",
       "      <th>9</th>\n",
       "      <td>India’s Captain Fresh more than doubles valuat...</td>\n",
       "      <td>[]</td>\n",
       "      <td>2022-03-06</td>\n",
       "      <td>https://techcrunch.com/2022/03/06/captain-fres...</td>\n",
       "      <td>Captain Fresh, a farm-to-retail platform for a...</td>\n",
       "    </tr>\n",
       "    <tr>\n",
       "      <th>10</th>\n",
       "      <td>Samsung suspends product shipments to Russia –...</td>\n",
       "      <td>[]</td>\n",
       "      <td>2022-03-06</td>\n",
       "      <td>https://techcrunch.com/2022/03/06/samsung-susp...</td>\n",
       "      <td>Samsung Electronics has suspended shipments of...</td>\n",
       "    </tr>\n",
       "    <tr>\n",
       "      <th>11</th>\n",
       "      <td>Aston Martin to develop battery cell technolog...</td>\n",
       "      <td>[]</td>\n",
       "      <td>2022-03-06</td>\n",
       "      <td>https://techcrunch.com/2022/03/06/aston-martin...</td>\n",
       "      <td>British luxury carmaker Aston Martin has signe...</td>\n",
       "    </tr>\n",
       "    <tr>\n",
       "      <th>12</th>\n",
       "      <td>TikTok suspends content in Russia in response ...</td>\n",
       "      <td>[]</td>\n",
       "      <td>2022-03-06</td>\n",
       "      <td>https://techcrunch.com/2022/03/06/tiktok-suspe...</td>\n",
       "      <td>TikTok is suspending livestreaming and new con...</td>\n",
       "    </tr>\n",
       "    <tr>\n",
       "      <th>13</th>\n",
       "      <td>Tracking the future of crypto controversy – Te...</td>\n",
       "      <td>[]</td>\n",
       "      <td>2022-03-06</td>\n",
       "      <td>https://techcrunch.com/2022/03/06/the-future-o...</td>\n",
       "      <td>Hello readers, and welcome back to Week in Rev...</td>\n",
       "    </tr>\n",
       "    <tr>\n",
       "      <th>14</th>\n",
       "      <td>Fintech Roundup: Banks beginning to view finte...</td>\n",
       "      <td>[]</td>\n",
       "      <td>2022-03-06</td>\n",
       "      <td>https://techcrunch.com/2022/03/06/fintech-roun...</td>\n",
       "      <td>Welcome to my new weekly fintech focused colum...</td>\n",
       "    </tr>\n",
       "    <tr>\n",
       "      <th>15</th>\n",
       "      <td>Indian fintech CredAvenue turns unicorn with f...</td>\n",
       "      <td>[]</td>\n",
       "      <td>2022-03-06</td>\n",
       "      <td>https://techcrunch.com/2022/03/06/indian-finte...</td>\n",
       "      <td>Debt marketplace CredAvenue, which helps busin...</td>\n",
       "    </tr>\n",
       "    <tr>\n",
       "      <th>16</th>\n",
       "      <td>Welcome to the it’s-so-subtle pivot season – T...</td>\n",
       "      <td>[]</td>\n",
       "      <td>2022-03-05</td>\n",
       "      <td>https://techcrunch.com/2022/03/05/early-stage-...</td>\n",
       "      <td>Welcome to Startups Weekly, a fresh human-firs...</td>\n",
       "    </tr>\n",
       "    <tr>\n",
       "      <th>17</th>\n",
       "      <td>This Week in Apps: Apps blocking Russia, Walma...</td>\n",
       "      <td>[]</td>\n",
       "      <td>2022-03-05</td>\n",
       "      <td>https://techcrunch.com/2022/03/05/this-week-in...</td>\n",
       "      <td>Welcome back to This Week in Apps, the weekly ...</td>\n",
       "    </tr>\n",
       "    <tr>\n",
       "      <th>18</th>\n",
       "      <td>Ukraine, API startups and startup valuations –...</td>\n",
       "      <td>[]</td>\n",
       "      <td>2022-03-05</td>\n",
       "      <td>https://techcrunch.com/2022/03/05/ukraine-api-...</td>\n",
       "      <td>Welcome to The TechCrunch Exchange, a weekly s...</td>\n",
       "    </tr>\n",
       "    <tr>\n",
       "      <th>19</th>\n",
       "      <td>Uganda in the spotlight as country’s startups ...</td>\n",
       "      <td>[]</td>\n",
       "      <td>2022-03-04</td>\n",
       "      <td>https://techcrunch.com/2022/03/04/uganda-in-th...</td>\n",
       "      <td>The startup ecosystem in Africa has until now ...</td>\n",
       "    </tr>\n",
       "  </tbody>\n",
       "</table>\n",
       "</div>"
      ],
      "text/plain": [
       "                                                Title Authors    PubDate  \\\n",
       "0   Environmental, social and governance tracking ...      [] 2022-03-07   \n",
       "1   Circular.io is putting a referral spin on tech...      [] 2022-03-07   \n",
       "2   The Station: Tier buys Spin, Waymo gets to cha...      [] 2022-03-07   \n",
       "3   Cayena delivers inventory marketplace for food...      [] 2022-03-07   \n",
       "4   Uganda’s Rocket Health raises $5M in round led...      [] 2022-03-07   \n",
       "5   Robotaxi startup Pony.ai now valued at $8.5B –...      [] 2022-03-07   \n",
       "6   Crypto startup Argent wants to put an end to g...      [] 2022-03-07   \n",
       "7   Indian carrier Airtel launches credit card – T...      [] 2022-03-06   \n",
       "8   Sequoia Capital India, STV back Dubai-based BN...      [] 2022-03-06   \n",
       "9   India’s Captain Fresh more than doubles valuat...      [] 2022-03-06   \n",
       "10  Samsung suspends product shipments to Russia –...      [] 2022-03-06   \n",
       "11  Aston Martin to develop battery cell technolog...      [] 2022-03-06   \n",
       "12  TikTok suspends content in Russia in response ...      [] 2022-03-06   \n",
       "13  Tracking the future of crypto controversy – Te...      [] 2022-03-06   \n",
       "14  Fintech Roundup: Banks beginning to view finte...      [] 2022-03-06   \n",
       "15  Indian fintech CredAvenue turns unicorn with f...      [] 2022-03-06   \n",
       "16  Welcome to the it’s-so-subtle pivot season – T...      [] 2022-03-05   \n",
       "17  This Week in Apps: Apps blocking Russia, Walma...      [] 2022-03-05   \n",
       "18  Ukraine, API startups and startup valuations –...      [] 2022-03-05   \n",
       "19  Uganda in the spotlight as country’s startups ...      [] 2022-03-04   \n",
       "\n",
       "                                                  URL  \\\n",
       "0   https://techcrunch.com/2022/03/07/esggo-series-a/   \n",
       "1   https://techcrunch.com/2022/03/07/circular-uk-...   \n",
       "2   https://techcrunch.com/2022/03/07/the-station-...   \n",
       "3   https://techcrunch.com/2022/03/07/cayena-deliv...   \n",
       "4   https://techcrunch.com/2022/03/07/ugandas-rock...   \n",
       "5   https://techcrunch.com/2022/03/07/robotaxi-sta...   \n",
       "6   https://techcrunch.com/2022/03/07/crypto-start...   \n",
       "7   https://techcrunch.com/2022/03/06/airtel-credi...   \n",
       "8   https://techcrunch.com/2022/03/06/sequoia-capi...   \n",
       "9   https://techcrunch.com/2022/03/06/captain-fres...   \n",
       "10  https://techcrunch.com/2022/03/06/samsung-susp...   \n",
       "11  https://techcrunch.com/2022/03/06/aston-martin...   \n",
       "12  https://techcrunch.com/2022/03/06/tiktok-suspe...   \n",
       "13  https://techcrunch.com/2022/03/06/the-future-o...   \n",
       "14  https://techcrunch.com/2022/03/06/fintech-roun...   \n",
       "15  https://techcrunch.com/2022/03/06/indian-finte...   \n",
       "16  https://techcrunch.com/2022/03/05/early-stage-...   \n",
       "17  https://techcrunch.com/2022/03/05/this-week-in...   \n",
       "18  https://techcrunch.com/2022/03/05/ukraine-api-...   \n",
       "19  https://techcrunch.com/2022/03/04/uganda-in-th...   \n",
       "\n",
       "                                                 Text  \n",
       "0   You can’t swing an ethically sourced, locally ...  \n",
       "1   Demand for talent continues to make tech recru...  \n",
       "2   The Station: Tier buys Spin, Waymo gets to cha...  \n",
       "3   Procuring items to fill the shelves of local s...  \n",
       "4   The world over, the popularity of telemedicine...  \n",
       "5   China- and U.S.-based Pony.ai said Monday its ...  \n",
       "6   Argent is officially launching its Layer 2 sol...  \n",
       "7   Airtel said on Monday it is launching a credit...  \n",
       "8   Tabby, the Dubai-based buy now, pay later (BNP...  \n",
       "9   Captain Fresh, a farm-to-retail platform for a...  \n",
       "10  Samsung Electronics has suspended shipments of...  \n",
       "11  British luxury carmaker Aston Martin has signe...  \n",
       "12  TikTok is suspending livestreaming and new con...  \n",
       "13  Hello readers, and welcome back to Week in Rev...  \n",
       "14  Welcome to my new weekly fintech focused colum...  \n",
       "15  Debt marketplace CredAvenue, which helps busin...  \n",
       "16  Welcome to Startups Weekly, a fresh human-firs...  \n",
       "17  Welcome back to This Week in Apps, the weekly ...  \n",
       "18  Welcome to The TechCrunch Exchange, a weekly s...  \n",
       "19  The startup ecosystem in Africa has until now ...  "
      ]
     },
     "execution_count": 20,
     "metadata": {},
     "output_type": "execute_result"
    }
   ],
   "source": [
    "for i in range(len(allarticles)):\n",
    "    row=dict(zip(['Title', 'Authors', 'PubDate', 'URL', 'Text'], [allarticles[i].title, allarticles[i].authors, allarticles[i].publish_date, allarticles[i].url, allarticles[i].text]))\n",
    "    row_s=pd.Series(row)\n",
    "    row_s.name=i\n",
    "    df=df.append(row_s)\n",
    "df"
   ]
  },
  {
   "cell_type": "markdown",
   "id": "573273da",
   "metadata": {},
   "source": [
    "## 3. News scraping from the web(3) - BeautifulSoup"
   ]
  },
  {
   "cell_type": "code",
   "execution_count": 21,
   "id": "cbbe1c5e",
   "metadata": {},
   "outputs": [],
   "source": [
    "import urllib.request as ure\n",
    "from bs4 import BeautifulSoup as bs"
   ]
  },
  {
   "cell_type": "code",
   "execution_count": 26,
   "id": "4a22f61c",
   "metadata": {},
   "outputs": [
    {
     "data": {
      "text/plain": [
       "[<a aria-hidden=\"false\" class=\"happening__title\" data-ga-track=\"Breaking Article 1\" href=\"https://www.forbes.com/sites/roberthart/2022/03/07/humanitarian-corridors-what-you-need-to-know-as-refugees-seek-safe-passage-to-leave-ukraine/\" tabindex=\"0\">Humanitarian Corridors: What You Need To Know As Refugees Seek Safe Passage To Leave Ukraine</a>,\n",
       " <a aria-hidden=\"false\" class=\"happening__title\" data-ga-track=\"Breaking Article 2\" href=\"https://www.forbes.com/sites/roberthart/2022/03/07/more-than-6-million-people-have-now-died-with-covid/\" tabindex=\"0\">More Than 6 Million People Have Now Died With Covid</a>,\n",
       " <a aria-hidden=\"false\" class=\"happening__title\" data-ga-track=\"Breaking Article 3\" href=\"https://www.forbes.com/sites/siladityaray/2022/03/07/global-stocks-slump-oil-prices-touch-14-year-high-as-russia-intensifies-attack-on-ukraine/\" tabindex=\"0\">Global Stocks Slump, Oil Prices Touch 14-Year High As Russia Intensifies Attack On Ukraine</a>,\n",
       " <a aria-hidden=\"false\" class=\"happening__title\" data-ga-track=\"Breaking Article 4\" href=\"https://www.forbes.com/sites/marisadellatto/2022/03/06/netflix-tiktok-major-accounting-firms-suspend-service-heres-the-list-of-companies-cutting-ties-with-russia-over-invasion/\" tabindex=\"0\">Netflix, TikTok, Major Accounting Firms Suspend Service—Here’s The List Of Companies Cutting Ties With Russia Over Invasion</a>,\n",
       " <a aria-hidden=\"false\" class=\"happening__title\" data-ga-track=\"Breaking Article 5\" href=\"https://www.forbes.com/sites/dereksaul/2022/03/06/war-crimes-in-ukraine-heres-what-russias-been-accused-of-and-what-comes-next/\" tabindex=\"0\">War Crimes In Ukraine? Here’s What Russia’s Been Accused Of And What Comes Next.</a>,\n",
       " <a aria-hidden=\"false\" class=\"happening__title\" data-ga-track=\"Breaking Article 6\" href=\"https://www.forbes.com/sites/dereksaul/2022/03/06/us-in-active-discussions-to-ban-russian-oil-blinken-says/\" tabindex=\"0\">U.S. In ‘Active Discussions’ To Ban Russian Oil, Blinken Says</a>,\n",
       " <a aria-hidden=\"true\" class=\"happening__title\" data-ga-track=\"Breaking Article 7\" href=\"https://www.forbes.com/sites/lisakim/2022/03/06/imf-warns-of-serious-global-economic-consequences-from-russian-invasion-of-ukraine/\" tabindex=\"-1\">IMF Warns Of Serious Global Economic Consequences From Russian Invasion Of Ukraine</a>,\n",
       " <a aria-hidden=\"true\" class=\"happening__title\" data-ga-track=\"Breaking Article 8\" href=\"https://www.forbes.com/sites/siladityaray/2022/03/06/at-least-seven-people-including-two-children-killed-by-powerful-tornado-in-iowa/\" tabindex=\"-1\">At Least Seven People, Including Two Children, Killed By Powerful Tornado In Iowa</a>,\n",
       " <a aria-hidden=\"true\" class=\"happening__title\" data-ga-track=\"Breaking Article 9\" href=\"https://www.forbes.com/sites/lisakim/2022/03/06/israeli-prime-minister-makes-surprise-visit-to-moscow-in-new-attempt-to-halt-war-in-ukraine/\" tabindex=\"-1\">Israeli Prime Minister Makes Surprise Visit To Moscow In New Attempt To Halt War In Ukraine</a>,\n",
       " <a aria-hidden=\"true\" class=\"happening__title\" data-ga-track=\"Breaking Article 10\" href=\"https://www.forbes.com/sites/forbesstaffreports/2022/03/06/live-ukraine-russia/\" tabindex=\"-1\">Live: Kyiv Rejects Moscow’s ‘Immoral’ Offer Of Humanitarian Corridor Into Russia</a>,\n",
       " <a aria-hidden=\"true\" class=\"happening__title\" data-ga-track=\"Breaking Article 11\" href=\"https://www.forbes.com/sites/giacomotognini/2022/03/05/italian-authorities-freeze-two-yachts-owned-by-sanctioned-russian-billionaires/\" tabindex=\"-1\">Italian Authorities Freeze Two Yachts Owned By Sanctioned Russian Billionaires</a>,\n",
       " <a aria-hidden=\"true\" class=\"happening__title\" data-ga-track=\"Breaking Article 12\" href=\"https://www.forbes.com/sites/lisakim/2022/03/05/wnba-player-brittney-griner-reportedly-detained-in-russia-on-drug-charges/\" tabindex=\"-1\">WNBA Player Brittney Griner Reportedly Detained In Russia On Drug Charges</a>,\n",
       " <a aria-hidden=\"true\" class=\"happening__title\" data-ga-track=\"Breaking Article 13\" href=\"https://www.forbes.com/sites/sergeiklebnikov/2022/03/04/dow-falls-200-points-oil-nears-120-per-barrel-as-russias-invasion-of-ukraine-continues/\" tabindex=\"-1\">Dow Hits Fourth Week Of Losses, Oil Nears $120 Per Barrel As Russia’s Invasion Of Ukraine Continues</a>,\n",
       " <a aria-hidden=\"true\" class=\"happening__title\" data-ga-track=\"Breaking Article 14\" href=\"https://www.forbes.com/sites/zacharysmith/2022/03/04/weight-watchers-app-violated-kids-privacy-doj-says/\" tabindex=\"-1\">Weight Watchers App Violated Kids’ Privacy, DOJ Says</a>,\n",
       " <a aria-hidden=\"true\" class=\"happening__title\" data-ga-track=\"Breaking Article 15\" href=\"https://www.forbes.com/sites/lisakim/2022/03/04/faces-of-fear-photos-show-ukrainian-refugees-leaving-their-homes-and-cities/\" tabindex=\"-1\">Faces Of Fear: Photos Show Ukrainian Refugees Leaving Their Homes And Cities</a>,\n",
       " <a aria-hidden=\"true\" class=\"happening__title\" data-ga-track=\"Breaking Article 16\" href=\"https://www.forbes.com/sites/nicholasreimann/2022/03/04/russia-bans-facebook-and-twitter/\" tabindex=\"-1\">Russia Bans Facebook And Twitter</a>,\n",
       " <a aria-hidden=\"true\" class=\"happening__title\" data-ga-track=\"Breaking Article 17\" href=\"https://www.forbes.com/sites/sergeiklebnikov/2022/03/04/war-stocks-are-surging-as-russia-ukraine-conflict-rages-on-lockheed-martin-northrop-up-20/\" tabindex=\"-1\">War Stocks Are Surging As Russia-Ukraine Conflict Rages On: Lockheed Martin, Northrop Up 20%</a>,\n",
       " <a aria-hidden=\"true\" class=\"happening__title\" data-ga-track=\"Breaking Article 18\" href=\"https://www.forbes.com/sites/alisondurkee/2022/03/04/rep-madison-cawthorn-can-run-for-reelection-despite-january-6-role-judge-rules/\" tabindex=\"-1\">Rep. Madison Cawthorn Can Run For Reelection Despite January 6 Role, Judge Rules</a>,\n",
       " <a aria-hidden=\"true\" class=\"happening__title\" data-ga-track=\"Breaking Article 19\" href=\"https://www.forbes.com/sites/masonbissada/2022/03/04/international-gymnastics-federation-bars-russia-belarus-as-sports-world-reacts-to-ukraine-invasion/\" tabindex=\"-1\">International Gymnastics Federation Bars Russia, Belarus As Sports World Reacts To Ukraine Invasion</a>,\n",
       " <a aria-hidden=\"true\" class=\"happening__title\" data-ga-track=\"Breaking Article 20\" href=\"https://www.forbes.com/sites/marisadellatto/2022/03/04/emmys-netflix-cut-ties-to-russia-as-entertainment-industry-reacts-to-ukraine-invasion/\" tabindex=\"-1\">Emmys, Netflix Cut Ties To Russia As Entertainment Industry Reacts To Ukraine Invasion</a>,\n",
       " <a aria-hidden=\"true\" class=\"happening__title\" data-ga-track=\"Breaking Article 21\" href=\"https://www.forbes.com/sites/alisondurkee/2022/03/04/bidens-approval-rating-jumps-8-points-after-state-of-the-union-with-strong-support-of-handling-of-ukraine-crisis/\" tabindex=\"-1\">Biden’s Approval Rating Jumps 8 Points After State Of The Union, With Strong Support Of Handling Of Ukraine Crisis</a>]"
      ]
     },
     "execution_count": 26,
     "metadata": {},
     "output_type": "execute_result"
    }
   ],
   "source": [
    "#크롬 뷰소스(F12)로 HTML구조를 살펴봄!\n",
    "#웹사이트는 유사하지만 구조가 다르므로 구조를 검토해야함!\n",
    "news='https://www.forbes.com/'\n",
    "soup=bs(ure.urlopen(news).read(), 'html.parser')\n",
    "soup.find_all('a', {\"class\":\"happening__title\"})"
   ]
  },
  {
   "cell_type": "code",
   "execution_count": 27,
   "id": "88712cd9",
   "metadata": {},
   "outputs": [
    {
     "name": "stdout",
     "output_type": "stream",
     "text": [
      "Humanitarian Corridors: What You Need To Know As Refugees Seek Safe Passage To Leave Ukraine\n",
      "More Than 6 Million People Have Now Died With Covid\n",
      "Global Stocks Slump, Oil Prices Touch 14-Year High As Russia Intensifies Attack On Ukraine\n",
      "Netflix, TikTok, Major Accounting Firms Suspend Service—Here’s The List Of Companies Cutting Ties With Russia Over Invasion\n",
      "War Crimes In Ukraine? Here’s What Russia’s Been Accused Of And What Comes Next.\n",
      "U.S. In ‘Active Discussions’ To Ban Russian Oil, Blinken Says\n",
      "IMF Warns Of Serious Global Economic Consequences From Russian Invasion Of Ukraine\n",
      "At Least Seven People, Including Two Children, Killed By Powerful Tornado In Iowa\n",
      "Israeli Prime Minister Makes Surprise Visit To Moscow In New Attempt To Halt War In Ukraine\n",
      "Live: Kyiv Rejects Moscow’s ‘Immoral’ Offer Of Humanitarian Corridor Into Russia\n",
      "Italian Authorities Freeze Two Yachts Owned By Sanctioned Russian Billionaires\n",
      "WNBA Player Brittney Griner Reportedly Detained In Russia On Drug Charges\n",
      "Dow Hits Fourth Week Of Losses, Oil Nears $120 Per Barrel As Russia’s Invasion Of Ukraine Continues\n",
      "Weight Watchers App Violated Kids’ Privacy, DOJ Says\n",
      "Faces Of Fear: Photos Show Ukrainian Refugees Leaving Their Homes And Cities\n",
      "Russia Bans Facebook And Twitter\n",
      "War Stocks Are Surging As Russia-Ukraine Conflict Rages On: Lockheed Martin, Northrop Up 20%\n",
      "Rep. Madison Cawthorn Can Run For Reelection Despite January 6 Role, Judge Rules\n",
      "International Gymnastics Federation Bars Russia, Belarus As Sports World Reacts To Ukraine Invasion\n",
      "Emmys, Netflix Cut Ties To Russia As Entertainment Industry Reacts To Ukraine Invasion\n",
      "Biden’s Approval Rating Jumps 8 Points After State Of The Union, With Strong Support Of Handling Of Ukraine Crisis\n"
     ]
    }
   ],
   "source": [
    "for i in soup.find_all('a', {\"class\":\"happening__title\"}):\n",
    "    print(i.text)"
   ]
  },
  {
   "cell_type": "code",
   "execution_count": 29,
   "id": "427249cb",
   "metadata": {},
   "outputs": [
    {
     "name": "stdout",
     "output_type": "stream",
     "text": [
      "https://www.forbes.com/sites/roberthart/2022/03/07/humanitarian-corridors-what-you-need-to-know-as-refugees-seek-safe-passage-to-leave-ukraine/\n",
      "https://www.forbes.com/sites/roberthart/2022/03/07/more-than-6-million-people-have-now-died-with-covid/\n",
      "https://www.forbes.com/sites/siladityaray/2022/03/07/global-stocks-slump-oil-prices-touch-14-year-high-as-russia-intensifies-attack-on-ukraine/\n",
      "https://www.forbes.com/sites/marisadellatto/2022/03/06/netflix-tiktok-major-accounting-firms-suspend-service-heres-the-list-of-companies-cutting-ties-with-russia-over-invasion/\n",
      "https://www.forbes.com/sites/dereksaul/2022/03/06/war-crimes-in-ukraine-heres-what-russias-been-accused-of-and-what-comes-next/\n",
      "https://www.forbes.com/sites/dereksaul/2022/03/06/us-in-active-discussions-to-ban-russian-oil-blinken-says/\n",
      "https://www.forbes.com/sites/lisakim/2022/03/06/imf-warns-of-serious-global-economic-consequences-from-russian-invasion-of-ukraine/\n",
      "https://www.forbes.com/sites/siladityaray/2022/03/06/at-least-seven-people-including-two-children-killed-by-powerful-tornado-in-iowa/\n",
      "https://www.forbes.com/sites/lisakim/2022/03/06/israeli-prime-minister-makes-surprise-visit-to-moscow-in-new-attempt-to-halt-war-in-ukraine/\n",
      "https://www.forbes.com/sites/forbesstaffreports/2022/03/06/live-ukraine-russia/\n",
      "https://www.forbes.com/sites/giacomotognini/2022/03/05/italian-authorities-freeze-two-yachts-owned-by-sanctioned-russian-billionaires/\n",
      "https://www.forbes.com/sites/lisakim/2022/03/05/wnba-player-brittney-griner-reportedly-detained-in-russia-on-drug-charges/\n",
      "https://www.forbes.com/sites/sergeiklebnikov/2022/03/04/dow-falls-200-points-oil-nears-120-per-barrel-as-russias-invasion-of-ukraine-continues/\n",
      "https://www.forbes.com/sites/zacharysmith/2022/03/04/weight-watchers-app-violated-kids-privacy-doj-says/\n",
      "https://www.forbes.com/sites/lisakim/2022/03/04/faces-of-fear-photos-show-ukrainian-refugees-leaving-their-homes-and-cities/\n",
      "https://www.forbes.com/sites/nicholasreimann/2022/03/04/russia-bans-facebook-and-twitter/\n",
      "https://www.forbes.com/sites/sergeiklebnikov/2022/03/04/war-stocks-are-surging-as-russia-ukraine-conflict-rages-on-lockheed-martin-northrop-up-20/\n",
      "https://www.forbes.com/sites/alisondurkee/2022/03/04/rep-madison-cawthorn-can-run-for-reelection-despite-january-6-role-judge-rules/\n",
      "https://www.forbes.com/sites/masonbissada/2022/03/04/international-gymnastics-federation-bars-russia-belarus-as-sports-world-reacts-to-ukraine-invasion/\n",
      "https://www.forbes.com/sites/marisadellatto/2022/03/04/emmys-netflix-cut-ties-to-russia-as-entertainment-industry-reacts-to-ukraine-invasion/\n",
      "https://www.forbes.com/sites/alisondurkee/2022/03/04/bidens-approval-rating-jumps-8-points-after-state-of-the-union-with-strong-support-of-handling-of-ukraine-crisis/\n"
     ]
    }
   ],
   "source": [
    "for i in soup.find_all('a',{\"class\":\"happening__title\"}):\n",
    "    print(i.get('href'))"
   ]
  },
  {
   "cell_type": "markdown",
   "id": "d25eb70b",
   "metadata": {},
   "source": [
    "## 해당 기사에서 텍스트를 스크랩"
   ]
  },
  {
   "cell_type": "code",
   "execution_count": 30,
   "id": "ed7064f5",
   "metadata": {},
   "outputs": [],
   "source": [
    "article1='https://www.forbes.com/sites/roberthart/2022/03/07/humanitarian-corridors-what-you-need-to-know-as-refugees-seek-safe-passage-to-leave-ukraine/'"
   ]
  },
  {
   "cell_type": "code",
   "execution_count": 31,
   "id": "a8457bcc",
   "metadata": {},
   "outputs": [],
   "source": [
    "soup2=bs(ure.urlopen(article1).read(), 'html.parser')"
   ]
  },
  {
   "cell_type": "code",
   "execution_count": 32,
   "id": "66be1aea",
   "metadata": {},
   "outputs": [
    {
     "name": "stdout",
     "output_type": "stream",
     "text": [
      "As 1.7 million people flee Russia’s attack on Ukraine, Moscow on Monday announced new “humanitarian corridors” that would allow Ukrainian civilians to escape to Russia and allied Belarus, a move swiftly decried as “immoral” by Kyiv a day after fleeing civilians were fired upon by Russian troops. \n",
      "Russia offered to open up humanitarian corridors to its territory and Belarus. \n",
      "Humanitarian corridors are effectively a temporary pause of hostilities in a defined area, designed to reduce civilian casualties by allowing them to evacuate safely if they want to and for humanitarian aid like food and medical supplies to be delivered to areas of conflict. \n",
      "There are no clear rules governing the corridors and all parties involved in the conflict must agree to them before putting one in place. \n",
      "Most agreements to set up a corridor will typically limit access to neutral parties like the United Nations or aid organizations, outline any restrictions on modes of transport permitted and clearly delineate the area and time of the safezone. \n",
      "In many instances, humanitarian corridors are negotiated by a third party not involved in the fighting, normally the United Nations, and were employed numerous times during the Bosnian War and Syrian Civil War. \n",
      "Russia on Monday has offered to hold fire and open humanitarian corridors in several Ukrainian cities, including Kyiv, even as it continues its assault on major cities.\n",
      "Ukrainian President Volodymyr Zelensky slammed the offer, which would only allow civilians to flee the country to either Russia or pro-Russia Belarus, as \"completely immoral\" and an effort to “manipulate” Western leaders. \n",
      "Previous attempts to establish safe evacuation routes for civilians fleeing Ukraine failed after Russian forces reportedly reneged on the ceasefire agreement and prevented civilians from leaving as they continued to shell the area. Russia blamed Ukrainian “nationalists” for preventing civilians leaving via the agreed routes, though the U.K.’s Ministry of Defence said the proposal was likely an attempt to “deflect international condemnation” and create an opportunity to reset troops. The route out of Mariupol agreed on Sunday was actually mined, according to the Red Cross, which the group’s director of operations, Dominik Stillhart, said underscores the need for both parties to have “a precise agreement.”\n",
      "Other corridor proposals. Ukrainian officials have described corridor proposals to Russia and Belarus as “unacceptable” and called on routes to be opened into western Ukraine and the European Union. The World Health Organization has also called for a humanitarian corridor to be opened to ensure humanitarian workers and supplies can reach people in need. The organization said medical supplies it placed in the capital Kyiv before the conflict are inaccessible.\n",
      "“It’s a principle of humanity to allow people to escape when war is raging,” said Laurent Ligozat, MSF’s emergency coordinator in Ukraine. “Civilians caught in conflict must be protected.”\n",
      "1.7 million. That’s how many refugees have fled Ukraine since February 24, according to the UN. The majority of these, more than 1 million people, have fled to neighboring Poland. The group expects 4 million could flee and seek asylum as a result of the conflict. \n",
      "Ukraine’s Zelenskiy vows revenge on Russian forces after fleeing family killed in shelling of Irpin (Guardian)\n",
      "\n"
     ]
    }
   ],
   "source": [
    "for i in soup2.find_all('p'):\n",
    "    print(i.text)"
   ]
  },
  {
   "cell_type": "code",
   "execution_count": 33,
   "id": "927716f6",
   "metadata": {},
   "outputs": [],
   "source": [
    "happening=soup.find_all('a', {\"class\":\"happening__title\"})"
   ]
  },
  {
   "cell_type": "code",
   "execution_count": 40,
   "id": "49020e51",
   "metadata": {},
   "outputs": [],
   "source": [
    "rows=[]\n",
    "for i in range(len(happening)):\n",
    "    happeningtitle=happening[i].text\n",
    "    happeningurl=happening[i].get('href')\n",
    "    soup2=bs(ure.urlopen(happeningurl).read(), 'html.parser')\n",
    "    txt= \"\"\n",
    "    for j in soup2.find_all('p'):\n",
    "        txt=txt+j.text\n",
    "    rows.append({'Title': happeningtitle, 'URL':happeningurl, 'Text':txt})"
   ]
  },
  {
   "cell_type": "code",
   "execution_count": 39,
   "id": "44f240ba",
   "metadata": {},
   "outputs": [
    {
     "data": {
      "text/html": [
       "<div>\n",
       "<style scoped>\n",
       "    .dataframe tbody tr th:only-of-type {\n",
       "        vertical-align: middle;\n",
       "    }\n",
       "\n",
       "    .dataframe tbody tr th {\n",
       "        vertical-align: top;\n",
       "    }\n",
       "\n",
       "    .dataframe thead th {\n",
       "        text-align: right;\n",
       "    }\n",
       "</style>\n",
       "<table border=\"1\" class=\"dataframe\">\n",
       "  <thead>\n",
       "    <tr style=\"text-align: right;\">\n",
       "      <th></th>\n",
       "      <th>Title</th>\n",
       "      <th>URL</th>\n",
       "      <th>Text</th>\n",
       "    </tr>\n",
       "  </thead>\n",
       "  <tbody>\n",
       "    <tr>\n",
       "      <th>0</th>\n",
       "      <td>Humanitarian Corridors: What You Need To Know ...</td>\n",
       "      <td>https://www.forbes.com/sites/roberthart/2022/0...</td>\n",
       "      <td>As 1.7 million people flee Russia’s attack on ...</td>\n",
       "    </tr>\n",
       "    <tr>\n",
       "      <th>1</th>\n",
       "      <td>More Than 6 Million People Have Now Died With ...</td>\n",
       "      <td>https://www.forbes.com/sites/roberthart/2022/0...</td>\n",
       "      <td>The global death toll from Covid-19 passed 6 m...</td>\n",
       "    </tr>\n",
       "    <tr>\n",
       "      <th>2</th>\n",
       "      <td>Global Stocks Slump, Oil Prices Touch 14-Year ...</td>\n",
       "      <td>https://www.forbes.com/sites/siladityaray/2022...</td>\n",
       "      <td>Global stock markets continued to be roiled by...</td>\n",
       "    </tr>\n",
       "    <tr>\n",
       "      <th>3</th>\n",
       "      <td>Netflix, TikTok, Major Accounting Firms Suspen...</td>\n",
       "      <td>https://www.forbes.com/sites/marisadellatto/20...</td>\n",
       "      <td>TikTok announced Sunday it had “no choice” but...</td>\n",
       "    </tr>\n",
       "    <tr>\n",
       "      <th>4</th>\n",
       "      <td>War Crimes In Ukraine? Here’s What Russia’s Be...</td>\n",
       "      <td>https://www.forbes.com/sites/dereksaul/2022/03...</td>\n",
       "      <td>The U.S. said Sunday there’s “credible” eviden...</td>\n",
       "    </tr>\n",
       "    <tr>\n",
       "      <th>5</th>\n",
       "      <td>U.S. In ‘Active Discussions’ To Ban Russian Oi...</td>\n",
       "      <td>https://www.forbes.com/sites/dereksaul/2022/03...</td>\n",
       "      <td>Secretary of State Antony Blinken said Sunday ...</td>\n",
       "    </tr>\n",
       "    <tr>\n",
       "      <th>6</th>\n",
       "      <td>IMF Warns Of Serious Global Economic Consequen...</td>\n",
       "      <td>https://www.forbes.com/sites/lisakim/2022/03/0...</td>\n",
       "      <td>The International Monetary Fund warned Saturda...</td>\n",
       "    </tr>\n",
       "    <tr>\n",
       "      <th>7</th>\n",
       "      <td>At Least Seven People, Including Two Children,...</td>\n",
       "      <td>https://www.forbes.com/sites/siladityaray/2022...</td>\n",
       "      <td>At least seven people, including two children,...</td>\n",
       "    </tr>\n",
       "    <tr>\n",
       "      <th>8</th>\n",
       "      <td>Israeli Prime Minister Makes Surprise Visit To...</td>\n",
       "      <td>https://www.forbes.com/sites/lisakim/2022/03/0...</td>\n",
       "      <td>Israeli Prime Minister Naftali Bennett made a ...</td>\n",
       "    </tr>\n",
       "    <tr>\n",
       "      <th>9</th>\n",
       "      <td>Live: Kyiv Rejects Moscow’s ‘Immoral’ Offer Of...</td>\n",
       "      <td>https://www.forbes.com/sites/forbesstaffreport...</td>\n",
       "      <td>Follow real-time updates on Russia's invasion ...</td>\n",
       "    </tr>\n",
       "    <tr>\n",
       "      <th>10</th>\n",
       "      <td>Italian Authorities Freeze Two Yachts Owned By...</td>\n",
       "      <td>https://www.forbes.com/sites/giacomotognini/20...</td>\n",
       "      <td>Alexey Mordashov's Lady M yacht in Imperia, It...</td>\n",
       "    </tr>\n",
       "    <tr>\n",
       "      <th>11</th>\n",
       "      <td>WNBA Player Brittney Griner Reportedly Detaine...</td>\n",
       "      <td>https://www.forbes.com/sites/lisakim/2022/03/0...</td>\n",
       "      <td>Phoenix Mercury center Brittney Griner has bee...</td>\n",
       "    </tr>\n",
       "    <tr>\n",
       "      <th>12</th>\n",
       "      <td>Dow Hits Fourth Week Of Losses, Oil Nears $120...</td>\n",
       "      <td>https://www.forbes.com/sites/sergeiklebnikov/2...</td>\n",
       "      <td>Despite a solid February jobs report, the stoc...</td>\n",
       "    </tr>\n",
       "    <tr>\n",
       "      <th>13</th>\n",
       "      <td>Weight Watchers App Violated Kids’ Privacy, DO...</td>\n",
       "      <td>https://www.forbes.com/sites/zacharysmith/2022...</td>\n",
       "      <td>Kurbo and WW International—formerly Weight Wat...</td>\n",
       "    </tr>\n",
       "    <tr>\n",
       "      <th>14</th>\n",
       "      <td>Faces Of Fear: Photos Show Ukrainian Refugees ...</td>\n",
       "      <td>https://www.forbes.com/sites/lisakim/2022/03/0...</td>\n",
       "      <td>Ukrainians rushed to flee Ukraine Friday, fear...</td>\n",
       "    </tr>\n",
       "    <tr>\n",
       "      <th>15</th>\n",
       "      <td>Russia Bans Facebook And Twitter</td>\n",
       "      <td>https://www.forbes.com/sites/nicholasreimann/2...</td>\n",
       "      <td>Amid a crackdown on protests and independent r...</td>\n",
       "    </tr>\n",
       "    <tr>\n",
       "      <th>16</th>\n",
       "      <td>War Stocks Are Surging As Russia-Ukraine Confl...</td>\n",
       "      <td>https://www.forbes.com/sites/sergeiklebnikov/2...</td>\n",
       "      <td>Shares of major U.S. aerospace and defense com...</td>\n",
       "    </tr>\n",
       "    <tr>\n",
       "      <th>17</th>\n",
       "      <td>Rep. Madison Cawthorn Can Run For Reelection D...</td>\n",
       "      <td>https://www.forbes.com/sites/alisondurkee/2022...</td>\n",
       "      <td>An effort by North Carolina voters to block Re...</td>\n",
       "    </tr>\n",
       "    <tr>\n",
       "      <th>18</th>\n",
       "      <td>International Gymnastics Federation Bars Russi...</td>\n",
       "      <td>https://www.forbes.com/sites/masonbissada/2022...</td>\n",
       "      <td>The International Federation of Gymnastics bar...</td>\n",
       "    </tr>\n",
       "    <tr>\n",
       "      <th>19</th>\n",
       "      <td>Emmys, Netflix Cut Ties To Russia As Entertain...</td>\n",
       "      <td>https://www.forbes.com/sites/marisadellatto/20...</td>\n",
       "      <td>The television industry group that puts on the...</td>\n",
       "    </tr>\n",
       "    <tr>\n",
       "      <th>20</th>\n",
       "      <td>Biden’s Approval Rating Jumps 8 Points After S...</td>\n",
       "      <td>https://www.forbes.com/sites/alisondurkee/2022...</td>\n",
       "      <td>President Joe Biden’s approval rating has rebo...</td>\n",
       "    </tr>\n",
       "  </tbody>\n",
       "</table>\n",
       "</div>"
      ],
      "text/plain": [
       "                                                Title  \\\n",
       "0   Humanitarian Corridors: What You Need To Know ...   \n",
       "1   More Than 6 Million People Have Now Died With ...   \n",
       "2   Global Stocks Slump, Oil Prices Touch 14-Year ...   \n",
       "3   Netflix, TikTok, Major Accounting Firms Suspen...   \n",
       "4   War Crimes In Ukraine? Here’s What Russia’s Be...   \n",
       "5   U.S. In ‘Active Discussions’ To Ban Russian Oi...   \n",
       "6   IMF Warns Of Serious Global Economic Consequen...   \n",
       "7   At Least Seven People, Including Two Children,...   \n",
       "8   Israeli Prime Minister Makes Surprise Visit To...   \n",
       "9   Live: Kyiv Rejects Moscow’s ‘Immoral’ Offer Of...   \n",
       "10  Italian Authorities Freeze Two Yachts Owned By...   \n",
       "11  WNBA Player Brittney Griner Reportedly Detaine...   \n",
       "12  Dow Hits Fourth Week Of Losses, Oil Nears $120...   \n",
       "13  Weight Watchers App Violated Kids’ Privacy, DO...   \n",
       "14  Faces Of Fear: Photos Show Ukrainian Refugees ...   \n",
       "15                   Russia Bans Facebook And Twitter   \n",
       "16  War Stocks Are Surging As Russia-Ukraine Confl...   \n",
       "17  Rep. Madison Cawthorn Can Run For Reelection D...   \n",
       "18  International Gymnastics Federation Bars Russi...   \n",
       "19  Emmys, Netflix Cut Ties To Russia As Entertain...   \n",
       "20  Biden’s Approval Rating Jumps 8 Points After S...   \n",
       "\n",
       "                                                  URL  \\\n",
       "0   https://www.forbes.com/sites/roberthart/2022/0...   \n",
       "1   https://www.forbes.com/sites/roberthart/2022/0...   \n",
       "2   https://www.forbes.com/sites/siladityaray/2022...   \n",
       "3   https://www.forbes.com/sites/marisadellatto/20...   \n",
       "4   https://www.forbes.com/sites/dereksaul/2022/03...   \n",
       "5   https://www.forbes.com/sites/dereksaul/2022/03...   \n",
       "6   https://www.forbes.com/sites/lisakim/2022/03/0...   \n",
       "7   https://www.forbes.com/sites/siladityaray/2022...   \n",
       "8   https://www.forbes.com/sites/lisakim/2022/03/0...   \n",
       "9   https://www.forbes.com/sites/forbesstaffreport...   \n",
       "10  https://www.forbes.com/sites/giacomotognini/20...   \n",
       "11  https://www.forbes.com/sites/lisakim/2022/03/0...   \n",
       "12  https://www.forbes.com/sites/sergeiklebnikov/2...   \n",
       "13  https://www.forbes.com/sites/zacharysmith/2022...   \n",
       "14  https://www.forbes.com/sites/lisakim/2022/03/0...   \n",
       "15  https://www.forbes.com/sites/nicholasreimann/2...   \n",
       "16  https://www.forbes.com/sites/sergeiklebnikov/2...   \n",
       "17  https://www.forbes.com/sites/alisondurkee/2022...   \n",
       "18  https://www.forbes.com/sites/masonbissada/2022...   \n",
       "19  https://www.forbes.com/sites/marisadellatto/20...   \n",
       "20  https://www.forbes.com/sites/alisondurkee/2022...   \n",
       "\n",
       "                                                 Text  \n",
       "0   As 1.7 million people flee Russia’s attack on ...  \n",
       "1   The global death toll from Covid-19 passed 6 m...  \n",
       "2   Global stock markets continued to be roiled by...  \n",
       "3   TikTok announced Sunday it had “no choice” but...  \n",
       "4   The U.S. said Sunday there’s “credible” eviden...  \n",
       "5   Secretary of State Antony Blinken said Sunday ...  \n",
       "6   The International Monetary Fund warned Saturda...  \n",
       "7   At least seven people, including two children,...  \n",
       "8   Israeli Prime Minister Naftali Bennett made a ...  \n",
       "9   Follow real-time updates on Russia's invasion ...  \n",
       "10  Alexey Mordashov's Lady M yacht in Imperia, It...  \n",
       "11  Phoenix Mercury center Brittney Griner has bee...  \n",
       "12  Despite a solid February jobs report, the stoc...  \n",
       "13  Kurbo and WW International—formerly Weight Wat...  \n",
       "14  Ukrainians rushed to flee Ukraine Friday, fear...  \n",
       "15  Amid a crackdown on protests and independent r...  \n",
       "16  Shares of major U.S. aerospace and defense com...  \n",
       "17  An effort by North Carolina voters to block Re...  \n",
       "18  The International Federation of Gymnastics bar...  \n",
       "19  The television industry group that puts on the...  \n",
       "20  President Joe Biden’s approval rating has rebo...  "
      ]
     },
     "execution_count": 39,
     "metadata": {},
     "output_type": "execute_result"
    }
   ],
   "source": [
    "import pandas as pd\n",
    "df=pd.DataFrame(rows, columns=['Title', 'URL', 'Text'])\n",
    "df"
   ]
  }
 ],
 "metadata": {
  "kernelspec": {
   "display_name": "Python 3 (ipykernel)",
   "language": "python",
   "name": "python3"
  },
  "language_info": {
   "codemirror_mode": {
    "name": "ipython",
    "version": 3
   },
   "file_extension": ".py",
   "mimetype": "text/x-python",
   "name": "python",
   "nbconvert_exporter": "python",
   "pygments_lexer": "ipython3",
   "version": "3.8.5"
  }
 },
 "nbformat": 4,
 "nbformat_minor": 5
}
