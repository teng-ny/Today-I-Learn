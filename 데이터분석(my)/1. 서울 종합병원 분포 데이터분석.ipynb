{
 "cells": [
  {
   "cell_type": "markdown",
   "id": "f7cece4c",
   "metadata": {},
   "source": [
    "# 가설설정 \n",
    "- 서울의 종합병원은 고르게 분포되어 있을까?"
   ]
  },
  {
   "cell_type": "markdown",
   "id": "c74c3d0c",
   "metadata": {},
   "source": [
    "## 1. 데이터 불러오기"
   ]
  },
  {
   "cell_type": "code",
   "execution_count": 1,
   "id": "5156f42f",
   "metadata": {},
   "outputs": [
    {
     "name": "stderr",
     "output_type": "stream",
     "text": [
      "C:\\Users\\taeeu\\anaconda3\\lib\\site-packages\\numpy\\_distributor_init.py:30: UserWarning: loaded more than 1 DLL from .libs:\n",
      "C:\\Users\\taeeu\\anaconda3\\lib\\site-packages\\numpy\\.libs\\libopenblas.el2c6ple4zyw3eceviv3oxxgrn2nrfm2.gfortran-win_amd64.dll\n",
      "C:\\Users\\taeeu\\anaconda3\\lib\\site-packages\\numpy\\.libs\\libopenblas.WCDJNK7YVMPZQ2ME2ZZHJJRJ3JIKNDB7.gfortran-win_amd64.dll\n",
      "  warnings.warn(\"loaded more than 1 DLL from .libs:\"\n"
     ]
    }
   ],
   "source": [
    "import pandas as pd\n",
    "import seaborn as sns\n",
    "import matplotlib.pyplot as plt\n",
    "\n",
    "#그래프가 노트북 안에 보이게 하기 위해\n",
    "%matplotlib inline\n",
    "\n",
    "#한글 폰트 설정\n",
    "#matplotlib에서는 한글폰트가 깨지기 때문에\n",
    "plt.rc('font', family='Malgun Gothic')\n",
    "#마이너스 기호가 표시되도록 해줌\n",
    "plt.rc('axes', unicode_minus=False)"
   ]
  },
  {
   "cell_type": "code",
   "execution_count": 2,
   "id": "2d269b33",
   "metadata": {},
   "outputs": [
    {
     "data": {
      "text/plain": [
       "(91335, 39)"
      ]
     },
     "execution_count": 2,
     "metadata": {},
     "output_type": "execute_result"
    }
   ],
   "source": [
    "df=pd.read_csv('소상공인시장진흥공단_상가업소정보_의료기관_201909.csv', encoding='cp949')\n",
    "\n",
    "#행열 개수\n",
    "df.shape"
   ]
  },
  {
   "cell_type": "code",
   "execution_count": 3,
   "id": "a98c970e",
   "metadata": {},
   "outputs": [
    {
     "data": {
      "text/html": [
       "<div>\n",
       "<style scoped>\n",
       "    .dataframe tbody tr th:only-of-type {\n",
       "        vertical-align: middle;\n",
       "    }\n",
       "\n",
       "    .dataframe tbody tr th {\n",
       "        vertical-align: top;\n",
       "    }\n",
       "\n",
       "    .dataframe thead th {\n",
       "        text-align: right;\n",
       "    }\n",
       "</style>\n",
       "<table border=\"1\" class=\"dataframe\">\n",
       "  <thead>\n",
       "    <tr style=\"text-align: right;\">\n",
       "      <th></th>\n",
       "      <th>상가업소번호</th>\n",
       "      <th>상호명</th>\n",
       "      <th>지점명</th>\n",
       "      <th>상권업종대분류코드</th>\n",
       "      <th>상권업종대분류명</th>\n",
       "      <th>상권업종중분류코드</th>\n",
       "      <th>상권업종중분류명</th>\n",
       "      <th>상권업종소분류코드</th>\n",
       "      <th>상권업종소분류명</th>\n",
       "      <th>표준산업분류코드</th>\n",
       "      <th>...</th>\n",
       "      <th>건물관리번호</th>\n",
       "      <th>건물명</th>\n",
       "      <th>도로명주소</th>\n",
       "      <th>구우편번호</th>\n",
       "      <th>신우편번호</th>\n",
       "      <th>동정보</th>\n",
       "      <th>층정보</th>\n",
       "      <th>호정보</th>\n",
       "      <th>경도</th>\n",
       "      <th>위도</th>\n",
       "    </tr>\n",
       "  </thead>\n",
       "  <tbody>\n",
       "    <tr>\n",
       "      <th>0</th>\n",
       "      <td>19956873</td>\n",
       "      <td>하나산부인과</td>\n",
       "      <td>NaN</td>\n",
       "      <td>S</td>\n",
       "      <td>의료</td>\n",
       "      <td>S01</td>\n",
       "      <td>병원</td>\n",
       "      <td>S01B10</td>\n",
       "      <td>산부인과</td>\n",
       "      <td>Q86201</td>\n",
       "      <td>...</td>\n",
       "      <td>4.130000e+24</td>\n",
       "      <td>산호한양아파트</td>\n",
       "      <td>경기도 안산시 단원구 달미로 10</td>\n",
       "      <td>425764.0</td>\n",
       "      <td>15236.0</td>\n",
       "      <td>NaN</td>\n",
       "      <td>NaN</td>\n",
       "      <td>NaN</td>\n",
       "      <td>126.814295</td>\n",
       "      <td>37.336344</td>\n",
       "    </tr>\n",
       "  </tbody>\n",
       "</table>\n",
       "<p>1 rows × 39 columns</p>\n",
       "</div>"
      ],
      "text/plain": [
       "     상가업소번호     상호명  지점명 상권업종대분류코드 상권업종대분류명 상권업종중분류코드 상권업종중분류명 상권업종소분류코드  \\\n",
       "0  19956873  하나산부인과  NaN         S       의료       S01       병원    S01B10   \n",
       "\n",
       "  상권업종소분류명 표준산업분류코드  ...        건물관리번호      건물명               도로명주소     구우편번호  \\\n",
       "0     산부인과   Q86201  ...  4.130000e+24  산호한양아파트  경기도 안산시 단원구 달미로 10  425764.0   \n",
       "\n",
       "     신우편번호  동정보 층정보  호정보          경도         위도  \n",
       "0  15236.0  NaN NaN  NaN  126.814295  37.336344  \n",
       "\n",
       "[1 rows x 39 columns]"
      ]
     },
     "execution_count": 3,
     "metadata": {},
     "output_type": "execute_result"
    }
   ],
   "source": [
    "df.head(1)"
   ]
  },
  {
   "cell_type": "code",
   "execution_count": 4,
   "id": "0bc439f7",
   "metadata": {},
   "outputs": [
    {
     "name": "stdout",
     "output_type": "stream",
     "text": [
      "<class 'pandas.core.frame.DataFrame'>\n",
      "RangeIndex: 91335 entries, 0 to 91334\n",
      "Data columns (total 39 columns):\n",
      " #   Column     Non-Null Count  Dtype  \n",
      "---  ------     --------------  -----  \n",
      " 0   상가업소번호     91335 non-null  int64  \n",
      " 1   상호명        91335 non-null  object \n",
      " 2   지점명        1346 non-null   object \n",
      " 3   상권업종대분류코드  91335 non-null  object \n",
      " 4   상권업종대분류명   91335 non-null  object \n",
      " 5   상권업종중분류코드  91335 non-null  object \n",
      " 6   상권업종중분류명   91335 non-null  object \n",
      " 7   상권업종소분류코드  91335 non-null  object \n",
      " 8   상권업종소분류명   91335 non-null  object \n",
      " 9   표준산업분류코드   86413 non-null  object \n",
      " 10  표준산업분류명    86413 non-null  object \n",
      " 11  시도코드       90956 non-null  float64\n",
      " 12  시도명        90956 non-null  object \n",
      " 13  시군구코드      90956 non-null  float64\n",
      " 14  시군구명       90956 non-null  object \n",
      " 15  행정동코드      91335 non-null  int64  \n",
      " 16  행정동명       90956 non-null  object \n",
      " 17  법정동코드      91280 non-null  float64\n",
      " 18  법정동명       91280 non-null  object \n",
      " 19  지번코드       91335 non-null  float64\n",
      " 20  대지구분코드     91335 non-null  int64  \n",
      " 21  대지구분명      91335 non-null  object \n",
      " 22  지번본번지      91335 non-null  int64  \n",
      " 23  지번부번지      72079 non-null  float64\n",
      " 24  지번주소       91335 non-null  object \n",
      " 25  도로명코드      91335 non-null  float64\n",
      " 26  도로명        91335 non-null  object \n",
      " 27  건물본번지      91335 non-null  int64  \n",
      " 28  건물부번지      10604 non-null  float64\n",
      " 29  건물관리번호     91335 non-null  float64\n",
      " 30  건물명        46453 non-null  object \n",
      " 31  도로명주소      91335 non-null  object \n",
      " 32  구우편번호      91323 non-null  float64\n",
      " 33  신우편번호      91333 non-null  float64\n",
      " 34  동정보        7406 non-null   object \n",
      " 35  층정보        43989 non-null  float64\n",
      " 36  호정보        15437 non-null  float64\n",
      " 37  경도         91335 non-null  float64\n",
      " 38  위도         91335 non-null  float64\n",
      "dtypes: float64(14), int64(5), object(20)\n",
      "memory usage: 27.2+ MB\n"
     ]
    }
   ],
   "source": [
    "df.info()"
   ]
  },
  {
   "cell_type": "markdown",
   "id": "3a4a7663",
   "metadata": {},
   "source": [
    "## 2. 전처리"
   ]
  },
  {
   "cell_type": "code",
   "execution_count": 5,
   "id": "5892389f",
   "metadata": {},
   "outputs": [
    {
     "data": {
      "text/plain": [
       "상가업소번호           0\n",
       "상호명              0\n",
       "지점명          89989\n",
       "상권업종대분류코드        0\n",
       "상권업종대분류명         0\n",
       "상권업종중분류코드        0\n",
       "상권업종중분류명         0\n",
       "상권업종소분류코드        0\n",
       "상권업종소분류명         0\n",
       "표준산업분류코드      4922\n",
       "표준산업분류명       4922\n",
       "시도코드           379\n",
       "시도명            379\n",
       "시군구코드          379\n",
       "시군구명           379\n",
       "행정동코드            0\n",
       "행정동명           379\n",
       "법정동코드           55\n",
       "법정동명            55\n",
       "지번코드             0\n",
       "대지구분코드           0\n",
       "대지구분명            0\n",
       "지번본번지            0\n",
       "지번부번지        19256\n",
       "지번주소             0\n",
       "도로명코드            0\n",
       "도로명              0\n",
       "건물본번지            0\n",
       "건물부번지        80731\n",
       "건물관리번호           0\n",
       "건물명          44882\n",
       "도로명주소            0\n",
       "구우편번호           12\n",
       "신우편번호            2\n",
       "동정보          83929\n",
       "층정보          47346\n",
       "호정보          75898\n",
       "경도               0\n",
       "위도               0\n",
       "dtype: int64"
      ]
     },
     "execution_count": 5,
     "metadata": {},
     "output_type": "execute_result"
    }
   ],
   "source": [
    "null_count=df.isnull().sum()\n",
    "null_count"
   ]
  },
  {
   "cell_type": "code",
   "execution_count": 6,
   "id": "55e03950",
   "metadata": {},
   "outputs": [
    {
     "data": {
      "text/plain": [
       "<AxesSubplot:>"
      ]
     },
     "execution_count": 6,
     "metadata": {},
     "output_type": "execute_result"
    },
    {
     "data": {
      "image/png": "[encoded data removed]",
      "text/plain": [
       "<Figure size 360x720 with 1 Axes>"
      ]
     },
     "metadata": {
      "needs_background": "light"
     },
     "output_type": "display_data"
    }
   ],
   "source": [
    "#결측치가 어디에 많은지 시각적으로 확인\n",
    "null_count.plot.barh(figsize=(5,10))"
   ]
  },
  {
   "cell_type": "code",
   "execution_count": 7,
   "id": "925d6b6b",
   "metadata": {},
   "outputs": [
    {
     "name": "stdout",
     "output_type": "stream",
     "text": [
      "       index      0\n",
      "0     상가업소번호      0\n",
      "1        상호명      0\n",
      "2        지점명  89989\n",
      "3  상권업종대분류코드      0\n",
      "4   상권업종대분류명      0\n",
      "         컬럼명   결측치수\n",
      "0     상가업소번호      0\n",
      "1        상호명      0\n",
      "2        지점명  89989\n",
      "3  상권업종대분류코드      0\n",
      "4   상권업종대분류명      0\n"
     ]
    }
   ],
   "source": [
    "df_null_count=null_count.reset_index()\n",
    "print(df_null_count.head())\n",
    "\n",
    "#컬럼명 변경\n",
    "df_null_count.columns=['컬럼명','결측치수']\n",
    "print(df_null_count.head())"
   ]
  },
  {
   "cell_type": "code",
   "execution_count": 8,
   "id": "c7a777d0",
   "metadata": {},
   "outputs": [
    {
     "data": {
      "text/html": [
       "<div>\n",
       "<style scoped>\n",
       "    .dataframe tbody tr th:only-of-type {\n",
       "        vertical-align: middle;\n",
       "    }\n",
       "\n",
       "    .dataframe tbody tr th {\n",
       "        vertical-align: top;\n",
       "    }\n",
       "\n",
       "    .dataframe thead th {\n",
       "        text-align: right;\n",
       "    }\n",
       "</style>\n",
       "<table border=\"1\" class=\"dataframe\">\n",
       "  <thead>\n",
       "    <tr style=\"text-align: right;\">\n",
       "      <th></th>\n",
       "      <th>컬럼명</th>\n",
       "      <th>결측치수</th>\n",
       "    </tr>\n",
       "  </thead>\n",
       "  <tbody>\n",
       "    <tr>\n",
       "      <th>2</th>\n",
       "      <td>지점명</td>\n",
       "      <td>89989</td>\n",
       "    </tr>\n",
       "    <tr>\n",
       "      <th>34</th>\n",
       "      <td>동정보</td>\n",
       "      <td>83929</td>\n",
       "    </tr>\n",
       "    <tr>\n",
       "      <th>28</th>\n",
       "      <td>건물부번지</td>\n",
       "      <td>80731</td>\n",
       "    </tr>\n",
       "    <tr>\n",
       "      <th>36</th>\n",
       "      <td>호정보</td>\n",
       "      <td>75898</td>\n",
       "    </tr>\n",
       "    <tr>\n",
       "      <th>35</th>\n",
       "      <td>층정보</td>\n",
       "      <td>47346</td>\n",
       "    </tr>\n",
       "    <tr>\n",
       "      <th>30</th>\n",
       "      <td>건물명</td>\n",
       "      <td>44882</td>\n",
       "    </tr>\n",
       "    <tr>\n",
       "      <th>23</th>\n",
       "      <td>지번부번지</td>\n",
       "      <td>19256</td>\n",
       "    </tr>\n",
       "    <tr>\n",
       "      <th>9</th>\n",
       "      <td>표준산업분류코드</td>\n",
       "      <td>4922</td>\n",
       "    </tr>\n",
       "    <tr>\n",
       "      <th>10</th>\n",
       "      <td>표준산업분류명</td>\n",
       "      <td>4922</td>\n",
       "    </tr>\n",
       "    <tr>\n",
       "      <th>11</th>\n",
       "      <td>시도코드</td>\n",
       "      <td>379</td>\n",
       "    </tr>\n",
       "  </tbody>\n",
       "</table>\n",
       "</div>"
      ],
      "text/plain": [
       "         컬럼명   결측치수\n",
       "2        지점명  89989\n",
       "34       동정보  83929\n",
       "28     건물부번지  80731\n",
       "36       호정보  75898\n",
       "35       층정보  47346\n",
       "30       건물명  44882\n",
       "23     지번부번지  19256\n",
       "9   표준산업분류코드   4922\n",
       "10   표준산업분류명   4922\n",
       "11      시도코드    379"
      ]
     },
     "execution_count": 8,
     "metadata": {},
     "output_type": "execute_result"
    }
   ],
   "source": [
    "df_null_count_top=df_null_count.sort_values(by=\"결측치수\", ascending=False).head(10)\n",
    "df_null_count_top"
   ]
  },
  {
   "cell_type": "code",
   "execution_count": 9,
   "id": "cd08e66c",
   "metadata": {},
   "outputs": [
    {
     "data": {
      "text/plain": [
       "0    NaN\n",
       "1    NaN\n",
       "2    NaN\n",
       "3    NaN\n",
       "4    수지점\n",
       "Name: 지점명, dtype: object"
      ]
     },
     "execution_count": 9,
     "metadata": {},
     "output_type": "execute_result"
    }
   ],
   "source": [
    "df['지점명'].head()"
   ]
  },
  {
   "cell_type": "code",
   "execution_count": 10,
   "id": "b921c4b3",
   "metadata": {},
   "outputs": [
    {
     "data": {
      "text/plain": [
       "['지점명',\n",
       " '동정보',\n",
       " '건물부번지',\n",
       " '호정보',\n",
       " '층정보',\n",
       " '건물명',\n",
       " '지번부번지',\n",
       " '표준산업분류코드',\n",
       " '표준산업분류명',\n",
       " '시도코드']"
      ]
     },
     "execution_count": 10,
     "metadata": {},
     "output_type": "execute_result"
    }
   ],
   "source": [
    "#결측치가 많은 컬럼의 컬럼명 리스트로 저장\n",
    "drop_columns=df_null_count_top[\"컬럼명\"].tolist()\n",
    "drop_columns"
   ]
  },
  {
   "cell_type": "code",
   "execution_count": 11,
   "id": "5e969e4c",
   "metadata": {},
   "outputs": [
    {
     "name": "stdout",
     "output_type": "stream",
     "text": [
      "원데이터 : (91335, 39)\n",
      "drop 후 : (91335, 29)\n"
     ]
    }
   ],
   "source": [
    "#삭제할 columns 조회 후 삭제하기\n",
    "df[drop_columns].head()\n",
    "\n",
    "print(\"원데이터 :\", df.shape)\n",
    "df=df.drop(drop_columns, axis=1)\n",
    "print(\"drop 후 :\", df.shape)"
   ]
  },
  {
   "cell_type": "markdown",
   "id": "18afdd46",
   "metadata": {},
   "source": [
    "## 3. 시각화"
   ]
  },
  {
   "cell_type": "code",
   "execution_count": 12,
   "id": "d495736e",
   "metadata": {},
   "outputs": [
    {
     "data": {
      "text/plain": [
       "경기도        21374\n",
       "서울특별시      18943\n",
       "부산광역시       6473\n",
       "경상남도        4973\n",
       "인천광역시       4722\n",
       "대구광역시       4597\n",
       "경상북도        4141\n",
       "전라북도        3894\n",
       "충청남도        3578\n",
       "전라남도        3224\n",
       "광주광역시       3214\n",
       "대전광역시       3067\n",
       "충청북도        2677\n",
       "강원도         2634\n",
       "울산광역시       1997\n",
       "제주특별자치도     1095\n",
       "세종특별자치시      353\n",
       "Name: 시도명, dtype: int64"
      ]
     },
     "execution_count": 12,
     "metadata": {},
     "output_type": "execute_result"
    }
   ],
   "source": [
    "city=df[\"시도명\"].value_counts()\n",
    "city"
   ]
  },
  {
   "cell_type": "code",
   "execution_count": 13,
   "id": "18774640",
   "metadata": {},
   "outputs": [
    {
     "data": {
      "text/plain": [
       "경기도        0.234993\n",
       "서울특별시      0.208266\n",
       "부산광역시      0.071166\n",
       "경상남도       0.054675\n",
       "인천광역시      0.051915\n",
       "대구광역시      0.050541\n",
       "경상북도       0.045528\n",
       "전라북도       0.042812\n",
       "충청남도       0.039338\n",
       "전라남도       0.035446\n",
       "광주광역시      0.035336\n",
       "대전광역시      0.033720\n",
       "충청북도       0.029432\n",
       "강원도        0.028959\n",
       "울산광역시      0.021956\n",
       "제주특별자치도    0.012039\n",
       "세종특별자치시    0.003881\n",
       "Name: 시도명, dtype: float64"
      ]
     },
     "execution_count": 13,
     "metadata": {},
     "output_type": "execute_result"
    }
   ],
   "source": [
    "#정규화\n",
    "city_normalize=df[\"시도명\"].value_counts(normalize=True)\n",
    "city_normalize"
   ]
  },
  {
   "cell_type": "code",
   "execution_count": 14,
   "id": "7614e2a8",
   "metadata": {},
   "outputs": [
    {
     "data": {
      "text/plain": [
       "<AxesSubplot:>"
      ]
     },
     "execution_count": 14,
     "metadata": {},
     "output_type": "execute_result"
    },
    {
     "data": {
      "image/png": "[encoded data removed]",
      "text/plain": [
       "<Figure size 432x288 with 1 Axes>"
      ]
     },
     "metadata": {
      "needs_background": "light"
     },
     "output_type": "display_data"
    }
   ],
   "source": [
    "#시각화\n",
    "city.plot.barh()"
   ]
  },
  {
   "cell_type": "code",
   "execution_count": 15,
   "id": "23fe3498",
   "metadata": {},
   "outputs": [
    {
     "name": "stderr",
     "output_type": "stream",
     "text": [
      "C:\\Users\\taeeu\\anaconda3\\lib\\site-packages\\pandas\\plotting\\_matplotlib\\core.py:1616: MatplotlibDeprecationWarning: normalize=None does not normalize if the sum is less than 1 but this behavior is deprecated since 3.3 until two minor releases later. After the deprecation period the default value will be normalize=True. To prevent normalization pass normalize=False \n",
      "  results = ax.pie(y, labels=blabels, **kwds)\n"
     ]
    },
    {
     "data": {
      "text/plain": [
       "<AxesSubplot:ylabel='시도명'>"
      ]
     },
     "execution_count": 15,
     "metadata": {},
     "output_type": "execute_result"
    },
    {
     "data": {
      "image/png": "[encoded data removed]",
      "text/plain": [
       "<Figure size 504x504 with 1 Axes>"
      ]
     },
     "metadata": {},
     "output_type": "display_data"
    }
   ],
   "source": [
    "city_normalize.plot.pie(figsize=(7,7))"
   ]
  },
  {
   "cell_type": "code",
   "execution_count": 16,
   "id": "d67eb6ca",
   "metadata": {},
   "outputs": [
    {
     "data": {
      "text/plain": [
       "<AxesSubplot:xlabel='count', ylabel='시도명'>"
      ]
     },
     "execution_count": 16,
     "metadata": {},
     "output_type": "execute_result"
    },
    {
     "data": {
      "image/png": "[encoded data removed]",
      "text/plain": [
       "<Figure size 432x288 with 1 Axes>"
      ]
     },
     "metadata": {
      "needs_background": "light"
     },
     "output_type": "display_data"
    }
   ],
   "source": [
    "#barh대신 seaborn(countplot)\n",
    "sns.countplot(data=df, y='시도명')"
   ]
  },
  {
   "cell_type": "markdown",
   "id": "3b01e72b",
   "metadata": {},
   "source": [
    "## 4. 가설검정을 위한 분석"
   ]
  },
  {
   "cell_type": "code",
   "execution_count": 17,
   "id": "8cf0c591",
   "metadata": {},
   "outputs": [
    {
     "data": {
      "text/html": [
       "<div>\n",
       "<style scoped>\n",
       "    .dataframe tbody tr th:only-of-type {\n",
       "        vertical-align: middle;\n",
       "    }\n",
       "\n",
       "    .dataframe tbody tr th {\n",
       "        vertical-align: top;\n",
       "    }\n",
       "\n",
       "    .dataframe thead th {\n",
       "        text-align: right;\n",
       "    }\n",
       "</style>\n",
       "<table border=\"1\" class=\"dataframe\">\n",
       "  <thead>\n",
       "    <tr style=\"text-align: right;\">\n",
       "      <th></th>\n",
       "      <th>상가업소번호</th>\n",
       "      <th>상호명</th>\n",
       "      <th>상권업종대분류코드</th>\n",
       "      <th>상권업종대분류명</th>\n",
       "      <th>상권업종중분류코드</th>\n",
       "      <th>상권업종중분류명</th>\n",
       "      <th>상권업종소분류코드</th>\n",
       "      <th>상권업종소분류명</th>\n",
       "      <th>시도명</th>\n",
       "      <th>시군구코드</th>\n",
       "      <th>...</th>\n",
       "      <th>지번주소</th>\n",
       "      <th>도로명코드</th>\n",
       "      <th>도로명</th>\n",
       "      <th>건물본번지</th>\n",
       "      <th>건물관리번호</th>\n",
       "      <th>도로명주소</th>\n",
       "      <th>구우편번호</th>\n",
       "      <th>신우편번호</th>\n",
       "      <th>경도</th>\n",
       "      <th>위도</th>\n",
       "    </tr>\n",
       "  </thead>\n",
       "  <tbody>\n",
       "    <tr>\n",
       "      <th>305</th>\n",
       "      <td>25155642</td>\n",
       "      <td>대진의료재단</td>\n",
       "      <td>S</td>\n",
       "      <td>의료</td>\n",
       "      <td>S01</td>\n",
       "      <td>병원</td>\n",
       "      <td>S01B01</td>\n",
       "      <td>종합병원</td>\n",
       "      <td>서울특별시</td>\n",
       "      <td>11215.0</td>\n",
       "      <td>...</td>\n",
       "      <td>서울특별시 광진구 중곡동 58-25</td>\n",
       "      <td>1.120000e+11</td>\n",
       "      <td>서울특별시 광진구 긴고랑로</td>\n",
       "      <td>119</td>\n",
       "      <td>1.120000e+24</td>\n",
       "      <td>서울특별시 광진구 긴고랑로 119</td>\n",
       "      <td>143220.0</td>\n",
       "      <td>4944.0</td>\n",
       "      <td>127.088279</td>\n",
       "      <td>37.559048</td>\n",
       "    </tr>\n",
       "    <tr>\n",
       "      <th>353</th>\n",
       "      <td>20471487</td>\n",
       "      <td>홍익병원별관</td>\n",
       "      <td>S</td>\n",
       "      <td>의료</td>\n",
       "      <td>S01</td>\n",
       "      <td>병원</td>\n",
       "      <td>S01B01</td>\n",
       "      <td>종합병원</td>\n",
       "      <td>서울특별시</td>\n",
       "      <td>11470.0</td>\n",
       "      <td>...</td>\n",
       "      <td>서울특별시 양천구 신정동 897-13</td>\n",
       "      <td>1.150000e+11</td>\n",
       "      <td>서울특별시 양천구 국회대로</td>\n",
       "      <td>250</td>\n",
       "      <td>1.150000e+24</td>\n",
       "      <td>서울특별시 양천구 국회대로 250</td>\n",
       "      <td>158070.0</td>\n",
       "      <td>7937.0</td>\n",
       "      <td>126.862805</td>\n",
       "      <td>37.529213</td>\n",
       "    </tr>\n",
       "    <tr>\n",
       "      <th>385</th>\n",
       "      <td>20737057</td>\n",
       "      <td>SNUH</td>\n",
       "      <td>S</td>\n",
       "      <td>의료</td>\n",
       "      <td>S01</td>\n",
       "      <td>병원</td>\n",
       "      <td>S01B01</td>\n",
       "      <td>종합병원</td>\n",
       "      <td>서울특별시</td>\n",
       "      <td>11680.0</td>\n",
       "      <td>...</td>\n",
       "      <td>서울특별시 강남구 역삼동 736-55</td>\n",
       "      <td>1.170000e+11</td>\n",
       "      <td>서울특별시 강남구 테헤란로26길</td>\n",
       "      <td>10</td>\n",
       "      <td>1.170000e+24</td>\n",
       "      <td>서울특별시 강남구 테헤란로26길 10</td>\n",
       "      <td>135080.0</td>\n",
       "      <td>6236.0</td>\n",
       "      <td>127.035825</td>\n",
       "      <td>37.499630</td>\n",
       "    </tr>\n",
       "    <tr>\n",
       "      <th>1917</th>\n",
       "      <td>23210677</td>\n",
       "      <td>평화드림여의도성모병원의료기매장</td>\n",
       "      <td>S</td>\n",
       "      <td>의료</td>\n",
       "      <td>S01</td>\n",
       "      <td>병원</td>\n",
       "      <td>S01B01</td>\n",
       "      <td>종합병원</td>\n",
       "      <td>서울특별시</td>\n",
       "      <td>11560.0</td>\n",
       "      <td>...</td>\n",
       "      <td>서울특별시 영등포구 여의도동 62</td>\n",
       "      <td>1.160000e+11</td>\n",
       "      <td>서울특별시 영등포구 63로</td>\n",
       "      <td>10</td>\n",
       "      <td>1.160000e+24</td>\n",
       "      <td>서울특별시 영등포구 63로 10</td>\n",
       "      <td>150713.0</td>\n",
       "      <td>7345.0</td>\n",
       "      <td>126.936693</td>\n",
       "      <td>37.518296</td>\n",
       "    </tr>\n",
       "    <tr>\n",
       "      <th>2461</th>\n",
       "      <td>20024045</td>\n",
       "      <td>한양</td>\n",
       "      <td>S</td>\n",
       "      <td>의료</td>\n",
       "      <td>S01</td>\n",
       "      <td>병원</td>\n",
       "      <td>S01B01</td>\n",
       "      <td>종합병원</td>\n",
       "      <td>서울특별시</td>\n",
       "      <td>11200.0</td>\n",
       "      <td>...</td>\n",
       "      <td>서울특별시 성동구 행당동 15-1</td>\n",
       "      <td>1.120000e+11</td>\n",
       "      <td>서울특별시 성동구 마조로</td>\n",
       "      <td>22</td>\n",
       "      <td>1.120000e+24</td>\n",
       "      <td>서울특별시 성동구 마조로 22-2</td>\n",
       "      <td>133070.0</td>\n",
       "      <td>4763.0</td>\n",
       "      <td>127.041325</td>\n",
       "      <td>37.559469</td>\n",
       "    </tr>\n",
       "    <tr>\n",
       "      <th>...</th>\n",
       "      <td>...</td>\n",
       "      <td>...</td>\n",
       "      <td>...</td>\n",
       "      <td>...</td>\n",
       "      <td>...</td>\n",
       "      <td>...</td>\n",
       "      <td>...</td>\n",
       "      <td>...</td>\n",
       "      <td>...</td>\n",
       "      <td>...</td>\n",
       "      <td>...</td>\n",
       "      <td>...</td>\n",
       "      <td>...</td>\n",
       "      <td>...</td>\n",
       "      <td>...</td>\n",
       "      <td>...</td>\n",
       "      <td>...</td>\n",
       "      <td>...</td>\n",
       "      <td>...</td>\n",
       "      <td>...</td>\n",
       "      <td>...</td>\n",
       "    </tr>\n",
       "    <tr>\n",
       "      <th>71991</th>\n",
       "      <td>28505952</td>\n",
       "      <td>서울성모병원응급의료센터</td>\n",
       "      <td>S</td>\n",
       "      <td>의료</td>\n",
       "      <td>S01</td>\n",
       "      <td>병원</td>\n",
       "      <td>S01B01</td>\n",
       "      <td>종합병원</td>\n",
       "      <td>서울특별시</td>\n",
       "      <td>11650.0</td>\n",
       "      <td>...</td>\n",
       "      <td>서울특별시 서초구 반포동 505</td>\n",
       "      <td>1.170000e+11</td>\n",
       "      <td>서울특별시 서초구 반포대로</td>\n",
       "      <td>222</td>\n",
       "      <td>1.170000e+24</td>\n",
       "      <td>서울특별시 서초구 반포대로 222</td>\n",
       "      <td>137701.0</td>\n",
       "      <td>6591.0</td>\n",
       "      <td>127.005841</td>\n",
       "      <td>37.502382</td>\n",
       "    </tr>\n",
       "    <tr>\n",
       "      <th>76508</th>\n",
       "      <td>12292992</td>\n",
       "      <td>라마르의원</td>\n",
       "      <td>S</td>\n",
       "      <td>의료</td>\n",
       "      <td>S01</td>\n",
       "      <td>병원</td>\n",
       "      <td>S01B01</td>\n",
       "      <td>종합병원</td>\n",
       "      <td>서울특별시</td>\n",
       "      <td>11740.0</td>\n",
       "      <td>...</td>\n",
       "      <td>서울특별시 강동구 천호동 453-8</td>\n",
       "      <td>1.170000e+11</td>\n",
       "      <td>서울특별시 강동구 천호대로157길</td>\n",
       "      <td>18</td>\n",
       "      <td>1.170000e+24</td>\n",
       "      <td>서울특별시 강동구 천호대로157길 18</td>\n",
       "      <td>134864.0</td>\n",
       "      <td>5335.0</td>\n",
       "      <td>127.127466</td>\n",
       "      <td>37.538485</td>\n",
       "    </tr>\n",
       "    <tr>\n",
       "      <th>90492</th>\n",
       "      <td>16031909</td>\n",
       "      <td>가톨릭대학교여의도성모병원</td>\n",
       "      <td>S</td>\n",
       "      <td>의료</td>\n",
       "      <td>S01</td>\n",
       "      <td>병원</td>\n",
       "      <td>S01B01</td>\n",
       "      <td>종합병원</td>\n",
       "      <td>서울특별시</td>\n",
       "      <td>11140.0</td>\n",
       "      <td>...</td>\n",
       "      <td>서울특별시 중구 명동2가 1-1</td>\n",
       "      <td>1.110000e+11</td>\n",
       "      <td>서울특별시 중구 명동길</td>\n",
       "      <td>74</td>\n",
       "      <td>1.110000e+24</td>\n",
       "      <td>서울특별시 중구 명동길 74</td>\n",
       "      <td>100809.0</td>\n",
       "      <td>4537.0</td>\n",
       "      <td>126.986758</td>\n",
       "      <td>37.563662</td>\n",
       "    </tr>\n",
       "    <tr>\n",
       "      <th>90581</th>\n",
       "      <td>16332576</td>\n",
       "      <td>씨엠병원</td>\n",
       "      <td>S</td>\n",
       "      <td>의료</td>\n",
       "      <td>S01</td>\n",
       "      <td>병원</td>\n",
       "      <td>S01B01</td>\n",
       "      <td>종합병원</td>\n",
       "      <td>서울특별시</td>\n",
       "      <td>11560.0</td>\n",
       "      <td>...</td>\n",
       "      <td>서울특별시 영등포구 영등포동4가 90</td>\n",
       "      <td>1.160000e+11</td>\n",
       "      <td>서울특별시 영등포구 영등포로36길</td>\n",
       "      <td>13</td>\n",
       "      <td>1.160000e+24</td>\n",
       "      <td>서울특별시 영등포구 영등포로36길 13</td>\n",
       "      <td>150030.0</td>\n",
       "      <td>7301.0</td>\n",
       "      <td>126.903857</td>\n",
       "      <td>37.518807</td>\n",
       "    </tr>\n",
       "    <tr>\n",
       "      <th>90788</th>\n",
       "      <td>16162338</td>\n",
       "      <td>성베드로병원</td>\n",
       "      <td>S</td>\n",
       "      <td>의료</td>\n",
       "      <td>S01</td>\n",
       "      <td>병원</td>\n",
       "      <td>S01B01</td>\n",
       "      <td>종합병원</td>\n",
       "      <td>서울특별시</td>\n",
       "      <td>11680.0</td>\n",
       "      <td>...</td>\n",
       "      <td>서울특별시 강남구 도곡동 910-27</td>\n",
       "      <td>1.170000e+11</td>\n",
       "      <td>서울특별시 강남구 남부순환로</td>\n",
       "      <td>2649</td>\n",
       "      <td>1.170000e+24</td>\n",
       "      <td>서울특별시 강남구 남부순환로 2649</td>\n",
       "      <td>135859.0</td>\n",
       "      <td>6271.0</td>\n",
       "      <td>127.039567</td>\n",
       "      <td>37.485604</td>\n",
       "    </tr>\n",
       "  </tbody>\n",
       "</table>\n",
       "<p>91 rows × 29 columns</p>\n",
       "</div>"
      ],
      "text/plain": [
       "         상가업소번호               상호명 상권업종대분류코드 상권업종대분류명 상권업종중분류코드 상권업종중분류명  \\\n",
       "305    25155642            대진의료재단         S       의료       S01       병원   \n",
       "353    20471487            홍익병원별관         S       의료       S01       병원   \n",
       "385    20737057              SNUH         S       의료       S01       병원   \n",
       "1917   23210677  평화드림여의도성모병원의료기매장         S       의료       S01       병원   \n",
       "2461   20024045                한양         S       의료       S01       병원   \n",
       "...         ...               ...       ...      ...       ...      ...   \n",
       "71991  28505952      서울성모병원응급의료센터         S       의료       S01       병원   \n",
       "76508  12292992             라마르의원         S       의료       S01       병원   \n",
       "90492  16031909     가톨릭대학교여의도성모병원         S       의료       S01       병원   \n",
       "90581  16332576              씨엠병원         S       의료       S01       병원   \n",
       "90788  16162338            성베드로병원         S       의료       S01       병원   \n",
       "\n",
       "      상권업종소분류코드 상권업종소분류명    시도명    시군구코드  ...                  지번주소  \\\n",
       "305      S01B01     종합병원  서울특별시  11215.0  ...   서울특별시 광진구 중곡동 58-25   \n",
       "353      S01B01     종합병원  서울특별시  11470.0  ...  서울특별시 양천구 신정동 897-13   \n",
       "385      S01B01     종합병원  서울특별시  11680.0  ...  서울특별시 강남구 역삼동 736-55   \n",
       "1917     S01B01     종합병원  서울특별시  11560.0  ...    서울특별시 영등포구 여의도동 62   \n",
       "2461     S01B01     종합병원  서울특별시  11200.0  ...    서울특별시 성동구 행당동 15-1   \n",
       "...         ...      ...    ...      ...  ...                   ...   \n",
       "71991    S01B01     종합병원  서울특별시  11650.0  ...     서울특별시 서초구 반포동 505   \n",
       "76508    S01B01     종합병원  서울특별시  11740.0  ...   서울특별시 강동구 천호동 453-8   \n",
       "90492    S01B01     종합병원  서울특별시  11140.0  ...     서울특별시 중구 명동2가 1-1   \n",
       "90581    S01B01     종합병원  서울특별시  11560.0  ...  서울특별시 영등포구 영등포동4가 90   \n",
       "90788    S01B01     종합병원  서울특별시  11680.0  ...  서울특별시 강남구 도곡동 910-27   \n",
       "\n",
       "              도로명코드                 도로명  건물본번지        건물관리번호  \\\n",
       "305    1.120000e+11      서울특별시 광진구 긴고랑로    119  1.120000e+24   \n",
       "353    1.150000e+11      서울특별시 양천구 국회대로    250  1.150000e+24   \n",
       "385    1.170000e+11   서울특별시 강남구 테헤란로26길     10  1.170000e+24   \n",
       "1917   1.160000e+11      서울특별시 영등포구 63로     10  1.160000e+24   \n",
       "2461   1.120000e+11       서울특별시 성동구 마조로     22  1.120000e+24   \n",
       "...             ...                 ...    ...           ...   \n",
       "71991  1.170000e+11      서울특별시 서초구 반포대로    222  1.170000e+24   \n",
       "76508  1.170000e+11  서울특별시 강동구 천호대로157길     18  1.170000e+24   \n",
       "90492  1.110000e+11        서울특별시 중구 명동길     74  1.110000e+24   \n",
       "90581  1.160000e+11  서울특별시 영등포구 영등포로36길     13  1.160000e+24   \n",
       "90788  1.170000e+11     서울특별시 강남구 남부순환로   2649  1.170000e+24   \n",
       "\n",
       "                       도로명주소     구우편번호   신우편번호          경도         위도  \n",
       "305       서울특별시 광진구 긴고랑로 119  143220.0  4944.0  127.088279  37.559048  \n",
       "353       서울특별시 양천구 국회대로 250  158070.0  7937.0  126.862805  37.529213  \n",
       "385     서울특별시 강남구 테헤란로26길 10  135080.0  6236.0  127.035825  37.499630  \n",
       "1917       서울특별시 영등포구 63로 10  150713.0  7345.0  126.936693  37.518296  \n",
       "2461      서울특별시 성동구 마조로 22-2  133070.0  4763.0  127.041325  37.559469  \n",
       "...                      ...       ...     ...         ...        ...  \n",
       "71991     서울특별시 서초구 반포대로 222  137701.0  6591.0  127.005841  37.502382  \n",
       "76508  서울특별시 강동구 천호대로157길 18  134864.0  5335.0  127.127466  37.538485  \n",
       "90492        서울특별시 중구 명동길 74  100809.0  4537.0  126.986758  37.563662  \n",
       "90581  서울특별시 영등포구 영등포로36길 13  150030.0  7301.0  126.903857  37.518807  \n",
       "90788   서울특별시 강남구 남부순환로 2649  135859.0  6271.0  127.039567  37.485604  \n",
       "\n",
       "[91 rows x 29 columns]"
      ]
     },
     "execution_count": 17,
     "metadata": {},
     "output_type": "execute_result"
    }
   ],
   "source": [
    "#\"상권업종소분류명\"이 \"\"종합병원\"인 데이터\n",
    "#\"시도명\"이 \"서울특별시\"인 데이터 가져오기\n",
    "#결과를 df_seoul_hospital에 할당\n",
    "\n",
    "df_seoul_hospital=df[(df[\"상권업종소분류명\"]==\"종합병원\") & (df[\"시도명\"]==\"서울특별시\")]\n",
    "df_seoul_hospital"
   ]
  },
  {
   "cell_type": "code",
   "execution_count": 18,
   "id": "45a1fe45",
   "metadata": {},
   "outputs": [
    {
     "data": {
      "text/plain": [
       "강남구     15\n",
       "영등포구     8\n",
       "광진구      6\n",
       "서초구      6\n",
       "강동구      5\n",
       "중구       5\n",
       "송파구      5\n",
       "강북구      4\n",
       "도봉구      4\n",
       "서대문구     4\n",
       "양천구      4\n",
       "성북구      3\n",
       "강서구      2\n",
       "중랑구      2\n",
       "종로구      2\n",
       "동대문구     2\n",
       "구로구      2\n",
       "노원구      2\n",
       "금천구      2\n",
       "성동구      2\n",
       "관악구      2\n",
       "동작구      1\n",
       "마포구      1\n",
       "용산구      1\n",
       "은평구      1\n",
       "Name: 시군구명, dtype: int64"
      ]
     },
     "execution_count": 18,
     "metadata": {},
     "output_type": "execute_result"
    }
   ],
   "source": [
    "#\"시군구명\"으로 그룹화해서 구별로 종합병원의 수 세기\n",
    "df_seoul_hospital[\"시군구명\"].value_counts()"
   ]
  },
  {
   "cell_type": "code",
   "execution_count": 19,
   "id": "fc5dda31",
   "metadata": {},
   "outputs": [
    {
     "data": {
      "text/plain": [
       "array(['대진의료재단', '홍익병원별관', 'SNUH', '평화드림여의도성모병원의료기매장', '한양', '백산의료재단친구병원',\n",
       "       '서울보훈병원', '서울성모병원장례식장꽃배달', '서울대학교병원', '알콜중독및정신질환상담소',\n",
       "       '강남성모병원장례식장꽃배달', '제일병원', '이랜드클리닉', '사랑나눔의료재단', '우울증센터', '성심의료재단',\n",
       "       '다나의료재단', '서울아산병원신관', '원자력병원장례식장', '국민의원', '고려대학교구로병원', '학교법인일송학원',\n",
       "       '삼성의료원장례식장', '희명스포츠의학센터인공신장실', '연세대학교의과대학강남세브란스', '국립정신병원',\n",
       "       '코아클리닉', '수서제일의원', '사랑의의원', '한국전력공사부속한일병원', '신촌연세병원', '창동제일의원',\n",
       "       '영동세브란스병원', '제일성심의원', '삼성의료재단강북삼성태', '서울시립보라매병원', '서울이의원',\n",
       "       '서울대학교병원비상계획외래', '평화드림서울성모병원의료', '홍익병원', '사랑나눔의료재단서', '독일의원',\n",
       "       '서울연합의원', '우신향병원', '동부제일병원', '아산재단금강병원', '명곡안연구소', '아산재단서울중앙병원',\n",
       "       '메디힐특수여객', '삼성생명공익재단삼성서', '성광의료재단차병원', '한국건강관리협회서울특',\n",
       "       '정해복지부설한신메디피아', '성베드로병원', '성애의료재단', '실로암의원', 'Y&T성모마취과', '광진성모의원',\n",
       "       '서울현대의원', '이노신경과의원', '송정훼밀리의원', '서울중앙의원', '영남의료재단', '인제대학교서울백병원',\n",
       "       '한국필의료재단', '세브란스의원', '가톨릭대학교성바오로병원장례식장', '서울연세의원', '사랑의병원',\n",
       "       '성삼의료재단미즈메디병원', '씨엠충무병원', '성신의원', '원진재단부설녹색병원', '송파제일의원',\n",
       "       '카톨릭성모의원', '한양성심의원', '관악성모의원', '강남센트럴병원', '우이한솔의원', '우리들병원',\n",
       "       '서울성모병원어린이집', '건국대학교병원', '서울적십자병원', '북부성모의원', '한림대학교부속한강성심병원장례식장',\n",
       "       '서울성모병원응급의료센터', '라마르의원', '가톨릭대학교여의도성모병원', '씨엠병원'], dtype=object)"
      ]
     },
     "execution_count": 19,
     "metadata": {},
     "output_type": "execute_result"
    }
   ],
   "source": [
    "#상호명에 종합병원이 포함되어있지 않은 데이터 찾기\n",
    "df_seoul_hospital.loc[~df_seoul_hospital[\"상호명\"].str.contains(\"종합병원\"), \"상호명\"].unique()"
   ]
  },
  {
   "cell_type": "code",
   "execution_count": 20,
   "id": "fb38fd28",
   "metadata": {},
   "outputs": [
    {
     "data": {
      "text/plain": [
       "[1917, 2803, 4431, 4644, 7938, 10283, 47008, 60645, 70177]"
      ]
     },
     "execution_count": 20,
     "metadata": {},
     "output_type": "execute_result"
    }
   ],
   "source": [
    "#꽃배달/의료기/장례식장/상담소/어린이집은 종합병원과 무관하므로 제거\n",
    "#drop할 index저장\n",
    "drop_row=df_seoul_hospital[df_seoul_hospital[\"상호명\"].str.contains(\"꽃배달|의료기|장례식장|상담소|어린이집\")].index\n",
    "\n",
    "#index를 리스트로 저장\n",
    "drop_row=drop_row.tolist()\n",
    "drop_row"
   ]
  },
  {
   "cell_type": "code",
   "execution_count": 21,
   "id": "2b3809b5",
   "metadata": {},
   "outputs": [
    {
     "data": {
      "text/plain": [
       "[8479,\n",
       " 12854,\n",
       " 13715,\n",
       " 14966,\n",
       " 16091,\n",
       " 18047,\n",
       " 20200,\n",
       " 20415,\n",
       " 30706,\n",
       " 32889,\n",
       " 34459,\n",
       " 34720,\n",
       " 35696,\n",
       " 37251,\n",
       " 45120,\n",
       " 49626,\n",
       " 51575,\n",
       " 55133,\n",
       " 56320,\n",
       " 56404,\n",
       " 56688,\n",
       " 57551,\n",
       " 62113,\n",
       " 76508]"
      ]
     },
     "execution_count": 21,
     "metadata": {},
     "output_type": "execute_result"
    }
   ],
   "source": [
    "#의원으로 끝나는 데이터도 종합병원으로 볼 수 없으므로 drop_row2에 담아주고 list형태로 변환\n",
    "drop_row2=df_seoul_hospital[df_seoul_hospital[\"상호명\"].str.endswith(\"의원\")].index\n",
    "\n",
    "drop_row2=drop_row2.tolist()\n",
    "drop_row2"
   ]
  },
  {
   "cell_type": "code",
   "execution_count": 22,
   "id": "25cb953c",
   "metadata": {},
   "outputs": [
    {
     "name": "stdout",
     "output_type": "stream",
     "text": [
      "33\n"
     ]
    }
   ],
   "source": [
    "#삭제할 행 drop_row에 합쳐준다\n",
    "drop_row=drop_row+drop_row2\n",
    "print(len(drop_row))"
   ]
  },
  {
   "cell_type": "code",
   "execution_count": 23,
   "id": "d50f4db5",
   "metadata": {},
   "outputs": [
    {
     "name": "stdout",
     "output_type": "stream",
     "text": [
      "삭제 전 : (91, 29)\n",
      "삭제 후 : (58, 29)\n"
     ]
    }
   ],
   "source": [
    "#해당 셀을 삭제하고 삭제 전과 후의 행 갯수 비교\n",
    "print(\"삭제 전 :\", df_seoul_hospital.shape)\n",
    "df_seoul_hospital=df_seoul_hospital.drop(drop_row, axis=0)\n",
    "print(\"삭제 후 :\", df_seoul_hospital.shape)"
   ]
  },
  {
   "cell_type": "code",
   "execution_count": 24,
   "id": "e1035f3f",
   "metadata": {},
   "outputs": [
    {
     "data": {
      "text/plain": [
       "<AxesSubplot:>"
      ]
     },
     "execution_count": 24,
     "metadata": {},
     "output_type": "execute_result"
    },
    {
     "data": {
      "image/png": "[encoded data removed]",
      "text/plain": [
       "<Figure size 432x288 with 1 Axes>"
      ]
     },
     "metadata": {
      "needs_background": "light"
     },
     "output_type": "display_data"
    }
   ],
   "source": [
    "#시군구명에 따른 종합병원 수 시각화\n",
    "df_seoul_hospital[\"시군구명\"].value_counts().plot.bar()"
   ]
  },
  {
   "cell_type": "code",
   "execution_count": 25,
   "id": "18daa747",
   "metadata": {},
   "outputs": [
    {
     "data": {
      "text/plain": [
       "<AxesSubplot:xlabel='시군구명', ylabel='count'>"
      ]
     },
     "execution_count": 25,
     "metadata": {},
     "output_type": "execute_result"
    },
    {
     "data": {
      "image/png": "[encoded data removed]",
      "text/plain": [
       "<Figure size 1080x288 with 1 Axes>"
      ]
     },
     "metadata": {
      "needs_background": "light"
     },
     "output_type": "display_data"
    }
   ],
   "source": [
    "plt.figure(figsize=(15,4))\n",
    "sns.countplot(data=df_seoul_hospital, x=\"시군구명\", order=df_seoul_hospital[\"시군구명\"].value_counts().index)"
   ]
  },
  {
   "cell_type": "markdown",
   "id": "6d490cec",
   "metadata": {},
   "source": [
    "# 결론 : 서울의 종합병원은 고르게 분포되어 있을까?\n",
    "- 강남구, 영등포구, 중구, 양천구 순으로 종합병워닝 많이 분포되어있다.\n",
    "- 강남구에 종합병원이 압도적으로 많이 있는 것으로 보아 종합병원은 서울에 골고루 분포되어 있지는 않다고 할 수 있다."
   ]
  }
 ],
 "metadata": {
  "kernelspec": {
   "display_name": "Python 3 (ipykernel)",
   "language": "python",
   "name": "python3"
  },
  "language_info": {
   "codemirror_mode": {
    "name": "ipython",
    "version": 3
   },
   "file_extension": ".py",
   "mimetype": "text/x-python",
   "name": "python",
   "nbconvert_exporter": "python",
   "pygments_lexer": "ipython3",
   "version": "3.8.5"
  }
 },
 "nbformat": 4,
 "nbformat_minor": 5
}
