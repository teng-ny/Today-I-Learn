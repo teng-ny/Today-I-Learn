{
 "cells": [
  {
   "cell_type": "markdown",
   "id": "d5f4a8bc",
   "metadata": {},
   "source": [
    "## 1. 사이킷런 내장 데이터 불러오기 & 피처벡터화"
   ]
  },
  {
   "cell_type": "code",
   "execution_count": 5,
   "id": "c57f0fe7",
   "metadata": {},
   "outputs": [
    {
     "name": "stdout",
     "output_type": "stream",
     "text": [
      "  (0, 93)\t1\n",
      "  (0, 669)\t1\n",
      "  (0, 390)\t1\n",
      "  (0, 148)\t1\n",
      "  (0, 251)\t1\n",
      "  (0, 876)\t1\n",
      "  (0, 70)\t1\n",
      "  (0, 877)\t1\n",
      "  (1, 390)\t1\n",
      "  (1, 428)\t1\n",
      "  (1, 391)\t1\n",
      "  (1, 237)\t1\n",
      "  (1, 607)\t1\n",
      "  (1, 403)\t1\n",
      "  (1, 955)\t2\n",
      "  (1, 512)\t2\n",
      "  (1, 678)\t2\n",
      "  (1, 655)\t2\n",
      "  (1, 881)\t2\n",
      "  (1, 733)\t1\n",
      "  (1, 688)\t1\n",
      "  (1, 23)\t1\n",
      "  (1, 894)\t1\n",
      "  (1, 15)\t1\n",
      "  (1, 12)\t1\n",
      "  :\t:\n",
      "  (7858, 61)\t3\n",
      "  (7858, 864)\t2\n",
      "  (7858, 133)\t1\n",
      "  (7859, 511)\t1\n",
      "  (7859, 528)\t1\n",
      "  (7859, 782)\t1\n",
      "  (7859, 773)\t1\n",
      "  (7859, 54)\t1\n",
      "  (7859, 666)\t1\n",
      "  (7859, 159)\t1\n",
      "  (7859, 387)\t1\n",
      "  (7859, 126)\t1\n",
      "  (7860, 876)\t1\n",
      "  (7860, 70)\t1\n",
      "  (7860, 877)\t1\n",
      "  (7860, 428)\t1\n",
      "  (7860, 678)\t1\n",
      "  (7860, 922)\t1\n",
      "  (7860, 243)\t1\n",
      "  (7860, 795)\t1\n",
      "  (7860, 911)\t1\n",
      "  (7860, 682)\t1\n",
      "  (7860, 909)\t1\n",
      "  (7860, 490)\t1\n",
      "  (7861, 973)\t1\n",
      "(7862, 1000)\n"
     ]
    }
   ],
   "source": [
    "from sklearn.datasets import fetch_20newsgroups\n",
    "from sklearn.feature_extraction.text import CountVectorizer\n",
    "from sklearn.decomposition import LatentDirichletAllocation\n",
    "\n",
    "#모토사이클, 야구, 그래픽스, 윈도우즈, 중동, 기독교, 전자공학, 의학 8개 주제를 추출\n",
    "cats = ['rec.motorcycles', 'rec.sport.baseball', 'comp.graphics', 'comp.windows.x', 'talk.politics.mideast', 'soc.religion.christian', 'sci.electronics', 'sci.med']\n",
    "\n",
    "#위에서 cats변수로 기재된 카테고리만 추출, fetch_20newsgrouops()의 categories에 cats입력\n",
    "news_df = fetch_20newsgroups(subset='all', remove=('headers', 'footers', 'quotes'), categories=cats, random_state=0)\n",
    "\n",
    "#LDA는 Count기반의 벡터화만 적용합니다.\n",
    "count_vect = CountVectorizer(max_df=0.95, max_features=1000, min_df=2, stop_words='english', ngram_range=(1,2))\n",
    "fect_vect = count_vect.fit_transform(news_df.data)\n",
    "print(fect_vect)\n",
    "print(fect_vect.shape)"
   ]
  },
  {
   "cell_type": "markdown",
   "id": "e45726cf",
   "metadata": {},
   "source": [
    "## 2. LDA 토픽 모델링"
   ]
  },
  {
   "cell_type": "code",
   "execution_count": 9,
   "id": "d1ae9804",
   "metadata": {},
   "outputs": [
    {
     "name": "stdout",
     "output_type": "stream",
     "text": [
      "(8, 1000)\n"
     ]
    },
    {
     "data": {
      "text/plain": [
       "array([[3.60992018e+01, 1.35626798e+02, 2.15751867e+01, ...,\n",
       "        3.02911688e+01, 8.66830093e+01, 6.79285199e+01],\n",
       "       [1.25199920e-01, 1.44401815e+01, 1.25045596e-01, ...,\n",
       "        1.81506995e+02, 1.25097844e-01, 9.39593286e+01],\n",
       "       [3.34762663e+02, 1.25176265e-01, 1.46743299e+02, ...,\n",
       "        1.25105772e-01, 3.63689741e+01, 1.25025218e-01],\n",
       "       ...,\n",
       "       [3.60204965e+01, 2.08640688e+01, 4.29606813e+00, ...,\n",
       "        1.45056650e+01, 8.33854413e+00, 1.55690009e+01],\n",
       "       [1.25128711e-01, 1.25247756e-01, 1.25005143e-01, ...,\n",
       "        9.17278769e+01, 1.25177668e-01, 3.74575887e+01],\n",
       "       [5.49258690e+01, 4.47009532e+00, 9.88524814e+00, ...,\n",
       "        4.87048440e+01, 1.25034678e-01, 1.25074632e-01]])"
      ]
     },
     "execution_count": 9,
     "metadata": {},
     "output_type": "execute_result"
    }
   ],
   "source": [
    "lda = LatentDirichletAllocation(n_components=8, random_state=0)\n",
    "lda.fit(fect_vect)\n",
    "\n",
    "print(lda.components_.shape)\n",
    "lda.components_"
   ]
  },
  {
   "cell_type": "markdown",
   "id": "85be9a4b",
   "metadata": {},
   "source": [
    "## 3. 각 Topic별 대표 언어 출력"
   ]
  },
  {
   "cell_type": "code",
   "execution_count": 10,
   "id": "fa016e9a",
   "metadata": {},
   "outputs": [],
   "source": [
    "def display_topics(model, feature_names, no_top_words):\n",
    "    for topic_index, topic in enumerate(model.components_):\n",
    "        print('Topic #', topic_index)\n",
    "\n",
    "        #components_ array에서 가장 값이 큰 순으로 정렬했을 때, 그 값의 array인덱스를 반환.\n",
    "        topic_word_indexes = topic.argsort()[::-1]\n",
    "        topic_index=topic_word_indexes[:no_top_words]\n",
    "\n",
    "        #top_indexes대상인 인덱스별로 feature_names에 해당하는 word feature 추출 후 join concat\n",
    "        feature_concat = ' '.join([feature_names[i] for i in topic_index])\n",
    "        print(feature_concat)"
   ]
  },
  {
   "cell_type": "code",
   "execution_count": 11,
   "id": "157d71bd",
   "metadata": {},
   "outputs": [
    {
     "name": "stdout",
     "output_type": "stream",
     "text": [
      "Topic # 0\n",
      "year 10 game medical health team 12 20 disease cancer 1993 games years patients good\n",
      "Topic # 1\n",
      "don just like know people said think time ve didn right going say ll way\n",
      "Topic # 2\n",
      "image file jpeg program gif images output format files color entry 00 use bit 03\n",
      "Topic # 3\n",
      "like know don think use does just good time book read information people used post\n",
      "Topic # 4\n",
      "armenian israel armenians jews turkish people israeli jewish government war dos dos turkey arab armenia 000\n",
      "Topic # 5\n",
      "edu com available graphics ftp data pub motif mail widget software mit information version sun\n",
      "Topic # 6\n",
      "god people jesus church believe christ does christian say think christians bible faith sin life\n",
      "Topic # 7\n",
      "use dos thanks windows using window does display help like problem server need know run\n"
     ]
    }
   ],
   "source": [
    "#CountVectorizer객체 내의 전체 word의 명칭을 get_feature_names()을 통해 추출\n",
    "feature_names = count_vect.get_feature_names()\n",
    "\n",
    "#토픽별 가장 연관도가 높은 word를 15개만 추출\n",
    "display_topics(lda, feature_names, 15)"
   ]
  }
 ],
 "metadata": {
  "kernelspec": {
   "display_name": "Python 3 (ipykernel)",
   "language": "python",
   "name": "python3"
  },
  "language_info": {
   "codemirror_mode": {
    "name": "ipython",
    "version": 3
   },
   "file_extension": ".py",
   "mimetype": "text/x-python",
   "name": "python",
   "nbconvert_exporter": "python",
   "pygments_lexer": "ipython3",
   "version": "3.8.5"
  }
 },
 "nbformat": 4,
 "nbformat_minor": 5
}
