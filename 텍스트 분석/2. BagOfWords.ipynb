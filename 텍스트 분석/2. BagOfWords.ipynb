{
 "cells": [
  {
   "cell_type": "markdown",
   "id": "471ac409",
   "metadata": {},
   "source": [
    "# BagOfWords"
   ]
  },
  {
   "cell_type": "markdown",
   "id": "064ea8ce",
   "metadata": {},
   "source": [
    "## 1. 패키지 다운"
   ]
  },
  {
   "cell_type": "code",
   "execution_count": 2,
   "id": "c5d4b317",
   "metadata": {},
   "outputs": [
    {
     "name": "stderr",
     "output_type": "stream",
     "text": [
      "C:\\Users\\taeeu\\anaconda3\\lib\\site-packages\\numpy\\_distributor_init.py:30: UserWarning: loaded more than 1 DLL from .libs:\n",
      "C:\\Users\\taeeu\\anaconda3\\lib\\site-packages\\numpy\\.libs\\libopenblas.el2c6ple4zyw3eceviv3oxxgrn2nrfm2.gfortran-win_amd64.dll\n",
      "C:\\Users\\taeeu\\anaconda3\\lib\\site-packages\\numpy\\.libs\\libopenblas.WCDJNK7YVMPZQ2ME2ZZHJJRJ3JIKNDB7.gfortran-win_amd64.dll\n",
      "  warnings.warn(\"loaded more than 1 DLL from .libs:\"\n"
     ]
    }
   ],
   "source": [
    "import numpy as np\n",
    "from scipy import sparse"
   ]
  },
  {
   "cell_type": "markdown",
   "id": "cb0d1f1a",
   "metadata": {},
   "source": [
    "## 2. COO방식"
   ]
  },
  {
   "cell_type": "code",
   "execution_count": 3,
   "id": "743fb38d",
   "metadata": {},
   "outputs": [],
   "source": [
    "dense=np.array([[3,0,1], [0,2,0]])"
   ]
  },
  {
   "cell_type": "code",
   "execution_count": 4,
   "id": "a8d68755",
   "metadata": {},
   "outputs": [],
   "source": [
    "#0이 아닌 데이터 추출\n",
    "data=np.array([3,1,2])"
   ]
  },
  {
   "cell_type": "code",
   "execution_count": 5,
   "id": "1da4e605",
   "metadata": {},
   "outputs": [],
   "source": [
    "#행 위치와 열 위치를 각각 배열로 생성\n",
    "row_pos=np.array([0,0,1])\n",
    "col_pos=np.array([0,2,1])"
   ]
  },
  {
   "cell_type": "code",
   "execution_count": 8,
   "id": "d5fb6a7d",
   "metadata": {},
   "outputs": [
    {
     "name": "stdout",
     "output_type": "stream",
     "text": [
      "  (0, 0)\t3\n",
      "  (0, 2)\t1\n",
      "  (1, 1)\t2\n"
     ]
    }
   ],
   "source": [
    "#sparse패키지의 coo_matrix를 이용해 COO형식으로 희소 행렬 생성\n",
    "sparse_coo=sparse.coo_matrix((data, (row_pos, col_pos)))\n",
    "print(sparse_coo)"
   ]
  },
  {
   "cell_type": "markdown",
   "id": "20d63ae2",
   "metadata": {},
   "source": [
    "## 3. 패키지 다운"
   ]
  },
  {
   "cell_type": "code",
   "execution_count": 9,
   "id": "e39d27a6",
   "metadata": {},
   "outputs": [],
   "source": [
    "from scipy import sparse"
   ]
  },
  {
   "cell_type": "markdown",
   "id": "d303f3f6",
   "metadata": {},
   "source": [
    "## 4. CSR방식"
   ]
  },
  {
   "cell_type": "code",
   "execution_count": 10,
   "id": "1725305e",
   "metadata": {},
   "outputs": [],
   "source": [
    "dense2=np.array([[0,0,1,0,0,5],\n",
    "             [1,4,0,3,2,5],\n",
    "             [0,6,0,3,0,0],\n",
    "             [2,0,0,0,0,0],\n",
    "             [0,0,0,7,0,8],\n",
    "             [1,0,0,0,0,0]])"
   ]
  },
  {
   "cell_type": "code",
   "execution_count": 11,
   "id": "deffe8f4",
   "metadata": {},
   "outputs": [],
   "source": [
    "#0이 아닌 데이터 추출\n",
    "data2 = np.array([1, 5, 1, 4, 3, 2, 5, 6, 3, 2, 7, 8, 1])"
   ]
  },
  {
   "cell_type": "code",
   "execution_count": 12,
   "id": "02febdf0",
   "metadata": {},
   "outputs": [],
   "source": [
    "#행위치와 열위치를 각각 array로 생성\n",
    "row_pos = np.array([0, 0, 1, 1, 1, 1, 1, 2, 2, 3, 4, 4, 5])\n",
    "col_pos = np.array([2, 5, 0, 1, 3, 4, 5, 1, 3, 0, 3, 5, 0])"
   ]
  },
  {
   "cell_type": "code",
   "execution_count": 13,
   "id": "5dfba9db",
   "metadata": {},
   "outputs": [],
   "source": [
    "#COO 형식으로 변환\n",
    "sparse_coo=sparse.coo_matrix((data2, (row_pos,col_pos)))"
   ]
  },
  {
   "cell_type": "code",
   "execution_count": 14,
   "id": "1b5babc3",
   "metadata": {},
   "outputs": [],
   "source": [
    "#행위치 배열의 고유한 값의 시작 위치 인덱스를 배열로 생성\n",
    "row_pos_ind = np.array([0, 2, 7, 9, 10, 12, 13])"
   ]
  },
  {
   "cell_type": "code",
   "execution_count": 15,
   "id": "4f7bda82",
   "metadata": {},
   "outputs": [],
   "source": [
    "#CSR형식으로 변환\n",
    "sparse_csr = sparse.csr_matrix((data2, col_pos, row_pos_ind))"
   ]
  },
  {
   "cell_type": "code",
   "execution_count": 16,
   "id": "16f045bb",
   "metadata": {},
   "outputs": [
    {
     "name": "stdout",
     "output_type": "stream",
     "text": [
      "COO 변환된 데이터가 제대로 되었는지 다시 Dense로 출력 확인\n",
      "[[0 0 1 0 0 5]\n",
      " [1 4 0 3 2 5]\n",
      " [0 6 0 3 0 0]\n",
      " [2 0 0 0 0 0]\n",
      " [0 0 0 7 0 8]\n",
      " [1 0 0 0 0 0]]\n",
      "CSR 변환된 데이터가 제대로 되었는지 다시 Dense로 출력 확인\n",
      "[[0 0 1 0 0 5]\n",
      " [1 4 0 3 2 5]\n",
      " [0 6 0 3 0 0]\n",
      " [2 0 0 0 0 0]\n",
      " [0 0 0 7 0 8]\n",
      " [1 0 0 0 0 0]]\n"
     ]
    }
   ],
   "source": [
    "print('COO 변환된 데이터가 제대로 되었는지 다시 Dense로 출력 확인')\n",
    "print(sparse_coo.toarray())\n",
    "print('CSR 변환된 데이터가 제대로 되었는지 다시 Dense로 출력 확인')\n",
    "print(sparse_csr.toarray())"
   ]
  },
  {
   "cell_type": "markdown",
   "id": "4051716c",
   "metadata": {},
   "source": [
    "## 5. 실제 사용"
   ]
  },
  {
   "cell_type": "code",
   "execution_count": 19,
   "id": "3208fb89",
   "metadata": {},
   "outputs": [
    {
     "name": "stdout",
     "output_type": "stream",
     "text": [
      "COO\n",
      "   (0, 2)\t1\n",
      "  (0, 5)\t5\n",
      "  (1, 0)\t1\n",
      "  (1, 1)\t4\n",
      "  (1, 3)\t3\n",
      "  (1, 4)\t2\n",
      "  (1, 5)\t5\n",
      "  (2, 1)\t6\n",
      "  (2, 3)\t3\n",
      "  (3, 0)\t2\n",
      "  (4, 3)\t7\n",
      "  (4, 5)\t8\n",
      "  (5, 0)\t1\n",
      "CSR\n",
      "   (0, 2)\t1\n",
      "  (0, 5)\t5\n",
      "  (1, 0)\t1\n",
      "  (1, 1)\t4\n",
      "  (1, 3)\t3\n",
      "  (1, 4)\t2\n",
      "  (1, 5)\t5\n",
      "  (2, 1)\t6\n",
      "  (2, 3)\t3\n",
      "  (3, 0)\t2\n",
      "  (4, 3)\t7\n",
      "  (4, 5)\t8\n",
      "  (5, 0)\t1\n"
     ]
    }
   ],
   "source": [
    "dense3 = np.array([[0,0,1,0,0,5],\n",
    "             [1,4,0,3,2,5],\n",
    "             [0,6,0,3,0,0],\n",
    "             [2,0,0,0,0,0],\n",
    "             [0,0,0,7,0,8],\n",
    "             [1,0,0,0,0,0]])\n",
    "\n",
    "coo = sparse.coo_matrix(dense3)\n",
    "csr = sparse.csr_matrix(dense3)\n",
    "\n",
    "print('COO\\n', coo)\n",
    "print('CSR\\n', csr)\n",
    "# 실제로는 0이 아닌 데이터 배열, ROW, COL 위치 배열을 지정하지 않고 \n",
    "# sparse.coo_matrix(배열), sparse.csr_matrix(배열)로 사용해도 된다."
   ]
  }
 ],
 "metadata": {
  "kernelspec": {
   "display_name": "Python 3 (ipykernel)",
   "language": "python",
   "name": "python3"
  },
  "language_info": {
   "codemirror_mode": {
    "name": "ipython",
    "version": 3
   },
   "file_extension": ".py",
   "mimetype": "text/x-python",
   "name": "python",
   "nbconvert_exporter": "python",
   "pygments_lexer": "ipython3",
   "version": "3.8.5"
  }
 },
 "nbformat": 4,
 "nbformat_minor": 5
}
