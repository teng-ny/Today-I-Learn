{
 "cells": [
  {
   "cell_type": "code",
   "execution_count": 1,
   "id": "76dcd568",
   "metadata": {},
   "outputs": [
    {
     "name": "stdout",
     "output_type": "stream",
     "text": [
      "Requirement already satisfied: pip in c:\\users\\taeeu\\anaconda3\\lib\\site-packages (22.0.3)\n",
      "Note: you may need to restart the kernel to use updated packages.\n"
     ]
    }
   ],
   "source": [
    "pip install --upgrade pip"
   ]
  },
  {
   "cell_type": "code",
   "execution_count": 2,
   "id": "1b4f828f",
   "metadata": {},
   "outputs": [
    {
     "name": "stdout",
     "output_type": "stream",
     "text": [
      "Requirement already satisfied: tensorflow in c:\\users\\taeeu\\anaconda3\\lib\\site-packages (2.5.0)\n",
      "Requirement already satisfied: tensorflow-estimator<2.6.0,>=2.5.0rc0 in c:\\users\\taeeu\\anaconda3\\lib\\site-packages (from tensorflow) (2.5.0)\n",
      "Requirement already satisfied: wrapt~=1.12.1 in c:\\users\\taeeu\\anaconda3\\lib\\site-packages (from tensorflow) (1.12.1)\n",
      "Requirement already satisfied: wheel~=0.35 in c:\\users\\taeeu\\anaconda3\\lib\\site-packages (from tensorflow) (0.36.2)\n",
      "Requirement already satisfied: gast==0.4.0 in c:\\users\\taeeu\\anaconda3\\lib\\site-packages (from tensorflow) (0.4.0)\n",
      "Requirement already satisfied: keras-preprocessing~=1.1.2 in c:\\users\\taeeu\\anaconda3\\lib\\site-packages (from tensorflow) (1.1.2)\n",
      "Requirement already satisfied: opt-einsum~=3.3.0 in c:\\users\\taeeu\\anaconda3\\lib\\site-packages (from tensorflow) (3.3.0)\n",
      "Requirement already satisfied: tensorboard~=2.5 in c:\\users\\taeeu\\anaconda3\\lib\\site-packages (from tensorflow) (2.5.0)\n",
      "Requirement already satisfied: astunparse~=1.6.3 in c:\\users\\taeeu\\anaconda3\\lib\\site-packages (from tensorflow) (1.6.3)\n",
      "Requirement already satisfied: keras-nightly~=2.5.0.dev in c:\\users\\taeeu\\anaconda3\\lib\\site-packages (from tensorflow) (2.5.0.dev2021032900)\n",
      "Requirement already satisfied: six~=1.15.0 in c:\\users\\taeeu\\anaconda3\\lib\\site-packages (from tensorflow) (1.15.0)\n",
      "Requirement already satisfied: h5py~=3.1.0 in c:\\users\\taeeu\\anaconda3\\lib\\site-packages (from tensorflow) (3.1.0)\n",
      "Requirement already satisfied: google-pasta~=0.2 in c:\\users\\taeeu\\anaconda3\\lib\\site-packages (from tensorflow) (0.2.0)\n",
      "Requirement already satisfied: termcolor~=1.1.0 in c:\\users\\taeeu\\anaconda3\\lib\\site-packages (from tensorflow) (1.1.0)\n",
      "Requirement already satisfied: typing-extensions~=3.7.4 in c:\\users\\taeeu\\anaconda3\\lib\\site-packages (from tensorflow) (3.7.4.3)\n",
      "Requirement already satisfied: protobuf>=3.9.2 in c:\\users\\taeeu\\anaconda3\\lib\\site-packages (from tensorflow) (3.15.6)\n",
      "Collecting numpy~=1.19.2\n",
      "  Using cached numpy-1.19.5-cp38-cp38-win_amd64.whl (13.3 MB)\n",
      "Requirement already satisfied: grpcio~=1.34.0 in c:\\users\\taeeu\\anaconda3\\lib\\site-packages (from tensorflow) (1.34.1)\n",
      "Requirement already satisfied: flatbuffers~=1.12.0 in c:\\users\\taeeu\\anaconda3\\lib\\site-packages (from tensorflow) (1.12)\n",
      "Requirement already satisfied: absl-py~=0.10 in c:\\users\\taeeu\\anaconda3\\lib\\site-packages (from tensorflow) (0.13.0)\n",
      "Requirement already satisfied: google-auth-oauthlib<0.5,>=0.4.1 in c:\\users\\taeeu\\anaconda3\\lib\\site-packages (from tensorboard~=2.5->tensorflow) (0.4.4)\n",
      "Requirement already satisfied: tensorboard-plugin-wit>=1.6.0 in c:\\users\\taeeu\\anaconda3\\lib\\site-packages (from tensorboard~=2.5->tensorflow) (1.8.0)\n",
      "Requirement already satisfied: setuptools>=41.0.0 in c:\\users\\taeeu\\anaconda3\\lib\\site-packages (from tensorboard~=2.5->tensorflow) (49.6.0.post20210108)\n",
      "Requirement already satisfied: werkzeug>=0.11.15 in c:\\users\\taeeu\\anaconda3\\lib\\site-packages (from tensorboard~=2.5->tensorflow) (2.0.3)\n",
      "Requirement already satisfied: markdown>=2.6.8 in c:\\users\\taeeu\\anaconda3\\lib\\site-packages (from tensorboard~=2.5->tensorflow) (3.3.4)\n",
      "Requirement already satisfied: requests<3,>=2.21.0 in c:\\users\\taeeu\\anaconda3\\lib\\site-packages (from tensorboard~=2.5->tensorflow) (2.26.0)\n",
      "Requirement already satisfied: tensorboard-data-server<0.7.0,>=0.6.0 in c:\\users\\taeeu\\anaconda3\\lib\\site-packages (from tensorboard~=2.5->tensorflow) (0.6.1)\n",
      "Requirement already satisfied: google-auth<2,>=1.6.3 in c:\\users\\taeeu\\anaconda3\\lib\\site-packages (from tensorboard~=2.5->tensorflow) (1.28.0)\n",
      "Requirement already satisfied: rsa<5,>=3.1.4 in c:\\users\\taeeu\\anaconda3\\lib\\site-packages (from google-auth<2,>=1.6.3->tensorboard~=2.5->tensorflow) (4.7.2)\n",
      "Requirement already satisfied: cachetools<5.0,>=2.0.0 in c:\\users\\taeeu\\anaconda3\\lib\\site-packages (from google-auth<2,>=1.6.3->tensorboard~=2.5->tensorflow) (4.2.1)\n",
      "Requirement already satisfied: pyasn1-modules>=0.2.1 in c:\\users\\taeeu\\anaconda3\\lib\\site-packages (from google-auth<2,>=1.6.3->tensorboard~=2.5->tensorflow) (0.2.8)\n",
      "Requirement already satisfied: requests-oauthlib>=0.7.0 in c:\\users\\taeeu\\anaconda3\\lib\\site-packages (from google-auth-oauthlib<0.5,>=0.4.1->tensorboard~=2.5->tensorflow) (1.3.0)\n",
      "Requirement already satisfied: urllib3<1.27,>=1.21.1 in c:\\users\\taeeu\\anaconda3\\lib\\site-packages (from requests<3,>=2.21.0->tensorboard~=2.5->tensorflow) (1.26.6)\n",
      "Requirement already satisfied: certifi>=2017.4.17 in c:\\users\\taeeu\\anaconda3\\lib\\site-packages (from requests<3,>=2.21.0->tensorboard~=2.5->tensorflow) (2021.5.30)\n",
      "Requirement already satisfied: idna<4,>=2.5 in c:\\users\\taeeu\\anaconda3\\lib\\site-packages (from requests<3,>=2.21.0->tensorboard~=2.5->tensorflow) (3.1)\n",
      "Requirement already satisfied: charset-normalizer~=2.0.0 in c:\\users\\taeeu\\anaconda3\\lib\\site-packages (from requests<3,>=2.21.0->tensorboard~=2.5->tensorflow) (2.0.0)\n",
      "Requirement already satisfied: pyasn1<0.5.0,>=0.4.6 in c:\\users\\taeeu\\anaconda3\\lib\\site-packages (from pyasn1-modules>=0.2.1->google-auth<2,>=1.6.3->tensorboard~=2.5->tensorflow) (0.4.8)\n",
      "Requirement already satisfied: oauthlib>=3.0.0 in c:\\users\\taeeu\\anaconda3\\lib\\site-packages (from requests-oauthlib>=0.7.0->google-auth-oauthlib<0.5,>=0.4.1->tensorboard~=2.5->tensorflow) (3.1.0)\n",
      "Installing collected packages: numpy\n",
      "  Attempting uninstall: numpy\n",
      "    Found existing installation: numpy 1.22.2\n",
      "    Uninstalling numpy-1.22.2:\n",
      "      Successfully uninstalled numpy-1.22.2\n",
      "  Rolling back uninstall of numpy\n",
      "  Moving to c:\\users\\taeeu\\anaconda3\\lib\\site-packages\\numpy-1.22.2.dist-info\\\n",
      "   from C:\\Users\\taeeu\\anaconda3\\Lib\\site-packages\\~umpy-1.22.2.dist-info\n",
      "  Moving to c:\\users\\taeeu\\anaconda3\\lib\\site-packages\\numpy\\.libs\\libopenblas.el2c6ple4zyw3eceviv3oxxgrn2nrfm2.gfortran-win_amd64.dll\n",
      "   from C:\\Users\\Public\\Documents\\ESTsoft\\CreatorTemp\\pip-uninstall-6df5qj8n\\libopenblas.el2c6ple4zyw3eceviv3oxxgrn2nrfm2.gfortran-win_amd64.dll\n",
      "  Moving to c:\\users\\taeeu\\anaconda3\\lib\\site-packages\\numpy\\__config__.py\n",
      "   from C:\\Users\\Public\\Documents\\ESTsoft\\CreatorTemp\\pip-uninstall-1kr465k8\\__config__.py\n",
      "  Moving to c:\\users\\taeeu\\anaconda3\\lib\\site-packages\\numpy\\__init__.cython-30.pxd\n",
      "   from C:\\Users\\Public\\Documents\\ESTsoft\\CreatorTemp\\pip-uninstall-1kr465k8\\__init__.cython-30.pxd\n",
      "  Moving to c:\\users\\taeeu\\anaconda3\\lib\\site-packages\\numpy\\__init__.pxd\n",
      "   from C:\\Users\\Public\\Documents\\ESTsoft\\CreatorTemp\\pip-uninstall-1kr465k8\\__init__.pxd\n",
      "  Moving to c:\\users\\taeeu\\anaconda3\\lib\\site-packages\\numpy\\__init__.py\n",
      "   from C:\\Users\\Public\\Documents\\ESTsoft\\CreatorTemp\\pip-uninstall-1kr465k8\\__init__.py\n",
      "  Moving to c:\\users\\taeeu\\anaconda3\\lib\\site-packages\\numpy\\__init__.pyi\n",
      "   from C:\\Users\\Public\\Documents\\ESTsoft\\CreatorTemp\\pip-uninstall-1kr465k8\\__init__.pyi\n",
      "  Moving to c:\\users\\taeeu\\anaconda3\\lib\\site-packages\\numpy\\__pycache__\\\n",
      "   from C:\\Users\\taeeu\\anaconda3\\Lib\\site-packages\\numpy\\~_pycache__\n",
      "  Moving to c:\\users\\taeeu\\anaconda3\\lib\\site-packages\\numpy\\_distributor_init.py\n",
      "   from C:\\Users\\Public\\Documents\\ESTsoft\\CreatorTemp\\pip-uninstall-1kr465k8\\_distributor_init.py\n",
      "  Moving to c:\\users\\taeeu\\anaconda3\\lib\\site-packages\\numpy\\_globals.py\n",
      "   from C:\\Users\\Public\\Documents\\ESTsoft\\CreatorTemp\\pip-uninstall-1kr465k8\\_globals.py\n",
      "  Moving to c:\\users\\taeeu\\anaconda3\\lib\\site-packages\\numpy\\_pytesttester.py\n",
      "   from C:\\Users\\Public\\Documents\\ESTsoft\\CreatorTemp\\pip-uninstall-1kr465k8\\_pytesttester.py\n",
      "  Moving to c:\\users\\taeeu\\anaconda3\\lib\\site-packages\\numpy\\_pytesttester.pyi\n",
      "   from C:\\Users\\Public\\Documents\\ESTsoft\\CreatorTemp\\pip-uninstall-1kr465k8\\_pytesttester.pyi\n",
      "  Moving to c:\\users\\taeeu\\anaconda3\\lib\\site-packages\\numpy\\_version.py\n",
      "   from C:\\Users\\Public\\Documents\\ESTsoft\\CreatorTemp\\pip-uninstall-1kr465k8\\_version.py\n",
      "  Moving to c:\\users\\taeeu\\anaconda3\\lib\\site-packages\\numpy\\array_api\\\n",
      "   from C:\\Users\\taeeu\\anaconda3\\Lib\\site-packages\\numpy\\~rray_api\n",
      "  Moving to c:\\users\\taeeu\\anaconda3\\lib\\site-packages\\numpy\\compat\\\n",
      "   from C:\\Users\\taeeu\\anaconda3\\Lib\\site-packages\\numpy\\~ompat\n",
      "  Moving to c:\\users\\taeeu\\anaconda3\\lib\\site-packages\\numpy\\conftest.py\n",
      "   from C:\\Users\\Public\\Documents\\ESTsoft\\CreatorTemp\\pip-uninstall-1kr465k8\\conftest.py\n",
      "  Moving to c:\\users\\taeeu\\anaconda3\\lib\\site-packages\\numpy\\core\\\n",
      "   from C:\\Users\\taeeu\\anaconda3\\Lib\\site-packages\\numpy\\~ore\n",
      "  Moving to c:\\users\\taeeu\\anaconda3\\lib\\site-packages\\numpy\\ctypeslib.py\n",
      "   from C:\\Users\\Public\\Documents\\ESTsoft\\CreatorTemp\\pip-uninstall-1kr465k8\\ctypeslib.py\n",
      "  Moving to c:\\users\\taeeu\\anaconda3\\lib\\site-packages\\numpy\\ctypeslib.pyi\n",
      "   from C:\\Users\\Public\\Documents\\ESTsoft\\CreatorTemp\\pip-uninstall-1kr465k8\\ctypeslib.pyi\n",
      "  Moving to c:\\users\\taeeu\\anaconda3\\lib\\site-packages\\numpy\\distutils\\\n",
      "   from C:\\Users\\taeeu\\anaconda3\\Lib\\site-packages\\numpy\\~istutils\n",
      "  Moving to c:\\users\\taeeu\\anaconda3\\lib\\site-packages\\numpy\\doc\\\n",
      "   from C:\\Users\\taeeu\\anaconda3\\Lib\\site-packages\\numpy\\~oc\n",
      "  Moving to c:\\users\\taeeu\\anaconda3\\lib\\site-packages\\numpy\\dual.py\n",
      "   from C:\\Users\\Public\\Documents\\ESTsoft\\CreatorTemp\\pip-uninstall-1kr465k8\\dual.py\n",
      "  Moving to c:\\users\\taeeu\\anaconda3\\lib\\site-packages\\numpy\\f2py\\\n",
      "   from C:\\Users\\taeeu\\anaconda3\\Lib\\site-packages\\numpy\\~2py\n",
      "  Moving to c:\\users\\taeeu\\anaconda3\\lib\\site-packages\\numpy\\fft\\\n",
      "   from C:\\Users\\taeeu\\anaconda3\\Lib\\site-packages\\numpy\\~ft\n",
      "  Moving to c:\\users\\taeeu\\anaconda3\\lib\\site-packages\\numpy\\lib\\\n",
      "   from C:\\Users\\taeeu\\anaconda3\\Lib\\site-packages\\numpy\\~ib\n",
      "  Moving to c:\\users\\taeeu\\anaconda3\\lib\\site-packages\\numpy\\license.txt\n",
      "   from C:\\Users\\Public\\Documents\\ESTsoft\\CreatorTemp\\pip-uninstall-1kr465k8\\license.txt\n",
      "  Moving to c:\\users\\taeeu\\anaconda3\\lib\\site-packages\\numpy\\linalg\\\n",
      "   from C:\\Users\\taeeu\\anaconda3\\Lib\\site-packages\\numpy\\~inalg\n",
      "  Moving to c:\\users\\taeeu\\anaconda3\\lib\\site-packages\\numpy\\ma\\\n",
      "   from C:\\Users\\taeeu\\anaconda3\\Lib\\site-packages\\numpy\\~a\n",
      "  Moving to c:\\users\\taeeu\\anaconda3\\lib\\site-packages\\numpy\\matlib.py\n",
      "   from C:\\Users\\Public\\Documents\\ESTsoft\\CreatorTemp\\pip-uninstall-1kr465k8\\matlib.py\n",
      "  Moving to c:\\users\\taeeu\\anaconda3\\lib\\site-packages\\numpy\\matrixlib\\\n",
      "   from C:\\Users\\taeeu\\anaconda3\\Lib\\site-packages\\numpy\\~atrixlib\n",
      "  Moving to c:\\users\\taeeu\\anaconda3\\lib\\site-packages\\numpy\\polynomial\\\n",
      "   from C:\\Users\\taeeu\\anaconda3\\Lib\\site-packages\\numpy\\~olynomial\n",
      "  Moving to c:\\users\\taeeu\\anaconda3\\lib\\site-packages\\numpy\\py.typed\n",
      "   from C:\\Users\\Public\\Documents\\ESTsoft\\CreatorTemp\\pip-uninstall-1kr465k8\\py.typed\n",
      "  Moving to c:\\users\\taeeu\\anaconda3\\lib\\site-packages\\numpy\\random\\\n",
      "   from C:\\Users\\taeeu\\anaconda3\\Lib\\site-packages\\numpy\\~andom\n",
      "  Moving to c:\\users\\taeeu\\anaconda3\\lib\\site-packages\\numpy\\setup.py\n",
      "   from C:\\Users\\Public\\Documents\\ESTsoft\\CreatorTemp\\pip-uninstall-1kr465k8\\setup.py\n",
      "  Moving to c:\\users\\taeeu\\anaconda3\\lib\\site-packages\\numpy\\testing\\\n",
      "   from C:\\Users\\taeeu\\anaconda3\\Lib\\site-packages\\numpy\\~esting\n",
      "  Moving to c:\\users\\taeeu\\anaconda3\\lib\\site-packages\\numpy\\tests\\\n",
      "   from C:\\Users\\taeeu\\anaconda3\\Lib\\site-packages\\numpy\\~ests\n",
      "  Moving to c:\\users\\taeeu\\anaconda3\\lib\\site-packages\\numpy\\typing\\\n",
      "   from C:\\Users\\taeeu\\anaconda3\\Lib\\site-packages\\numpy\\~yping\n",
      "  Moving to c:\\users\\taeeu\\anaconda3\\lib\\site-packages\\numpy\\version.py\n",
      "   from C:\\Users\\Public\\Documents\\ESTsoft\\CreatorTemp\\pip-uninstall-1kr465k8\\version.py\n",
      "  Moving to c:\\users\\taeeu\\anaconda3\\scripts\\f2py.exe\n",
      "   from C:\\Users\\Public\\Documents\\ESTsoft\\CreatorTemp\\pip-uninstall-d2ppzqe7\\f2py.exe\n",
      "Note: you may need to restart the kernel to use updated packages.\n"
     ]
    },
    {
     "name": "stderr",
     "output_type": "stream",
     "text": [
      "  WARNING: No metadata found in c:\\users\\taeeu\\anaconda3\\lib\\site-packages\n",
      "ERROR: Could not install packages due to an OSError: [WinError 5] 액세스가 거부되었습니다: 'C:\\\\Users\\\\taeeu\\\\anaconda3\\\\Lib\\\\site-packages\\\\numpy\\\\.libs\\\\libopenblas.WCDJNK7YVMPZQ2ME2ZZHJJRJ3JIKNDB7.gfortran-win_amd64.dll'\n",
      "Consider using the `--user` option or check the permissions.\n",
      "\n"
     ]
    }
   ],
   "source": [
    "pip install tensorflow"
   ]
  },
  {
   "cell_type": "code",
   "execution_count": 3,
   "id": "f05a38b5",
   "metadata": {},
   "outputs": [
    {
     "name": "stderr",
     "output_type": "stream",
     "text": [
      "C:\\Users\\taeeu\\anaconda3\\lib\\site-packages\\numpy\\_distributor_init.py:30: UserWarning: loaded more than 1 DLL from .libs:\n",
      "C:\\Users\\taeeu\\anaconda3\\lib\\site-packages\\numpy\\.libs\\libopenblas.el2c6ple4zyw3eceviv3oxxgrn2nrfm2.gfortran-win_amd64.dll\n",
      "C:\\Users\\taeeu\\anaconda3\\lib\\site-packages\\numpy\\.libs\\libopenblas.WCDJNK7YVMPZQ2ME2ZZHJJRJ3JIKNDB7.gfortran-win_amd64.dll\n",
      "  warnings.warn(\"loaded more than 1 DLL from .libs:\"\n"
     ]
    }
   ],
   "source": [
    "import numpy as np\n",
    "import os\n",
    "import tensorflow as tf"
   ]
  },
  {
   "cell_type": "code",
   "execution_count": 4,
   "id": "dd57a39d",
   "metadata": {},
   "outputs": [],
   "source": [
    "from tensorflow.keras.datasets import cifar10\n",
    "from tensorflow.keras.models import Sequential\n",
    "from tensorflow.keras.layers import Dense, Dropout, Activation\n",
    "from tensorflow.keras.optimizers import Adam\n",
    "from tensorflow.keras.utils import to_categorical"
   ]
  },
  {
   "cell_type": "markdown",
   "id": "65646c59",
   "metadata": {},
   "source": [
    "# 1) 데이터 로딩"
   ]
  },
  {
   "cell_type": "code",
   "execution_count": 5,
   "id": "14b00ab8",
   "metadata": {},
   "outputs": [],
   "source": [
    "np.random.seed(100)\n",
    "# keras의 cifar10데이터를 로드해옴\n",
    "(x_train, y_train), (x_test, y_test) = cifar10.load_data()\n",
    "# 50000개-training 이미지, 10000개-test 이미지"
   ]
  },
  {
   "cell_type": "code",
   "execution_count": 6,
   "id": "fa4ffd44",
   "metadata": {},
   "outputs": [
    {
     "name": "stdout",
     "output_type": "stream",
     "text": [
      "X_train : (50000, 32, 32, 3)\n",
      "y_train : (50000, 1)\n",
      "X_test : (10000, 32, 32, 3)\n",
      "y_test : (10000, 1)\n"
     ]
    }
   ],
   "source": [
    "# train\n",
    "# 32*32*3=3072bytes => 3개의 채널\n",
    "print(\"X_train :\", x_train.shape)\n",
    "# 비행기/자동차/새/고양이/사슴/개/개구리/말/배/트럭 중 하나\n",
    "print(\"y_train :\", y_train.shape)\n",
    "\n",
    "# test\n",
    "print(\"X_test :\", x_test.shape)\n",
    "print(\"y_test :\", y_test.shape)"
   ]
  },
  {
   "cell_type": "code",
   "execution_count": 7,
   "id": "30bd9552",
   "metadata": {
    "scrolled": true
   },
   "outputs": [
    {
     "name": "stdout",
     "output_type": "stream",
     "text": [
      "[6], "
     ]
    },
    {
     "data": {
      "image/png": "[encoded data removed]",
      "text/plain": [
       "<Figure size 432x288 with 1 Axes>"
      ]
     },
     "metadata": {
      "needs_background": "light"
     },
     "output_type": "display_data"
    },
    {
     "name": "stdout",
     "output_type": "stream",
     "text": [
      "[9], "
     ]
    },
    {
     "data": {
      "image/png": "[encoded data removed]",
      "text/plain": [
       "<Figure size 432x288 with 1 Axes>"
      ]
     },
     "metadata": {
      "needs_background": "light"
     },
     "output_type": "display_data"
    },
    {
     "name": "stdout",
     "output_type": "stream",
     "text": [
      "[9], "
     ]
    },
    {
     "data": {
      "image/png": "[encoded data removed]",
      "text/plain": [
       "<Figure size 432x288 with 1 Axes>"
      ]
     },
     "metadata": {
      "needs_background": "light"
     },
     "output_type": "display_data"
    },
    {
     "name": "stdout",
     "output_type": "stream",
     "text": [
      "[4], "
     ]
    },
    {
     "data": {
      "image/png": "[encoded data removed]",
      "text/plain": [
       "<Figure size 432x288 with 1 Axes>"
      ]
     },
     "metadata": {
      "needs_background": "light"
     },
     "output_type": "display_data"
    },
    {
     "name": "stdout",
     "output_type": "stream",
     "text": [
      "[1], "
     ]
    },
    {
     "data": {
      "image/png": "[encoded data removed]",
      "text/plain": [
       "<Figure size 432x288 with 1 Axes>"
      ]
     },
     "metadata": {
      "needs_background": "light"
     },
     "output_type": "display_data"
    }
   ],
   "source": [
    "#데이터의 생김새 확인\n",
    "import matplotlib.pyplot as plt\n",
    "%matplotlib inline\n",
    "\n",
    "for i in range(5):\n",
    "    plt.imshow(x_train[i])\n",
    "    print(y_train[i], end=\", \")\n",
    "    plt.show()"
   ]
  },
  {
   "cell_type": "markdown",
   "id": "e2bf5ae6",
   "metadata": {},
   "source": [
    "# 2) 데이터 전처리"
   ]
  },
  {
   "cell_type": "code",
   "execution_count": 8,
   "id": "3c612588",
   "metadata": {},
   "outputs": [],
   "source": [
    "# 3차원-> 1차원으로 만들고 정규화시킴, y라벨은 -벡터로 변환\n",
    "x_train=x_train.reshape(50000, 3072)\n",
    "x_test=x_test.reshape(10000, 3072)\n",
    "\n",
    "# 정규화!\n",
    "# 이미지 : 픽셀 정보를 0~255사이로 가지는데 이를 정규화하여 0과 1 사이의 값을 갖게 해줌\n",
    "x_train=(x_train-np.mean(x_train))/np.std(x_train)\n",
    "x_test=(x_test-np.mean(x_test))/np.std(x_test)"
   ]
  },
  {
   "cell_type": "code",
   "execution_count": 9,
   "id": "1d04b081",
   "metadata": {},
   "outputs": [
    {
     "name": "stdout",
     "output_type": "stream",
     "text": [
      "y_train : [[0. 0. 0. ... 0. 0. 0.]\n",
      " [0. 0. 0. ... 0. 0. 1.]\n",
      " [0. 0. 0. ... 0. 0. 1.]\n",
      " ...\n",
      " [0. 0. 0. ... 0. 0. 1.]\n",
      " [0. 1. 0. ... 0. 0. 0.]\n",
      " [0. 1. 0. ... 0. 0. 0.]]\n",
      "y_text : [[0. 0. 0. ... 0. 0. 0.]\n",
      " [0. 0. 0. ... 0. 1. 0.]\n",
      " [0. 0. 0. ... 0. 1. 0.]\n",
      " ...\n",
      " [0. 0. 0. ... 0. 0. 0.]\n",
      " [0. 1. 0. ... 0. 0. 0.]\n",
      " [0. 0. 0. ... 1. 0. 0.]]\n"
     ]
    }
   ],
   "source": [
    "# 10개의 Y값을 원핫인코딩을 통해서 벡터로 변환\n",
    "# label을 (one-hot vector로 변환)\n",
    "labels=10\n",
    "y_train=to_categorical(y_train, labels)\n",
    "y_test=to_categorical(y_test, labels)\n",
    "y_train\n",
    "\n",
    "print(\"y_train :\", y_train)\n",
    "print(\"y_text :\", y_test)"
   ]
  },
  {
   "cell_type": "markdown",
   "id": "a3a9de39",
   "metadata": {},
   "source": [
    "# 3) 모델 정의 - 딥러닝 구현"
   ]
  },
  {
   "cell_type": "code",
   "execution_count": 10,
   "id": "ef90ef19",
   "metadata": {},
   "outputs": [],
   "source": [
    "# 이미 그려둔 그래프가 있다면 날려줘\n",
    "# model에 순차적으로 레이어를 쌓아가겠다는 의도!\n",
    "\n",
    "model=Sequential()"
   ]
  },
  {
   "cell_type": "code",
   "execution_count": 11,
   "id": "4271a2d6",
   "metadata": {},
   "outputs": [],
   "source": [
    "# 첫번째 레이어를 만들음\n",
    "model.add(Dense(512, input_shape=(3072,), activation='relu', name='Hidden1'))\n",
    "# 3072 input variables \n",
    "# 512 노드/뉴런\n",
    "model.add(Dense(120, activation='relu', name='Hidden2'))\n",
    "model.add(Dense(512, activation='relu', name='Hidden3'))\n",
    "\n",
    "model.add(Dense(10, activation='sigmoid'))"
   ]
  },
  {
   "cell_type": "code",
   "execution_count": 12,
   "id": "5e34aaae",
   "metadata": {},
   "outputs": [],
   "source": [
    "# compile : 모델을 학습시키기 위한 학습과정을 설계하는 단계\n",
    "# 1. loss='categorical_crossentropy':손실함수 지정/손실함수를 최소화하는 방향으로 가중치와 역치를 수정/대표함수중 하나인 categorical_crossentropy\n",
    "# 2. optimizer='ada':훈련과정 설정. 이 함수를 최적화하는 방향으로 학습이 일어나는 대표적인 함수 중 하나인 'adam' 사용\n",
    "# 3. metrics=['accuracy']:학습과정에서 정확도를 수집, 훈련과정을 모니터링 하는 과정\n",
    "model.compile(loss = 'categorical_crossentropy',optimizer = 'adam',metrics=['accuracy'])"
   ]
  },
  {
   "cell_type": "code",
   "execution_count": 13,
   "id": "aa8e2d00",
   "metadata": {},
   "outputs": [
    {
     "name": "stdout",
     "output_type": "stream",
     "text": [
      "Epoch 1/10\n",
      "49/49 [==============================] - 31s 504ms/step - loss: 1.7604 - accuracy: 0.3781 - val_loss: 1.5584 - val_accuracy: 0.4480\n",
      "Epoch 2/10\n",
      "49/49 [==============================] - 12s 253ms/step - loss: 1.4775 - accuracy: 0.4831 - val_loss: 1.4564 - val_accuracy: 0.4841\n",
      "Epoch 3/10\n",
      "49/49 [==============================] - 7s 144ms/step - loss: 1.3463 - accuracy: 0.5247 - val_loss: 1.4298 - val_accuracy: 0.5010\n",
      "Epoch 4/10\n",
      "49/49 [==============================] - 11s 233ms/step - loss: 1.2470 - accuracy: 0.5622 - val_loss: 1.4061 - val_accuracy: 0.5052\n",
      "Epoch 5/10\n",
      "49/49 [==============================] - 9s 177ms/step - loss: 1.1588 - accuracy: 0.5927 - val_loss: 1.3960 - val_accuracy: 0.5154\n",
      "Epoch 6/10\n",
      "49/49 [==============================] - 8s 157ms/step - loss: 1.0644 - accuracy: 0.6290 - val_loss: 1.3952 - val_accuracy: 0.5256\n",
      "Epoch 7/10\n",
      "49/49 [==============================] - 8s 160ms/step - loss: 0.9813 - accuracy: 0.6553 - val_loss: 1.3917 - val_accuracy: 0.5343\n",
      "Epoch 8/10\n",
      "49/49 [==============================] - 9s 194ms/step - loss: 0.9127 - accuracy: 0.6807 - val_loss: 1.4308 - val_accuracy: 0.5242\n",
      "Epoch 9/10\n",
      "49/49 [==============================] - 8s 154ms/step - loss: 0.8400 - accuracy: 0.7077 - val_loss: 1.4889 - val_accuracy: 0.5212\n",
      "Epoch 10/10\n",
      "49/49 [==============================] - 8s 166ms/step - loss: 0.7593 - accuracy: 0.7380 - val_loss: 1.4949 - val_accuracy: 0.5355\n"
     ]
    },
    {
     "data": {
      "text/plain": [
       "<tensorflow.python.keras.callbacks.History at 0x13d06786910>"
      ]
     },
     "execution_count": 13,
     "metadata": {},
     "output_type": "execute_result"
    }
   ],
   "source": [
    "# model fit\n",
    "# epochs : 10번 반복한다는 의미\n",
    "# batch_size : 한번에 몇개씩 학습하는지? => 1024개씩 학습된다고 치면\n",
    "# 학습데이터%batch_size=한 에포크당 몇번의 반복을 하는지\n",
    "model.fit(x_train, y_train, batch_size=1024, epochs=10, validation_data=(x_test, y_test), verbose=1)"
   ]
  },
  {
   "cell_type": "markdown",
   "id": "aecb9465",
   "metadata": {},
   "source": [
    "# 4) 모델 평가"
   ]
  },
  {
   "cell_type": "code",
   "execution_count": 15,
   "id": "14009f1e",
   "metadata": {},
   "outputs": [
    {
     "name": "stdout",
     "output_type": "stream",
     "text": [
      "313/313 [==============================] - 4s 12ms/step - loss: 1.4949 - accuracy: 0.5355\n",
      "loss= 1.4948575496673584 test accuracy(정답율):  53.54999899864197\n"
     ]
    }
   ],
   "source": [
    "# 모델 평가\n",
    "# verbose : 얼마나 자세하게 정보를 표시할 것인가?\n",
    "score=model.evaluate(x_test, y_test, verbose = 1)\n",
    "print(\"loss=\", score[0], 'test accuracy(정답율): ', score[1]*100)"
   ]
  },
  {
   "cell_type": "code",
   "execution_count": 16,
   "id": "3a805148",
   "metadata": {},
   "outputs": [
    {
     "name": "stderr",
     "output_type": "stream",
     "text": [
      "C:\\Users\\taeeu\\anaconda3\\lib\\site-packages\\tensorflow\\python\\keras\\engine\\sequential.py:455: UserWarning: `model.predict_classes()` is deprecated and will be removed after 2021-01-01. Please use instead:* `np.argmax(model.predict(x), axis=-1)`,   if your model does multi-class classification   (e.g. if it uses a `softmax` last-layer activation).* `(model.predict(x) > 0.5).astype(\"int32\")`,   if your model does binary classification   (e.g. if it uses a `sigmoid` last-layer activation).\n",
      "  warnings.warn('`model.predict_classes()` is deprecated and '\n"
     ]
    },
    {
     "name": "stdout",
     "output_type": "stream",
     "text": [
      "[5 8 0 ... 2 6 7]\n"
     ]
    }
   ],
   "source": [
    "# 결과 예측\n",
    "result_predict=model.predict_classes(x_test)\n",
    "print(result_predict)\n",
    "# 첫번째 사진부터 5번째 클래스로 예측..두번째 사진은 8번째 클래스로 예측"
   ]
  }
 ],
 "metadata": {
  "kernelspec": {
   "display_name": "Python 3 (ipykernel)",
   "language": "python",
   "name": "python3"
  },
  "language_info": {
   "codemirror_mode": {
    "name": "ipython",
    "version": 3
   },
   "file_extension": ".py",
   "mimetype": "text/x-python",
   "name": "python",
   "nbconvert_exporter": "python",
   "pygments_lexer": "ipython3",
   "version": "3.8.5"
  }
 },
 "nbformat": 4,
 "nbformat_minor": 5
}
